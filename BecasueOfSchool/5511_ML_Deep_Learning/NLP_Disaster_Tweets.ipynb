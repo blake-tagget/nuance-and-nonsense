{
 "cells": [
  {
   "cell_type": "markdown",
   "metadata": {
    "id": "fCt41FQqvYSE"
   },
   "source": [
    "# Recurrent Neural Network Assignment for my MS-DS 5511 Deep Learning Course\n",
    "\n",
    "## Project Overview / Description\n",
    "\n",
    "There are many \"micro-blog\" websites out there where people post statuses and updates in real time. One very popular one is Twitter where the posts are called \"tweets.\" Additionally, many public organizations are interested in crowdsourcing notable events from these tweets because humans are great sensors for physical things in the world. This kaggle competition focusses on using tweets for the purpose of capturing disasters. However, sometimes people make hyperbolic tweets. The goal of this notebook is to correctly classify wheather tweets are about real disasters or not.\n",
    "\n",
    "Furthermore, since this is an assignment for a course on Recurrent Neural Networks, we will be looking to use tensorflow to build a network. \n",
    "\n",
    "\n",
    "## Steps:\n",
    "### 1. Gather Data\n",
    "### 2. Perform EDA\n",
    "### 3. Model Architecture \n",
    "### 4. Results and Analysis\n",
    "### 5. Conclusion\n",
    "\n",
    "\n",
    "\n",
    "\n",
    "## Step 1: Connect to GDrive and Kaggle!\n",
    "\n",
    "First set some variables to make sure all the paths can be established. Then we grab our data in a consistent manner. This involves accessing the collab runtime file system, gdrive, and using kaggle's apis. \n",
    "\n",
    "Then download and unzip the files into your collab compute instance. Note for future: If using TPU then you need to load the data into Google Cloud storage. I ran out of energy to learn this part; I'm not too proud to say it. "
   ]
  },
  {
   "cell_type": "code",
   "execution_count": 1,
   "metadata": {
    "id": "glrBMkGuGq2q"
   },
   "outputs": [],
   "source": [
    "# Make sure you accept the competition terms first : https://www.kaggle.com/competitions/nlp-getting-started/data\n",
    "\n",
    "# specify the folder you want to place the unzipped kaggle files and the competition name (most likely the url)\n",
    "root = 'nlp_tweets'\n",
    "competition_name = 'nlp-getting-started'\n",
    "\n",
    "# look at the dataset on the kaggle website and fill in the below strings\n",
    "train_folder = f\"\"\"{root}/{'train'}/\"\"\"\n",
    "test_folder = f\"\"\"{root}/{'test'}/\"\"\""
   ]
  },
  {
   "cell_type": "code",
   "execution_count": 2,
   "metadata": {
    "id": "DjCouBmrpAha"
   },
   "outputs": [],
   "source": [
    "import os\n",
    "import subprocess\n",
    "import shlex\n",
    "\n",
    "# some helper functions \n",
    "\n",
    "# run shell commands \n",
    "\n",
    "def run_command(command):\n",
    "  '''\n",
    "  A function to run a shell process\n",
    "  '''\n",
    "  return subprocess.run(shlex.split(command), capture_output=True)\n",
    "\n",
    "# record timestamps - when we walk away, we want to come back and know how long things took.\n",
    "import time\n",
    "def stamp(thing):\n",
    "  '''\n",
    "  A function to print the current time so we can see how long things take\n",
    "  '''\n",
    "  print(thing,\"time =\",time.strftime(\"%D:%H:%M:%S\", time.localtime()))\n"
   ]
  },
  {
   "cell_type": "code",
   "execution_count": 3,
   "metadata": {
    "colab": {
     "base_uri": "https://localhost:8080/"
    },
    "id": "pLtWE-RxRIW1",
    "outputId": "e298daeb-2cde-4e0c-a44a-e9b553e01dad"
   },
   "outputs": [
    {
     "name": "stdout",
     "output_type": "stream",
     "text": [
      "Mounted at /content/gdrive\n",
      "rm: cannot remove '/root/.kaggle': No such file or directory\n"
     ]
    }
   ],
   "source": [
    "# google drive stuff\n",
    "\n",
    "# mount google drive connection and specify a path for the output.\n",
    "from google.colab import drive\n",
    "drive.mount('/content/gdrive', force_remount=True)\n",
    "\n",
    "gdrive_path =  f\"\"\"/content/gdrive/MyDrive/MS-DS/Machine Learning - 5511/{root}/\"\"\" \n",
    "\n",
    "# upload the API token : kaggle.json file downloaded from kaggle account page\n",
    "# you could put this kaggle.json file in your drive directly like it did \n",
    "\n",
    "kaggle_json_path = \"/content/gdrive/MyDrive/MS-DS/Machine Learning - 5511/kaggle.json\"\n",
    "cmd_kaggle_json_path = '\\ '.join(kaggle_json_path.split(' '))\n",
    "\n",
    "# or uncomment the below 2 lines to do an upload\n",
    "\n",
    "# from google.colab import files\n",
    "# files.upload()\n",
    "\n",
    "# kaggle doc link : https://www.kaggle.com/general/74235\n",
    "# connect to kaggle and upload the api token - https://github.com/Kaggle/kaggle-api \n",
    "!pip install -q kaggle\n",
    "!rm -r ~/.kaggle\n",
    "!mkdir ~/.kaggle\n",
    "!cp $cmd_kaggle_json_path ~/.kaggle/\n",
    "!chmod 600 ~/.kaggle/kaggle.json\n"
   ]
  },
  {
   "cell_type": "code",
   "execution_count": 4,
   "metadata": {
    "colab": {
     "base_uri": "https://localhost:8080/"
    },
    "id": "ANGn_jxbhBL2",
    "outputId": "87804184-1780-40ef-d998-a4453bef140e"
   },
   "outputs": [
    {
     "name": "stdout",
     "output_type": "stream",
     "text": [
      "start time = 06/05/23:12:42:21\n",
      "end time = 06/05/23:12:42:23\n",
      "Successfully downloaded and unzipped kaggle dataset to nlp_tweets\n",
      "Folders inside are:\n",
      "['train.csv', 'test.csv', 'sample_submission.csv']\n"
     ]
    }
   ],
   "source": [
    "\n",
    "\n",
    "\n",
    "stamp('start')\n",
    "# download the zip file in this collab runtime\n",
    "# !kaggle competitions download -c ${competition_name}\n",
    "run_command(f\"\"\"kaggle competitions download -c {competition_name}\"\"\")\n",
    "\n",
    "\n",
    "# unzip the file into a new folder\n",
    "# !mkdir cancer_dataset\n",
    "run_command(f\"\"\"mkdir {root}\"\"\")\n",
    "\n",
    "# !unzip -q ${competition_name}.zip -d ${root}\n",
    "run_command(f\"\"\"unzip -q {competition_name}.zip -d {root}\"\"\")\n",
    "\n",
    "stamp('end')\n",
    "print(f\"\"\"Successfully downloaded and unzipped kaggle dataset to {root}\"\"\")\n",
    "print(\"Folders inside are:\")\n",
    "print(os.listdir(root))"
   ]
  },
  {
   "cell_type": "code",
   "execution_count": 5,
   "metadata": {
    "id": "H2zqcOrQNYUD"
   },
   "outputs": [],
   "source": [
    "import pandas as pd\n",
    "import pickle\n",
    "import numpy as np\n",
    "# Make numpy values easier to read.\n",
    "np.set_printoptions(precision=3, suppress=True)\n",
    "\n",
    "\n",
    "\n",
    "from matplotlib import pyplot as plt"
   ]
  },
  {
   "cell_type": "markdown",
   "metadata": {
    "id": "E5C2ZDWw-UWR"
   },
   "source": [
    "## Step 2 : Perform EDA\n",
    "\n",
    "Let's do 3 basic steps:\n",
    "\n",
    "1. See how many rows in our csv files?\n",
    "2. What is the distribution of the training labels / targets?\n",
    "3. What's in our csv files?\n",
    "\n"
   ]
  },
  {
   "cell_type": "code",
   "execution_count": 6,
   "metadata": {
    "colab": {
     "base_uri": "https://localhost:8080/"
    },
    "id": "HHqLVeA7hOhn",
    "outputId": "15da2b53-dcba-420f-c8d4-2f1f7a84664a"
   },
   "outputs": [
    {
     "name": "stdout",
     "output_type": "stream",
     "text": [
      "We have 7613 training rows in our csv data set\n",
      "We also have 3263 test rows\n"
     ]
    }
   ],
   "source": [
    "# read in the labels. This is a supervised learning problem so our train target classifications are known.\n",
    "train = pd.read_csv(f\"\"\"{root}/train.csv\"\"\")\n",
    "\n",
    "# how many rows are in the trains csv?\n",
    "print(f\"\"\"We have {train.shape[0]} training rows in our csv data set\"\"\")\n",
    "\n",
    "# make a df of our testing image names. Here we do the opposite of the above to build the id column\n",
    "test = pd.read_csv(f\"\"\"{root}/test.csv\"\"\")\n",
    "\n",
    "# how many testing images do we have?\n",
    "print(f\"\"\"We also have {len(test)} test rows\"\"\")"
   ]
  },
  {
   "cell_type": "code",
   "execution_count": 7,
   "metadata": {
    "colab": {
     "base_uri": "https://localhost:8080/",
     "height": 472
    },
    "id": "WnVjy_DPGZ55",
    "outputId": "400a3406-13f5-40ec-ce09-1afa79369661"
   },
   "outputs": [
    {
     "data": {
      "image/png": "[encoded data removed]",
      "text/plain": [
       "<Figure size 640x480 with 1 Axes>"
      ]
     },
     "metadata": {},
     "output_type": "display_data"
    }
   ],
   "source": [
    "plt.bar(['Training Rows','Testing Rows'], [len(train),len(test)])\n",
    "plt.title('Population Size Comparison')\n",
    "plt.xlabel('Bucket')\n",
    "plt.ylabel('Tweet Volume')\n",
    "plt.show()"
   ]
  },
  {
   "cell_type": "code",
   "execution_count": 8,
   "metadata": {
    "colab": {
     "base_uri": "https://localhost:8080/",
     "height": 206
    },
    "id": "jMQXoupfPozp",
    "outputId": "69849720-36da-43e7-f463-a924ab002d30"
   },
   "outputs": [
    {
     "data": {
      "text/html": [
       "\n",
       "  <div id=\"df-cb5dde7a-9a4c-49b1-a7c7-fc67f5ae35de\">\n",
       "    <div class=\"colab-df-container\">\n",
       "      <div>\n",
       "<style scoped>\n",
       "    .dataframe tbody tr th:only-of-type {\n",
       "        vertical-align: middle;\n",
       "    }\n",
       "\n",
       "    .dataframe tbody tr th {\n",
       "        vertical-align: top;\n",
       "    }\n",
       "\n",
       "    .dataframe thead th {\n",
       "        text-align: right;\n",
       "    }\n",
       "</style>\n",
       "<table border=\"1\" class=\"dataframe\">\n",
       "  <thead>\n",
       "    <tr style=\"text-align: right;\">\n",
       "      <th></th>\n",
       "      <th>id</th>\n",
       "      <th>keyword</th>\n",
       "      <th>location</th>\n",
       "      <th>text</th>\n",
       "      <th>target</th>\n",
       "    </tr>\n",
       "  </thead>\n",
       "  <tbody>\n",
       "    <tr>\n",
       "      <th>0</th>\n",
       "      <td>1</td>\n",
       "      <td>NaN</td>\n",
       "      <td>NaN</td>\n",
       "      <td>Our Deeds are the Reason of this #earthquake M...</td>\n",
       "      <td>1</td>\n",
       "    </tr>\n",
       "    <tr>\n",
       "      <th>1</th>\n",
       "      <td>4</td>\n",
       "      <td>NaN</td>\n",
       "      <td>NaN</td>\n",
       "      <td>Forest fire near La Ronge Sask. Canada</td>\n",
       "      <td>1</td>\n",
       "    </tr>\n",
       "    <tr>\n",
       "      <th>2</th>\n",
       "      <td>5</td>\n",
       "      <td>NaN</td>\n",
       "      <td>NaN</td>\n",
       "      <td>All residents asked to 'shelter in place' are ...</td>\n",
       "      <td>1</td>\n",
       "    </tr>\n",
       "    <tr>\n",
       "      <th>3</th>\n",
       "      <td>6</td>\n",
       "      <td>NaN</td>\n",
       "      <td>NaN</td>\n",
       "      <td>13,000 people receive #wildfires evacuation or...</td>\n",
       "      <td>1</td>\n",
       "    </tr>\n",
       "    <tr>\n",
       "      <th>4</th>\n",
       "      <td>7</td>\n",
       "      <td>NaN</td>\n",
       "      <td>NaN</td>\n",
       "      <td>Just got sent this photo from Ruby #Alaska as ...</td>\n",
       "      <td>1</td>\n",
       "    </tr>\n",
       "  </tbody>\n",
       "</table>\n",
       "</div>\n",
       "      <button class=\"colab-df-convert\" onclick=\"convertToInteractive('df-cb5dde7a-9a4c-49b1-a7c7-fc67f5ae35de')\"\n",
       "              title=\"Convert this dataframe to an interactive table.\"\n",
       "              style=\"display:none;\">\n",
       "        \n",
       "  <svg xmlns=\"http://www.w3.org/2000/svg\" height=\"24px\"viewBox=\"0 0 24 24\"\n",
       "       width=\"24px\">\n",
       "    <path d=\"M0 0h24v24H0V0z\" fill=\"none\"/>\n",
       "    <path d=\"M18.56 5.44l.94 2.06.94-2.06 2.06-.94-2.06-.94-.94-2.06-.94 2.06-2.06.94zm-11 1L8.5 8.5l.94-2.06 2.06-.94-2.06-.94L8.5 2.5l-.94 2.06-2.06.94zm10 10l.94 2.06.94-2.06 2.06-.94-2.06-.94-.94-2.06-.94 2.06-2.06.94z\"/><path d=\"M17.41 7.96l-1.37-1.37c-.4-.4-.92-.59-1.43-.59-.52 0-1.04.2-1.43.59L10.3 9.45l-7.72 7.72c-.78.78-.78 2.05 0 2.83L4 21.41c.39.39.9.59 1.41.59.51 0 1.02-.2 1.41-.59l7.78-7.78 2.81-2.81c.8-.78.8-2.07 0-2.86zM5.41 20L4 18.59l7.72-7.72 1.47 1.35L5.41 20z\"/>\n",
       "  </svg>\n",
       "      </button>\n",
       "      \n",
       "  <style>\n",
       "    .colab-df-container {\n",
       "      display:flex;\n",
       "      flex-wrap:wrap;\n",
       "      gap: 12px;\n",
       "    }\n",
       "\n",
       "    .colab-df-convert {\n",
       "      background-color: #E8F0FE;\n",
       "      border: none;\n",
       "      border-radius: 50%;\n",
       "      cursor: pointer;\n",
       "      display: none;\n",
       "      fill: #1967D2;\n",
       "      height: 32px;\n",
       "      padding: 0 0 0 0;\n",
       "      width: 32px;\n",
       "    }\n",
       "\n",
       "    .colab-df-convert:hover {\n",
       "      background-color: #E2EBFA;\n",
       "      box-shadow: 0px 1px 2px rgba(60, 64, 67, 0.3), 0px 1px 3px 1px rgba(60, 64, 67, 0.15);\n",
       "      fill: #174EA6;\n",
       "    }\n",
       "\n",
       "    [theme=dark] .colab-df-convert {\n",
       "      background-color: #3B4455;\n",
       "      fill: #D2E3FC;\n",
       "    }\n",
       "\n",
       "    [theme=dark] .colab-df-convert:hover {\n",
       "      background-color: #434B5C;\n",
       "      box-shadow: 0px 1px 3px 1px rgba(0, 0, 0, 0.15);\n",
       "      filter: drop-shadow(0px 1px 2px rgba(0, 0, 0, 0.3));\n",
       "      fill: #FFFFFF;\n",
       "    }\n",
       "  </style>\n",
       "\n",
       "      <script>\n",
       "        const buttonEl =\n",
       "          document.querySelector('#df-cb5dde7a-9a4c-49b1-a7c7-fc67f5ae35de button.colab-df-convert');\n",
       "        buttonEl.style.display =\n",
       "          google.colab.kernel.accessAllowed ? 'block' : 'none';\n",
       "\n",
       "        async function convertToInteractive(key) {\n",
       "          const element = document.querySelector('#df-cb5dde7a-9a4c-49b1-a7c7-fc67f5ae35de');\n",
       "          const dataTable =\n",
       "            await google.colab.kernel.invokeFunction('convertToInteractive',\n",
       "                                                     [key], {});\n",
       "          if (!dataTable) return;\n",
       "\n",
       "          const docLinkHtml = 'Like what you see? Visit the ' +\n",
       "            '<a target=\"_blank\" href=https://colab.research.google.com/notebooks/data_table.ipynb>data table notebook</a>'\n",
       "            + ' to learn more about interactive tables.';\n",
       "          element.innerHTML = '';\n",
       "          dataTable['output_type'] = 'display_data';\n",
       "          await google.colab.output.renderOutput(dataTable, element);\n",
       "          const docLink = document.createElement('div');\n",
       "          docLink.innerHTML = docLinkHtml;\n",
       "          element.appendChild(docLink);\n",
       "        }\n",
       "      </script>\n",
       "    </div>\n",
       "  </div>\n",
       "  "
      ],
      "text/plain": [
       "   id keyword location                                               text  \\\n",
       "0   1     NaN      NaN  Our Deeds are the Reason of this #earthquake M...   \n",
       "1   4     NaN      NaN             Forest fire near La Ronge Sask. Canada   \n",
       "2   5     NaN      NaN  All residents asked to 'shelter in place' are ...   \n",
       "3   6     NaN      NaN  13,000 people receive #wildfires evacuation or...   \n",
       "4   7     NaN      NaN  Just got sent this photo from Ruby #Alaska as ...   \n",
       "\n",
       "   target  \n",
       "0       1  \n",
       "1       1  \n",
       "2       1  \n",
       "3       1  \n",
       "4       1  "
      ]
     },
     "execution_count": 8,
     "metadata": {},
     "output_type": "execute_result"
    }
   ],
   "source": [
    "# Let's look at our csv of labels and :\n",
    "\n",
    "train.head()"
   ]
  },
  {
   "cell_type": "code",
   "execution_count": 9,
   "metadata": {
    "colab": {
     "base_uri": "https://localhost:8080/"
    },
    "id": "pWoRmOzKTVDV",
    "outputId": "a613a4f2-13c7-4682-a7a0-5137ef00adee"
   },
   "outputs": [
    {
     "name": "stdout",
     "output_type": "stream",
     "text": [
      "Our training label csv is:\n",
      "<class 'pandas.core.frame.DataFrame'>\n",
      "RangeIndex: 7613 entries, 0 to 7612\n",
      "Data columns (total 5 columns):\n",
      " #   Column    Non-Null Count  Dtype \n",
      "---  ------    --------------  ----- \n",
      " 0   id        7613 non-null   int64 \n",
      " 1   keyword   7552 non-null   object\n",
      " 2   location  5080 non-null   object\n",
      " 3   text      7613 non-null   object\n",
      " 4   target    7613 non-null   int64 \n",
      "dtypes: int64(2), object(3)\n",
      "memory usage: 297.5+ KB\n"
     ]
    }
   ],
   "source": [
    "# let's take a quick peek at a summary of our training images details\n",
    "print(\"Our training label csv is:\")\n",
    "train.info()"
   ]
  },
  {
   "cell_type": "code",
   "execution_count": 10,
   "metadata": {
    "colab": {
     "base_uri": "https://localhost:8080/"
    },
    "id": "xcZNUywoXosV",
    "outputId": "49e3cbd8-2a2f-422d-a87f-4d032f42dcb9"
   },
   "outputs": [
    {
     "name": "stdout",
     "output_type": "stream",
     "text": [
      "Our traintestinging label csv is:\n",
      "<class 'pandas.core.frame.DataFrame'>\n",
      "RangeIndex: 3263 entries, 0 to 3262\n",
      "Data columns (total 4 columns):\n",
      " #   Column    Non-Null Count  Dtype \n",
      "---  ------    --------------  ----- \n",
      " 0   id        3263 non-null   int64 \n",
      " 1   keyword   3237 non-null   object\n",
      " 2   location  2158 non-null   object\n",
      " 3   text      3263 non-null   object\n",
      "dtypes: int64(1), object(3)\n",
      "memory usage: 102.1+ KB\n"
     ]
    }
   ],
   "source": [
    "# let's take a quick peek at a summary of our training images details\n",
    "print(\"Our traintestinging label csv is:\")\n",
    "test.info()"
   ]
  },
  {
   "cell_type": "code",
   "execution_count": 11,
   "metadata": {
    "colab": {
     "base_uri": "https://localhost:8080/"
    },
    "id": "lRGNfBwfXjgi",
    "outputId": "33c0171c-23d9-4f30-ca6f-947edc7dc7e3"
   },
   "outputs": [
    {
     "name": "stdout",
     "output_type": "stream",
     "text": [
      "1       1\n",
      "7229    1\n",
      "Name: id, dtype: int64\n",
      "0       1\n",
      "7293    1\n",
      "Name: id, dtype: int64\n"
     ]
    }
   ],
   "source": [
    "# we see that we have an id column - let's check if we have duplicate ids\n",
    "print(train['id'].value_counts().head(2))\n",
    "print(test['id'].value_counts().head(2))"
   ]
  },
  {
   "cell_type": "code",
   "execution_count": 12,
   "metadata": {
    "colab": {
     "base_uri": "https://localhost:8080/"
    },
    "id": "ZrMcuPYfNqsJ",
    "outputId": "0ee2df2b-16a8-4cfd-e839-89c29eccf1fd"
   },
   "outputs": [
    {
     "name": "stdout",
     "output_type": "stream",
     "text": [
      "Our label percentages are:\n"
     ]
    },
    {
     "data": {
      "text/plain": [
       "0    0.57034\n",
       "1    0.42966\n",
       "Name: target, dtype: float64"
      ]
     },
     "execution_count": 12,
     "metadata": {},
     "output_type": "execute_result"
    }
   ],
   "source": [
    "# what percentage of our data is what classification?\n",
    "print(\"Our label percentages are:\")\n",
    "train['target'].value_counts()/len(train)"
   ]
  },
  {
   "cell_type": "code",
   "execution_count": 13,
   "metadata": {
    "colab": {
     "base_uri": "https://localhost:8080/",
     "height": 424
    },
    "id": "mpyeigKPN6jh",
    "outputId": "5ebfe449-2496-491b-f4d3-fa61fe6039eb"
   },
   "outputs": [
    {
     "data": {
      "text/plain": [
       "<Axes: ylabel='target'>"
      ]
     },
     "execution_count": 13,
     "metadata": {},
     "output_type": "execute_result"
    },
    {
     "data": {
      "image/png": "[encoded data removed]",
      "text/plain": [
       "<Figure size 640x480 with 1 Axes>"
      ]
     },
     "metadata": {},
     "output_type": "display_data"
    }
   ],
   "source": [
    "# let's see those numbers in a pie chart, yum!\n",
    "(train['target'].value_counts()/len(train)).plot.pie(autopct='%1.1f%%')"
   ]
  },
  {
   "cell_type": "code",
   "execution_count": 14,
   "metadata": {
    "id": "LPrINy87YDCg"
   },
   "outputs": [],
   "source": [
    "# our final step is to do some prelim data formatting. In order to utilize tf, we need to convert from pandas series to numpy arrays\n",
    "\n",
    "train_text = np.array(train['text']) \n",
    "train_label = np.array(train['target']) \n",
    "test_text = np.array(test['text'])\n",
    "\n",
    "\n",
    "import tensorflow as tf\n",
    "from tensorflow.keras import layers\n",
    "\n",
    "train_dataset = tf.data.Dataset.from_tensor_slices((train_text, train_label))\n",
    "test_dataset = tf.data.Dataset.from_tensor_slices((test_text))\n"
   ]
  },
  {
   "cell_type": "markdown",
   "metadata": {
    "id": "zLtV5Qy_H5y-"
   },
   "source": [
    "### EDA Summary\n",
    "\n",
    "In the first 2 sections, we learned that we have simple csv files with our text. Our training set has ~7k tweets and our testing is ~3k tweets. Our training data is further split into hand classifications where ~43% of tweets are classified as relating to real disasters. We also see that we don;t have duplicate tweets in the raw csv files.\n",
    "\n",
    "Next we have to decide upon and build an RNN. TBD on how we have to pre-process our tweets into ngrams / timestamps and how we will want to lemmatize and or tokenize. "
   ]
  },
  {
   "cell_type": "markdown",
   "metadata": {
    "id": "IKbk7Ttw-b77"
   },
   "source": [
    "## Step 3 : Model Architecture \n",
    "\n",
    "Now that we have our data imported, we have to run it through a model. In our case we are including the encoding step inside the model architecture. In other cases and situations, the data transformation / pre-processing could be handeled in it's own model prior. \n",
    "\n",
    "Our general model will have a few steps. Each step might provide an opportunity for hyperparameter tuning. It's also important to note that this order is also generally representative of a more generic machine learning flow: \n",
    "1. Preprocess the text into a numerical representation\n",
    "2. Construct and Compile a model with many layers\n",
    "3. Fit our model with our training data\n",
    "4. Predict the classification of our testing data\n",
    "5. Analyze our results\n",
    "\n",
    "For our assignment we are gojng to keep the preprocessing constant so that we can better compare the two basic RNN layers we learned in the lections.\n",
    "1. Long Short-Term Memory (LSTM) \n",
    "2. Gated Recurrent Unit (GRU)\n",
    "\n",
    "We will basically follow the example here and make small tweaks as we want : https://www.tensorflow.org/text/tutorials/text_classification_rnn. "
   ]
  },
  {
   "cell_type": "code",
   "execution_count": 15,
   "metadata": {
    "id": "PYlQjVC4V5Pg"
   },
   "outputs": [],
   "source": [
    "VOCAB_SIZE = 1000\n",
    "\n",
    "encoder = tf.keras.layers.TextVectorization(\n",
    "    max_tokens=VOCAB_SIZE,\n",
    "    standardize='lower_and_strip_punctuation',\n",
    "    split='whitespace',\n",
    "    ngrams=None,\n",
    "    output_mode='int',\n",
    ")\n",
    "\n",
    "encoder.adapt(train_dataset.map(lambda text, label: text))\n"
   ]
  },
  {
   "cell_type": "code",
   "execution_count": 16,
   "metadata": {
    "id": "qWchbie95kqM"
   },
   "outputs": [],
   "source": [
    "# helper function from tf reference\n",
    "def plot_graphs(history, metric):\n",
    "  plt.plot(history[metric])\n",
    "  plt.plot(history['val_'+metric], '')\n",
    "  plt.xlabel(\"Epochs\")\n",
    "  plt.ylabel(metric)\n",
    "  plt.legend([metric, 'val_'+metric])\n",
    "\n",
    "  return\n",
    "\n",
    "\n",
    "def view_model(model_history):\n",
    "\n",
    "  plt.figure(figsize=(10, 5))\n",
    "  plt.subplot(1, 2, 1)\n",
    "  plot_graphs(model_history, 'accuracy')\n",
    "  plt.ylim(None, 1)\n",
    "  plt.subplot(1, 2, 2)\n",
    "  plot_graphs(model_history, 'loss')\n",
    "  plt.ylim(0, None)\n",
    "\n",
    "  return\n",
    "\n",
    "\n",
    "\n",
    "# make a helper function to run and dave the results. \n",
    "# This helps so that we can run the models on GPU and setp away. When we come back we can use CPU to analyze the results\n",
    "\n",
    "def run_save_model(model_obj,model_name,epochs, steps):\n",
    "\n",
    "  stamp('start')\n",
    "  model_results = model_obj.fit(train_text, train_label, epochs=epochs,\n",
    "                    validation_split=0.15,\n",
    "                    validation_steps=steps)\n",
    "  print(model_obj.summary())\n",
    "  stamp('end')\n",
    "\n",
    "  model_obj.save(gdrive_path+model_name)\n",
    "\n",
    "  with open(gdrive_path+model_name+'_results', 'wb') as file_pi:\n",
    "      pickle.dump(model_results.history, file_pi)\n",
    "\n",
    "  stamp('start')\n",
    "  test_copy = test[['id']]\n",
    "  test_copy['target'] = (model_obj.predict(test_text)>.5)*1\n",
    "  stamp('end')\n",
    "  print('Saving Predictions')\n",
    "  \n",
    "  file_name = f'''{gdrive_path}{model_name}_submission_results_{time.strftime(\"%Y.%m.%d.%H:%M:%S\", time.localtime())}.csv'''\n",
    "\n",
    "  test_copy.to_csv(file_name,index=False)\n",
    "\n",
    "  run_command(f'''kaggle competitions submit -c {competition_name} -f {file_name} -m \"message\" ''')\n",
    "\n",
    "  view_model(model_results.history)\n",
    "\n",
    "  return model_results\n",
    "\n",
    "\n"
   ]
  },
  {
   "cell_type": "code",
   "execution_count": 17,
   "metadata": {
    "colab": {
     "base_uri": "https://localhost:8080/",
     "height": 1000
    },
    "id": "ePdVSmFG3r-I",
    "outputId": "522c74fd-2199-44d3-9385-4b83aaa9ec8f"
   },
   "outputs": [
    {
     "name": "stdout",
     "output_type": "stream",
     "text": [
      "start time = 06/05/23:12:42:37\n",
      "Epoch 1/10\n",
      "203/203 [==============================] - 20s 41ms/step - loss: 0.6818 - accuracy: 0.5767 - val_loss: 0.6814 - val_accuracy: 0.5342\n",
      "Epoch 2/10\n",
      "203/203 [==============================] - 6s 28ms/step - loss: 0.5894 - accuracy: 0.6433 - val_loss: 0.5420 - val_accuracy: 0.7110\n",
      "Epoch 3/10\n",
      "203/203 [==============================] - 6s 29ms/step - loss: 0.4716 - accuracy: 0.7804 - val_loss: 0.5003 - val_accuracy: 0.7618\n",
      "Epoch 4/10\n",
      "203/203 [==============================] - 6s 31ms/step - loss: 0.4302 - accuracy: 0.8027 - val_loss: 0.4873 - val_accuracy: 0.7802\n",
      "Epoch 5/10\n",
      "203/203 [==============================] - 6s 28ms/step - loss: 0.4068 - accuracy: 0.8156 - val_loss: 0.4773 - val_accuracy: 0.7776\n",
      "Epoch 6/10\n",
      "203/203 [==============================] - 7s 37ms/step - loss: 0.3900 - accuracy: 0.8237 - val_loss: 0.4806 - val_accuracy: 0.7820\n",
      "Epoch 7/10\n",
      "203/203 [==============================] - 6s 28ms/step - loss: 0.3817 - accuracy: 0.8312 - val_loss: 0.4952 - val_accuracy: 0.7846\n",
      "Epoch 8/10\n",
      "203/203 [==============================] - 6s 32ms/step - loss: 0.3732 - accuracy: 0.8350 - val_loss: 0.5080 - val_accuracy: 0.7863\n",
      "Epoch 9/10\n",
      "203/203 [==============================] - 6s 28ms/step - loss: 0.3655 - accuracy: 0.8404 - val_loss: 0.5002 - val_accuracy: 0.7863\n",
      "Epoch 10/10\n",
      "203/203 [==============================] - 6s 30ms/step - loss: 0.3580 - accuracy: 0.8461 - val_loss: 0.5486 - val_accuracy: 0.7793\n",
      "Model: \"model_lstm0\"\n",
      "_________________________________________________________________\n",
      " Layer (type)                Output Shape              Param #   \n",
      "=================================================================\n",
      " text_vectorization (TextVec  (None, None)             0         \n",
      " torization)                                                     \n",
      "                                                                 \n",
      " embedding (Embedding)       (None, None, 64)          64000     \n",
      "                                                                 \n",
      " bidirectional (Bidirectiona  (None, 128)              66048     \n",
      " l)                                                              \n",
      "                                                                 \n",
      " dense (Dense)               (None, 64)                8256      \n",
      "                                                                 \n",
      " dense_1 (Dense)             (None, 1)                 65        \n",
      "                                                                 \n",
      "=================================================================\n",
      "Total params: 138,369\n",
      "Trainable params: 138,369\n",
      "Non-trainable params: 0\n",
      "_________________________________________________________________\n",
      "None\n",
      "end time = 06/05/23:12:44:10\n"
     ]
    },
    {
     "name": "stderr",
     "output_type": "stream",
     "text": [
      "WARNING:absl:Found untraced functions such as _update_step_xla, lstm_cell_1_layer_call_fn, lstm_cell_1_layer_call_and_return_conditional_losses, lstm_cell_2_layer_call_fn, lstm_cell_2_layer_call_and_return_conditional_losses while saving (showing 5 of 5). These functions will not be directly callable after loading.\n"
     ]
    },
    {
     "name": "stdout",
     "output_type": "stream",
     "text": [
      "start time = 06/05/23:12:44:40\n",
      "102/102 [==============================] - 4s 9ms/step\n",
      "end time = 06/05/23:12:44:43\n",
      "Saving Predictions\n"
     ]
    },
    {
     "name": "stderr",
     "output_type": "stream",
     "text": [
      "<ipython-input-16-352dd3882e07>:45: SettingWithCopyWarning: \n",
      "A value is trying to be set on a copy of a slice from a DataFrame.\n",
      "Try using .loc[row_indexer,col_indexer] = value instead\n",
      "\n",
      "See the caveats in the documentation: https://pandas.pydata.org/pandas-docs/stable/user_guide/indexing.html#returning-a-view-versus-a-copy\n",
      "  test_copy['target'] = (model_obj.predict(test_text)>.5)*1\n"
     ]
    },
    {
     "data": {
      "image/png": "[encoded data removed]",
      "text/plain": [
       "<Figure size 1000x500 with 2 Axes>"
      ]
     },
     "metadata": {},
     "output_type": "display_data"
    }
   ],
   "source": [
    "# since we have a pretty straightforward cake, we will leverage the sequential function and load in our array of ordered layers.\n",
    "\n",
    "\n",
    "model_0 = tf.keras.Sequential([\n",
    "    encoder,\n",
    "    tf.keras.layers.Embedding(\n",
    "        input_dim=len(encoder.get_vocabulary()),\n",
    "        output_dim=64,\n",
    "        # Use masking to handle the variable sequence lengths\n",
    "        mask_zero=True),\n",
    "    tf.keras.layers.Bidirectional(tf.keras.layers.LSTM(64)),\n",
    "    tf.keras.layers.Dense(64, activation='relu'),\n",
    "    tf.keras.layers.Dense(1)\n",
    "], name='model_lstm0')\n",
    "\n",
    "model_0.compile(loss=tf.keras.losses.BinaryCrossentropy(from_logits=True),\n",
    "              optimizer=tf.keras.optimizers.Adam(1e-4),\n",
    "              metrics=['accuracy'])\n",
    "\n",
    "\n",
    "history_0 = run_save_model(model_0,'model_lstm0',10, 30)\n"
   ]
  },
  {
   "cell_type": "code",
   "execution_count": 18,
   "metadata": {
    "colab": {
     "base_uri": "https://localhost:8080/",
     "height": 1000
    },
    "id": "AbVtDmWI9pUz",
    "outputId": "056892e4-b54d-40ff-d1e4-a6c66b647838"
   },
   "outputs": [
    {
     "name": "stdout",
     "output_type": "stream",
     "text": [
      "start time = 06/05/23:12:44:44\n",
      "Epoch 1/10\n",
      "203/203 [==============================] - 19s 48ms/step - loss: 0.6849 - accuracy: 0.5767 - val_loss: 0.6867 - val_accuracy: 0.5342\n",
      "Epoch 2/10\n",
      "203/203 [==============================] - 6s 27ms/step - loss: 0.6413 - accuracy: 0.5930 - val_loss: 0.5732 - val_accuracy: 0.6760\n",
      "Epoch 3/10\n",
      "203/203 [==============================] - 6s 28ms/step - loss: 0.4884 - accuracy: 0.7685 - val_loss: 0.5065 - val_accuracy: 0.7741\n",
      "Epoch 4/10\n",
      "203/203 [==============================] - 5s 26ms/step - loss: 0.4282 - accuracy: 0.8039 - val_loss: 0.4860 - val_accuracy: 0.7548\n",
      "Epoch 5/10\n",
      "203/203 [==============================] - 6s 30ms/step - loss: 0.4050 - accuracy: 0.8178 - val_loss: 0.4863 - val_accuracy: 0.7802\n",
      "Epoch 6/10\n",
      "203/203 [==============================] - 5s 26ms/step - loss: 0.3883 - accuracy: 0.8275 - val_loss: 0.4890 - val_accuracy: 0.7758\n",
      "Epoch 7/10\n",
      "203/203 [==============================] - 6s 28ms/step - loss: 0.3791 - accuracy: 0.8319 - val_loss: 0.4786 - val_accuracy: 0.7846\n",
      "Epoch 8/10\n",
      "203/203 [==============================] - 6s 28ms/step - loss: 0.3722 - accuracy: 0.8377 - val_loss: 0.4903 - val_accuracy: 0.7732\n",
      "Epoch 9/10\n",
      "203/203 [==============================] - 5s 26ms/step - loss: 0.3638 - accuracy: 0.8404 - val_loss: 0.5054 - val_accuracy: 0.7697\n",
      "Epoch 10/10\n",
      "203/203 [==============================] - 6s 30ms/step - loss: 0.3596 - accuracy: 0.8431 - val_loss: 0.5061 - val_accuracy: 0.7706\n",
      "Model: \"model_gru0\"\n",
      "_________________________________________________________________\n",
      " Layer (type)                Output Shape              Param #   \n",
      "=================================================================\n",
      " text_vectorization (TextVec  (None, None)             0         \n",
      " torization)                                                     \n",
      "                                                                 \n",
      " embedding_1 (Embedding)     (None, None, 64)          64000     \n",
      "                                                                 \n",
      " bidirectional_1 (Bidirectio  (None, 128)              49920     \n",
      " nal)                                                            \n",
      "                                                                 \n",
      " dense_2 (Dense)             (None, 64)                8256      \n",
      "                                                                 \n",
      " dense_3 (Dense)             (None, 1)                 65        \n",
      "                                                                 \n",
      "=================================================================\n",
      "Total params: 122,241\n",
      "Trainable params: 122,241\n",
      "Non-trainable params: 0\n",
      "_________________________________________________________________\n",
      "None\n",
      "end time = 06/05/23:12:46:15\n"
     ]
    },
    {
     "name": "stderr",
     "output_type": "stream",
     "text": [
      "WARNING:absl:Found untraced functions such as _update_step_xla, gru_cell_1_layer_call_fn, gru_cell_1_layer_call_and_return_conditional_losses, gru_cell_2_layer_call_fn, gru_cell_2_layer_call_and_return_conditional_losses while saving (showing 5 of 5). These functions will not be directly callable after loading.\n"
     ]
    },
    {
     "name": "stdout",
     "output_type": "stream",
     "text": [
      "start time = 06/05/23:12:46:42\n",
      "102/102 [==============================] - 4s 7ms/step\n"
     ]
    },
    {
     "name": "stderr",
     "output_type": "stream",
     "text": [
      "<ipython-input-16-352dd3882e07>:45: SettingWithCopyWarning: \n",
      "A value is trying to be set on a copy of a slice from a DataFrame.\n",
      "Try using .loc[row_indexer,col_indexer] = value instead\n",
      "\n",
      "See the caveats in the documentation: https://pandas.pydata.org/pandas-docs/stable/user_guide/indexing.html#returning-a-view-versus-a-copy\n",
      "  test_copy['target'] = (model_obj.predict(test_text)>.5)*1\n"
     ]
    },
    {
     "name": "stdout",
     "output_type": "stream",
     "text": [
      "end time = 06/05/23:12:46:47\n",
      "Saving Predictions\n"
     ]
    },
    {
     "data": {
      "image/png": "[encoded data removed]",
      "text/plain": [
       "<Figure size 1000x500 with 2 Axes>"
      ]
     },
     "metadata": {},
     "output_type": "display_data"
    }
   ],
   "source": [
    "# since we have a pretty straightforward cake, we will leverage the sequential function and load in our array of ordered layers.\n",
    "\n",
    "\n",
    "model_1 = tf.keras.Sequential([\n",
    "    encoder,\n",
    "    tf.keras.layers.Embedding(\n",
    "        input_dim=len(encoder.get_vocabulary()),\n",
    "        output_dim=64,\n",
    "        # Use masking to handle the variable sequence lengths\n",
    "        mask_zero=True),\n",
    "    tf.keras.layers.Bidirectional(tf.keras.layers.GRU(64)),\n",
    "    tf.keras.layers.Dense(64, activation='relu'),\n",
    "    tf.keras.layers.Dense(1)\n",
    "], name='model_gru0')\n",
    "\n",
    "model_1.compile(loss=tf.keras.losses.BinaryCrossentropy(from_logits=True),\n",
    "              optimizer=tf.keras.optimizers.Adam(1e-4),\n",
    "              metrics=['accuracy'])\n",
    "\n",
    "\n",
    "history_1 = run_save_model(model_1,'model_gru0',10, 30)\n"
   ]
  },
  {
   "cell_type": "markdown",
   "metadata": {
    "id": "oYVl3mIgpy20"
   },
   "source": [
    "### Review\n",
    "\n",
    "So here we have our model using 2 different RNN related layers. The LSTM has a slightly lower accuracy. When we submit our results to kaggle, we see that this difference tracks. LTSM basic = 0.77414 vs GRU basic = 0.78026"
   ]
  },
  {
   "cell_type": "markdown",
   "metadata": {
    "id": "l5kZsXh6-cA3"
   },
   "source": [
    "## Step 4 : Results and Analysis\n",
    "\n",
    "Based on our initial models, GRU has won. Let's continue on with the tf reference material and stack two RNN layers together. We will do this for LSTM and GRU. We will also add a dropout layer and change our encoding to product a tf-idf output. \n",
    "\n",
    "Dropout is when we randomly drop a subset of our data in order to reduce overfitting.\n",
    "\n",
    "tf-idf is a way to normalize our text vectorized representation.\n",
    "\n",
    "DISCLAIMER : We are. limited to 5 kaggle subissions per day, so we are not going to do more hyperparameter tunes than the ones listed above. "
   ]
  },
  {
   "cell_type": "code",
   "execution_count": 19,
   "metadata": {
    "colab": {
     "base_uri": "https://localhost:8080/",
     "height": 1000
    },
    "id": "Wql0HKwnClct",
    "outputId": "e5daff38-5dd2-4de1-d399-16f25dce781b"
   },
   "outputs": [
    {
     "name": "stdout",
     "output_type": "stream",
     "text": [
      "start time = 06/05/23:12:46:48\n",
      "Epoch 1/10\n",
      "203/203 [==============================] - 35s 75ms/step - loss: 0.6840 - accuracy: 0.5767 - val_loss: 0.6869 - val_accuracy: 0.5342\n",
      "Epoch 2/10\n",
      "203/203 [==============================] - 11s 53ms/step - loss: 0.5978 - accuracy: 0.6469 - val_loss: 0.5498 - val_accuracy: 0.7128\n",
      "Epoch 3/10\n",
      "203/203 [==============================] - 10s 49ms/step - loss: 0.4850 - accuracy: 0.7779 - val_loss: 0.5173 - val_accuracy: 0.7347\n",
      "Epoch 4/10\n",
      "203/203 [==============================] - 11s 54ms/step - loss: 0.4451 - accuracy: 0.8031 - val_loss: 0.5101 - val_accuracy: 0.7601\n",
      "Epoch 5/10\n",
      "203/203 [==============================] - 11s 54ms/step - loss: 0.4206 - accuracy: 0.8186 - val_loss: 0.5043 - val_accuracy: 0.7680\n",
      "Epoch 6/10\n",
      "203/203 [==============================] - 11s 53ms/step - loss: 0.4039 - accuracy: 0.8280 - val_loss: 0.5349 - val_accuracy: 0.7583\n",
      "Epoch 7/10\n",
      "203/203 [==============================] - 10s 50ms/step - loss: 0.3931 - accuracy: 0.8354 - val_loss: 0.5055 - val_accuracy: 0.7644\n",
      "Epoch 8/10\n",
      "203/203 [==============================] - 11s 53ms/step - loss: 0.3808 - accuracy: 0.8435 - val_loss: 0.5091 - val_accuracy: 0.7688\n",
      "Epoch 9/10\n",
      "203/203 [==============================] - 11s 54ms/step - loss: 0.3723 - accuracy: 0.8465 - val_loss: 0.5215 - val_accuracy: 0.7750\n",
      "Epoch 10/10\n",
      "203/203 [==============================] - 11s 53ms/step - loss: 0.3691 - accuracy: 0.8540 - val_loss: 0.5117 - val_accuracy: 0.7828\n",
      "Model: \"model_lstm1\"\n",
      "_________________________________________________________________\n",
      " Layer (type)                Output Shape              Param #   \n",
      "=================================================================\n",
      " text_vectorization (TextVec  (None, None)             0         \n",
      " torization)                                                     \n",
      "                                                                 \n",
      " embedding_2 (Embedding)     (None, None, 64)          64000     \n",
      "                                                                 \n",
      " bidirectional_2 (Bidirectio  (None, None, 128)        66048     \n",
      " nal)                                                            \n",
      "                                                                 \n",
      " bidirectional_3 (Bidirectio  (None, 64)               41216     \n",
      " nal)                                                            \n",
      "                                                                 \n",
      " dense_4 (Dense)             (None, 64)                4160      \n",
      "                                                                 \n",
      " dropout (Dropout)           (None, 64)                0         \n",
      "                                                                 \n",
      " dense_5 (Dense)             (None, 1)                 65        \n",
      "                                                                 \n",
      "=================================================================\n",
      "Total params: 175,489\n",
      "Trainable params: 175,489\n",
      "Non-trainable params: 0\n",
      "_________________________________________________________________\n",
      "None\n",
      "end time = 06/05/23:12:49:29\n"
     ]
    },
    {
     "name": "stderr",
     "output_type": "stream",
     "text": [
      "WARNING:absl:Found untraced functions such as _update_step_xla, lstm_cell_4_layer_call_fn, lstm_cell_4_layer_call_and_return_conditional_losses, lstm_cell_5_layer_call_fn, lstm_cell_5_layer_call_and_return_conditional_losses while saving (showing 5 of 9). These functions will not be directly callable after loading.\n"
     ]
    },
    {
     "name": "stdout",
     "output_type": "stream",
     "text": [
      "start time = 06/05/23:12:50:23\n",
      "102/102 [==============================] - 6s 13ms/step\n",
      "end time = 06/05/23:12:50:30\n",
      "Saving Predictions\n"
     ]
    },
    {
     "name": "stderr",
     "output_type": "stream",
     "text": [
      "<ipython-input-16-352dd3882e07>:45: SettingWithCopyWarning: \n",
      "A value is trying to be set on a copy of a slice from a DataFrame.\n",
      "Try using .loc[row_indexer,col_indexer] = value instead\n",
      "\n",
      "See the caveats in the documentation: https://pandas.pydata.org/pandas-docs/stable/user_guide/indexing.html#returning-a-view-versus-a-copy\n",
      "  test_copy['target'] = (model_obj.predict(test_text)>.5)*1\n"
     ]
    },
    {
     "data": {
      "image/png": "[encoded data removed]",
      "text/plain": [
       "<Figure size 1000x500 with 2 Axes>"
      ]
     },
     "metadata": {},
     "output_type": "display_data"
    }
   ],
   "source": [
    "# since we have a pretty straightforward cake, we will leverage the sequential function and load in our array of ordered layers.\n",
    "\n",
    "\n",
    "model_2 = tf.keras.Sequential([\n",
    "    encoder,\n",
    "    tf.keras.layers.Embedding(len(encoder.get_vocabulary()), 64, mask_zero=True),\n",
    "    tf.keras.layers.Bidirectional(tf.keras.layers.LSTM(64,  return_sequences=True)),\n",
    "    tf.keras.layers.Bidirectional(tf.keras.layers.LSTM(32)),\n",
    "    tf.keras.layers.Dense(64, activation='relu'),\n",
    "    tf.keras.layers.Dropout(0.5),\n",
    "    tf.keras.layers.Dense(1)\n",
    "], name='model_lstm1')\n",
    "\n",
    "model_2.compile(loss=tf.keras.losses.BinaryCrossentropy(from_logits=True),\n",
    "              optimizer=tf.keras.optimizers.Adam(1e-4),\n",
    "              metrics=['accuracy'])\n",
    "\n",
    "\n",
    "history_2 = run_save_model(model_2,'model_lstm1',10, 30)\n"
   ]
  },
  {
   "cell_type": "code",
   "execution_count": 20,
   "metadata": {
    "id": "cTXtZL6jQDnw"
   },
   "outputs": [],
   "source": [
    "encoder3 = tf.keras.layers.TextVectorization(\n",
    "    max_tokens=VOCAB_SIZE,\n",
    "    standardize='lower_and_strip_punctuation',\n",
    "    split='whitespace',\n",
    "    ngrams=2,\n",
    "    output_mode='tf_idf',\n",
    ")\n",
    "\n",
    "encoder3.adapt(train_dataset.map(lambda text, label: text))\n"
   ]
  },
  {
   "cell_type": "code",
   "execution_count": 21,
   "metadata": {
    "colab": {
     "base_uri": "https://localhost:8080/",
     "height": 1000
    },
    "id": "R_XFQheMGlxU",
    "outputId": "2126659f-3403-415d-abe5-640fe4d3cf1e"
   },
   "outputs": [
    {
     "name": "stdout",
     "output_type": "stream",
     "text": [
      "start time = 06/05/23:12:50:39\n",
      "Epoch 1/10\n",
      "203/203 [==============================] - 192s 893ms/step - loss: 0.6850 - accuracy: 0.5767 - val_loss: 0.6919 - val_accuracy: 0.5342\n",
      "Epoch 2/10\n",
      "203/203 [==============================] - 182s 898ms/step - loss: 0.6759 - accuracy: 0.5767 - val_loss: 0.6772 - val_accuracy: 0.5342\n",
      "Epoch 3/10\n",
      "203/203 [==============================] - 181s 893ms/step - loss: 0.6583 - accuracy: 0.5865 - val_loss: 0.6518 - val_accuracy: 0.5893\n",
      "Epoch 4/10\n",
      "203/203 [==============================] - 180s 888ms/step - loss: 0.6500 - accuracy: 0.6081 - val_loss: 0.6496 - val_accuracy: 0.5928\n",
      "Epoch 5/10\n",
      "203/203 [==============================] - 179s 882ms/step - loss: 0.6463 - accuracy: 0.6146 - val_loss: 0.6452 - val_accuracy: 0.5981\n",
      "Epoch 6/10\n",
      "203/203 [==============================] - 179s 880ms/step - loss: 0.6434 - accuracy: 0.6138 - val_loss: 0.6429 - val_accuracy: 0.6016\n",
      "Epoch 7/10\n",
      "203/203 [==============================] - 179s 884ms/step - loss: 0.6412 - accuracy: 0.6174 - val_loss: 0.6412 - val_accuracy: 0.6068\n",
      "Epoch 8/10\n",
      "203/203 [==============================] - 179s 880ms/step - loss: 0.6386 - accuracy: 0.6169 - val_loss: 0.6456 - val_accuracy: 0.5902\n",
      "Epoch 9/10\n",
      "203/203 [==============================] - 179s 883ms/step - loss: 0.6361 - accuracy: 0.6215 - val_loss: 0.6426 - val_accuracy: 0.5954\n",
      "Epoch 10/10\n",
      "203/203 [==============================] - 178s 878ms/step - loss: 0.6344 - accuracy: 0.6208 - val_loss: 0.6395 - val_accuracy: 0.6042\n",
      "Model: \"model_gru1\"\n",
      "_________________________________________________________________\n",
      " Layer (type)                Output Shape              Param #   \n",
      "=================================================================\n",
      " text_vectorization_1 (TextV  (None, 1000)             1         \n",
      " ectorization)                                                   \n",
      "                                                                 \n",
      " embedding_3 (Embedding)     (None, 1000, 64)          64000     \n",
      "                                                                 \n",
      " bidirectional_4 (Bidirectio  (None, 128)              49920     \n",
      " nal)                                                            \n",
      "                                                                 \n",
      " dense_6 (Dense)             (None, 64)                8256      \n",
      "                                                                 \n",
      " dense_7 (Dense)             (None, 1)                 65        \n",
      "                                                                 \n",
      "=================================================================\n",
      "Total params: 122,242\n",
      "Trainable params: 122,241\n",
      "Non-trainable params: 1\n",
      "_________________________________________________________________\n",
      "None\n",
      "end time = 06/05/23:13:21:11\n"
     ]
    },
    {
     "name": "stderr",
     "output_type": "stream",
     "text": [
      "WARNING:absl:Found untraced functions such as _update_step_xla, gru_cell_4_layer_call_fn, gru_cell_4_layer_call_and_return_conditional_losses, gru_cell_5_layer_call_fn, gru_cell_5_layer_call_and_return_conditional_losses while saving (showing 5 of 5). These functions will not be directly callable after loading.\n"
     ]
    },
    {
     "name": "stdout",
     "output_type": "stream",
     "text": [
      "start time = 06/05/23:13:21:39\n",
      "102/102 [==============================] - 26s 233ms/step\n",
      "end time = 06/05/23:13:22:05\n",
      "Saving Predictions\n"
     ]
    },
    {
     "name": "stderr",
     "output_type": "stream",
     "text": [
      "<ipython-input-16-352dd3882e07>:45: SettingWithCopyWarning: \n",
      "A value is trying to be set on a copy of a slice from a DataFrame.\n",
      "Try using .loc[row_indexer,col_indexer] = value instead\n",
      "\n",
      "See the caveats in the documentation: https://pandas.pydata.org/pandas-docs/stable/user_guide/indexing.html#returning-a-view-versus-a-copy\n",
      "  test_copy['target'] = (model_obj.predict(test_text)>.5)*1\n"
     ]
    },
    {
     "data": {
      "image/png": "[encoded data removed]",
      "text/plain": [
       "<Figure size 1000x500 with 2 Axes>"
      ]
     },
     "metadata": {},
     "output_type": "display_data"
    }
   ],
   "source": [
    "# since we have a pretty straightforward cake, we will leverage the sequential function and load in our array of ordered layers.\n",
    "\n",
    "\n",
    "model_3 = tf.keras.Sequential([\n",
    "    encoder3,\n",
    "    tf.keras.layers.Embedding(len(encoder3.get_vocabulary()), 64, mask_zero=True),\n",
    "    tf.keras.layers.Bidirectional(tf.keras.layers.GRU(64)),\n",
    "    tf.keras.layers.Dense(64, activation='relu'),\n",
    "    tf.keras.layers.Dense(1)\n",
    "], name='model_gru1')\n",
    "\n",
    "model_3.compile(loss=tf.keras.losses.BinaryCrossentropy(from_logits=True),\n",
    "              optimizer=tf.keras.optimizers.Adam(1e-4),\n",
    "              metrics=['accuracy'])\n",
    "\n",
    "\n",
    "history_3 = run_save_model(model_3,'model_gru1',10, 30)\n"
   ]
  },
  {
   "cell_type": "markdown",
   "metadata": {
    "id": "saEhEQtmvPQZ"
   },
   "source": [
    "### Analysis\n",
    "\n",
    "Per the graphs about, some models have more variability in their scores as the epochs move along.\n",
    "\n",
    "Also, adding tf_idf encoding and the second rnn layer improved the scores, but only slightly."
   ]
  },
  {
   "cell_type": "markdown",
   "metadata": {
    "id": "87RgBwdf-cG7"
   },
   "source": [
    "## Step 5 : Conclusion\n",
    "\n",
    "If we were allowed more submission per day, I would have created more iterations with hyperparameter tunes. \n",
    "\n",
    "\n",
    "#### Learnings:\n",
    "1. Training these models can take time!\n",
    "2. Basic layerings can get \"good\" results\n",
    "3. Layer combos impact score improvement more than hyper-parameters\n",
    "\n",
    "#### What didn't work:\n",
    "1. Adding a second LSTM layer\n",
    "2. Adding dropout\n",
    "3. tf-idf \n",
    "\n",
    "#### Ways to Improve:\n",
    "1. Programatically train shallow models and make layers as we go\n",
    "2. Add other text vectorization techniques\n",
    "3. Make all this better using classes and functions. Basically, code up some wrappers for extensibility"
   ]
  },
  {
   "cell_type": "code",
   "execution_count": null,
   "metadata": {
    "id": "mLljMjZ2UExx"
   },
   "outputs": [],
   "source": [
    "from google.colab import runtime\n",
    "runtime.unassign()"
   ]
  }
 ],
 "metadata": {
  "colab": {
   "gpuClass": "premium",
   "machine_shape": "hm",
   "provenance": [],
   "toc_visible": true
  },
  "gpuClass": "premium",
  "kernelspec": {
   "display_name": "Python 3 (ipykernel)",
   "language": "python",
   "name": "python3"
  },
  "language_info": {
   "codemirror_mode": {
    "name": "ipython",
    "version": 3
   },
   "file_extension": ".py",
   "mimetype": "text/x-python",
   "name": "python",
   "nbconvert_exporter": "python",
   "pygments_lexer": "ipython3",
   "version": "3.9.12"
  }
 },
 "nbformat": 4,
 "nbformat_minor": 4
}
