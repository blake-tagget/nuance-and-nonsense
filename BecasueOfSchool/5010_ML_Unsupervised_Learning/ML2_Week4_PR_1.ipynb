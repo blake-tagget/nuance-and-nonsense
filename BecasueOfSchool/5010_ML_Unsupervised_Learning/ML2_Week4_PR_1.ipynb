{
 "cells": [
  {
   "cell_type": "markdown",
   "id": "cc7503d8-7b73-4ef1-9b6f-5fe48c4c1230",
   "metadata": {},
   "source": [
    "# BBC News Classification\n",
    "## An Investigation in Supervised vs Unsupervised ML Techniques\n",
    "\n",
    "Per the __[project description](https://www.kaggle.com/competitions/learn-ai-bbc/overview/description)__, we are given 2,225 articles (or \"documents\" in the general context) and are tasked with predicting the category of 735 of them. The model of choice will be determined by the accuracy score. <br>\n",
    "The 5 categories we will predict our articles into are:\n",
    "> business <br>\n",
    "tech <br>\n",
    "politics <br>\n",
    "sport <br>\n",
    "entertainment <br>\n",
    "\n",
    "Of the total articles, our training set contains 1,490 with a category mapped and we use this information for our supervised learning as the target variable.\n",
    "\n",
    "While the testing set contains another 735 articles with missing a categories, we do have a sample solution dataset to calculate testing accuracy.\n",
    "\n",
    "NOTICE: I over indexed on model options instead of EDA graphs..."
   ]
  },
  {
   "cell_type": "code",
   "execution_count": 1,
   "id": "88b285f5-d1d5-4185-90bc-7328f0f337c4",
   "metadata": {},
   "outputs": [],
   "source": [
    "import pandas as pd\n",
    "import numpy as np\n",
    "train = pd.read_csv('bbc_news_downloaded_data/BBC News Train.csv')\n",
    "test = pd.read_csv('bbc_news_downloaded_data/BBC News Test.csv')\n",
    "solution_sample = pd.read_csv('bbc_news_downloaded_data/BBC News Sample Solution.csv')"
   ]
  },
  {
   "cell_type": "markdown",
   "id": "dbce5ef9-ddf0-4ed2-aad4-d22b053acc31",
   "metadata": {
    "tags": []
   },
   "source": [
    "### Section 1a : Data Cleaning & Preparation\n",
    "\n",
    "In order to utilize any algorithm, we must make sure our data is of the correct type and preprocess (or clean) our text based on some logical \"business\" or \"contextual\" decisions. \n",
    "\n",
    "Since this is a word processessing project, we will turn these decisions into action:<br> \n",
    "1. Do we mitigate for capitization? <br> \n",
    "> Yes - We will convert to lowercase. While capital letters might add value to some parts of speach, consider Sky as a name (proper noun) vs sky as a location (regular noun), we will push all our text to lower case as to treat them equally. In other models this \"simplification\" might not make sense.\n",
    "\n",
    "2. Do we mitigate for punctuation or numbers? <br> \n",
    "> Yes - We will remove these. Since we are exploring `news` articles (and not tweets or yelp reviews), punctuation like periods and commas are very common, hyphenated words could be considered as one word, parenthesis are often used as citations, and numbers can refer to currency or magnitude. These are all utilized consistently inside news articles. Because our task is to bucket the article into a category, the fact that the documents are all news articles makes them homogenous in this regard. If we were taking in documents of various types and trying to predict their specific type (say contract vs letter vs news article vs paycheck), we might make a different conclusion.\n",
    "\n",
    "3. Do we mitigate for common words, aka \"stop words\"? <br>\n",
    "> Yes - We will remove these. In most word processessing, these words like \"so\" and \"the\" do not add to the topic category at hand.\n",
    "\n",
    "4. Should mutliple words be considered together? <br>\n",
    "> Yes - we should set our ngrams to 2. Since many things in the world are the combination of 2 words, we will want to specify this parameter.\n",
    "\n",
    "5. Do we consider single and plural words the same or different? <br>\n",
    "> Yes - we will lemmatize our articles. In our task at hand, we care about the root word and not the specific congugation or inflection.\n",
    "\n",
    "<br>\n",
    "We will also want to tokenize our sentences into words and perform some sort of calculation to weight each word in the article. More on this as we perform the task itself.\n"
   ]
  },
  {
   "cell_type": "code",
   "execution_count": 2,
   "id": "da4388e9-512b-4b22-8875-e8bb11f8adda",
   "metadata": {},
   "outputs": [],
   "source": [
    "import nltk\n",
    "from nltk.corpus import stopwords\n",
    "\n",
    "def filter_text(df):\n",
    "    \"\"\"\n",
    "    This function will strip all punctuation, numbers, and stopwords from our article text.\n",
    "    \"\"\"\n",
    "    # copy the df\n",
    "    preprocess_df = df.copy()\n",
    "    \n",
    "    # make text lowercase, remove extra spaces, emove punctuation and numbers \n",
    "    preprocess_df['stripped_Text_0'] = preprocess_df['Text'].str.lower().replace('\\s+', ' ', regex=True)\\\n",
    "                                .replace('[^a-zA-Z ]', '', regex=True)\n",
    "    \n",
    "    # make tokens\n",
    "    preprocess_df['tokens'] = preprocess_df.apply(lambda row: nltk.word_tokenize(row['stripped_Text_0']), axis=1)\n",
    "    \n",
    "    # remove stopwords\n",
    "    stop_words = stopwords.words('english')\n",
    "    preprocess_df['stripped_Text'] = preprocess_df['tokens'].apply(lambda row: [' '.join(word for word in row if word not in stop_words)][0] )\n",
    "    \n",
    "    return preprocess_df"
   ]
  },
  {
   "cell_type": "code",
   "execution_count": 3,
   "id": "de1eabf8-3a52-43e3-9be3-1d3dee0d6255",
   "metadata": {},
   "outputs": [],
   "source": [
    "# Preprocess actions (items 1, 2, and 3)\n",
    "\n",
    "p_train = filter_text(train)\n",
    "p_test = filter_text(test)"
   ]
  },
  {
   "cell_type": "code",
   "execution_count": 56,
   "id": "b21e4296-a955-476b-acf3-22c6c2b2e73a",
   "metadata": {},
   "outputs": [],
   "source": [
    "# Preprocess actions (items 5)\n",
    "\n",
    "\n",
    "def lemmatize_text(df):\n",
    "\n",
    "    wnl = nltk.stem.WordNetLemmatizer()\n",
    "    \n",
    "    l_df = df.copy()\n",
    "    \n",
    "    l_df['stripped_Tokens'] = l_df.apply(lambda row: nltk.word_tokenize(row['stripped_Text']), axis=1)\n",
    "    \n",
    "    l_df['stripped_Tokens_pos'] = l_df.apply(lambda row: nltk.pos_tag(row['stripped_Tokens']), axis=1)\n",
    "    \n",
    "    l_df['noun_Text'] = l_df['stripped_Tokens_pos'].apply(lambda row: [' '.join(wnl.lemmatize(word[0],'n') for word in row if word[1]=='NN')][0] )\n",
    "    \n",
    "    # lemmatize each word to it's root word for all parts of speech (thus the heavy nesting)\n",
    "    l_df['lemmas'] = l_df['stripped_Tokens'].apply(lambda row: [wnl.lemmatize(wnl.lemmatize(wnl.lemmatize(wnl.lemmatize(wnl.lemmatize(word,'n'),'v'),'a'),'r'),'s') for word in row] )\n",
    "\n",
    "    # rejoin the array of words into a single string, except for the extra empty spaces\n",
    "    l_df['lemma_Text'] = l_df['lemmas'].apply(lambda row: [' '.join(word for word in row)][0] )\n",
    "    \n",
    "    return l_df\n"
   ]
  },
  {
   "cell_type": "code",
   "execution_count": 57,
   "id": "1f3717c4-0d05-4dc6-ba96-b2451c40c0c3",
   "metadata": {},
   "outputs": [],
   "source": [
    "l_p_train = lemmatize_text(p_train)\n",
    "l_p_test = lemmatize_text(p_test)\n",
    "\n",
    "# maybe we will want to filter our longer documents ?? \n",
    "l_p_train['lemma_word_cnt'] = l_p_train['lemma_Text'].str.len()-l_p_train['lemma_Text'].str.replace(' ','',regex=False).str.len()"
   ]
  },
  {
   "cell_type": "markdown",
   "id": "881309c6-d298-4acf-8385-9418a8bb2c6b",
   "metadata": {},
   "source": [
    "#### Vectorization Explanation:\n",
    "\n",
    "Now that we have \"cleaned\" our documents into only necessary root words, we can count the occurenced of each word (Countvectorizer) or calculate a weighted word percentage based on the frequency of the word inside each document and the entire document population (TF-IDF vectorizer)."
   ]
  },
  {
   "cell_type": "code",
   "execution_count": 6,
   "id": "2d00456a-485e-414f-8e14-36a0626a248a",
   "metadata": {},
   "outputs": [],
   "source": [
    "# Preprocess actions (items 4) : \n",
    "\n",
    "from sklearn.feature_extraction.text import TfidfVectorizer, CountVectorizer\n",
    "\n",
    "def calc_vect(vect,df,col):\n",
    "    \n",
    "    if (vect=='cv'):\n",
    "        vectorizer = CountVectorizer(\n",
    "                        analyzer = 'word',\n",
    "                        stop_words='english',\n",
    "                        ngram_range = (1,2),\n",
    "                        min_df = .005, # ensures .5% of our cleaned articles contain this ngram\n",
    "                        max_df = .95 # if an ngram is too frequent we will remove this as a feature\n",
    "                        )\n",
    "        \n",
    "    else:\n",
    "        vectorizer = TfidfVectorizer(\n",
    "                        analyzer = 'word',\n",
    "                        stop_words='english',\n",
    "                        ngram_range = (1,2),\n",
    "                        norm = 'l2',\n",
    "                        min_df = .005, # ensures 5% of our cleaned articles contain this ngram\n",
    "                        max_df = .95 # if an ngram is too frequent we will remove this as a feature\n",
    "                        )\n",
    "    \n",
    "    train_vectors = vectorizer.fit_transform(df[col])\n",
    "\n",
    "    try:\n",
    "        len(df['Category'])>0\n",
    "        col = ['ArticleId','Category']\n",
    "        level = 'level_3'\n",
    "    \n",
    "    except:\n",
    "        col = ['ArticleId']\n",
    "        level = 'level_2'\n",
    "    \n",
    "    v_df = df[col].join(pd.DataFrame(train_vectors.todense().tolist(), columns=vectorizer.get_feature_names_out()))\n",
    "    \n",
    "    v_stack = v_df.reset_index().set_index(['index']+col).stack().reset_index().rename(columns={'index':'orig_index',level:'ngram',0:'article_freq'})\n",
    "    v_stack = v_stack[v_stack['article_freq']!=0]\n",
    "    \n",
    "    v_stack['gram_cnt'] = 1+v_stack['ngram'].str.len()-v_stack['ngram'].str.replace(' ','',regex=False).str.len()\n",
    "    \n",
    "    return v_df.drop(columns=col),v_stack\n",
    "    "
   ]
  },
  {
   "cell_type": "code",
   "execution_count": 7,
   "id": "7341985a-213e-41c9-818d-9d671c3e499d",
   "metadata": {},
   "outputs": [],
   "source": [
    "cv_train, cv_train_stack = calc_vect('cv',l_p_train,'lemma_Text')\n",
    "cv_test, cv_test_stack = calc_vect('cv',l_p_test,'lemma_Text')"
   ]
  },
  {
   "cell_type": "markdown",
   "id": "bd29f2a7-e7f0-48bc-9407-994855f85202",
   "metadata": {},
   "source": [
    "### Section 1b: Exploratory Data Analysis (EDA)\n",
    "\n",
    "Once our data is cleaned and transformed into a more usable structurebased on our logical criteria, we do some heuristics to answer questions like:\n",
    "- Do we have a balance of article category representation in our data sets?\n",
    "- Do certain article categories have more words than others?\n",
    "- Do certain categories have more word repetition than others?\n",
    "- Upon T-SNE dimensionality reduction, do we have clear groupings of article categories?"
   ]
  },
  {
   "cell_type": "code",
   "execution_count": 8,
   "id": "89580098-c611-4ff1-a212-bcee94e76365",
   "metadata": {},
   "outputs": [
    {
     "data": {
      "text/html": [
       "<div>\n",
       "<style scoped>\n",
       "    .dataframe tbody tr th:only-of-type {\n",
       "        vertical-align: middle;\n",
       "    }\n",
       "\n",
       "    .dataframe tbody tr th {\n",
       "        vertical-align: top;\n",
       "    }\n",
       "\n",
       "    .dataframe thead th {\n",
       "        text-align: right;\n",
       "    }\n",
       "</style>\n",
       "<table border=\"1\" class=\"dataframe\">\n",
       "  <thead>\n",
       "    <tr style=\"text-align: right;\">\n",
       "      <th></th>\n",
       "      <th>count</th>\n",
       "      <th>pct</th>\n",
       "    </tr>\n",
       "    <tr>\n",
       "      <th>Category</th>\n",
       "      <th></th>\n",
       "      <th></th>\n",
       "    </tr>\n",
       "  </thead>\n",
       "  <tbody>\n",
       "    <tr>\n",
       "      <th>business</th>\n",
       "      <td>336.0</td>\n",
       "      <td>0.23</td>\n",
       "    </tr>\n",
       "    <tr>\n",
       "      <th>entertainment</th>\n",
       "      <td>273.0</td>\n",
       "      <td>0.18</td>\n",
       "    </tr>\n",
       "    <tr>\n",
       "      <th>politics</th>\n",
       "      <td>274.0</td>\n",
       "      <td>0.18</td>\n",
       "    </tr>\n",
       "    <tr>\n",
       "      <th>sport</th>\n",
       "      <td>346.0</td>\n",
       "      <td>0.23</td>\n",
       "    </tr>\n",
       "    <tr>\n",
       "      <th>tech</th>\n",
       "      <td>261.0</td>\n",
       "      <td>0.18</td>\n",
       "    </tr>\n",
       "  </tbody>\n",
       "</table>\n",
       "</div>"
      ],
      "text/plain": [
       "               count   pct\n",
       "Category                  \n",
       "business       336.0  0.23\n",
       "entertainment  273.0  0.18\n",
       "politics       274.0  0.18\n",
       "sport          346.0  0.23\n",
       "tech           261.0  0.18"
      ]
     },
     "execution_count": 8,
     "metadata": {},
     "output_type": "execute_result"
    }
   ],
   "source": [
    "# Do we have an even distribution of articles in our training set?\n",
    "distribution_df = cv_train_stack[cv_train_stack['gram_cnt']==1].groupby(['ArticleId','Category'])['ngram'].size().reset_index()\\\n",
    "    .groupby(['Category'])['ngram'].describe()[['count']]\n",
    "distribution_df['pct'] = round(distribution_df['count']/sum(distribution_df['count']),2)\n",
    "distribution_df"
   ]
  },
  {
   "cell_type": "markdown",
   "id": "a0cf4ca3-ac28-49e6-a8af-d174df4b9375",
   "metadata": {},
   "source": [
    "From the above table, we either conclude that we have more articles for business and sports than the others. But the magnitude of the difference might not be impactful so we will move on."
   ]
  },
  {
   "cell_type": "code",
   "execution_count": 9,
   "id": "80424e89-4e53-4a74-b78a-fd3429ec869b",
   "metadata": {},
   "outputs": [
    {
     "data": {
      "text/plain": [
       "<AxesSubplot:title={'center':'article_freq'}, xlabel='[Category]'>"
      ]
     },
     "execution_count": 9,
     "metadata": {},
     "output_type": "execute_result"
    },
    {
     "data": {
      "image/png": "[encoded data removed]",
      "text/plain": [
       "<Figure size 504x504 with 1 Axes>"
      ]
     },
     "metadata": {
      "needs_background": "light"
     },
     "output_type": "display_data"
    }
   ],
   "source": [
    "# how many total words are in each article category?\n",
    "cv_train_stack[cv_train_stack['gram_cnt']==1].groupby(['ArticleId','Category'])['article_freq'].sum().reset_index().set_index('ArticleId')\\\n",
    "    .boxplot(by = ['Category'], figsize=(7,7))\n"
   ]
  },
  {
   "cell_type": "code",
   "execution_count": 10,
   "id": "90280ce5-9016-42ee-a33e-0af7f317a1aa",
   "metadata": {},
   "outputs": [
    {
     "data": {
      "text/plain": [
       "array([[<AxesSubplot:title={'center':'business'}>,\n",
       "        <AxesSubplot:title={'center':'entertainment'}>],\n",
       "       [<AxesSubplot:title={'center':'politics'}>,\n",
       "        <AxesSubplot:title={'center':'sport'}>],\n",
       "       [<AxesSubplot:title={'center':'tech'}>, <AxesSubplot:>]],\n",
       "      dtype=object)"
      ]
     },
     "execution_count": 10,
     "metadata": {},
     "output_type": "execute_result"
    },
    {
     "data": {
      "image/png": "[encoded data removed]",
      "text/plain": [
       "<Figure size 720x720 with 6 Axes>"
      ]
     },
     "metadata": {
      "needs_background": "light"
     },
     "output_type": "display_data"
    }
   ],
   "source": [
    "# how many unique words are in each article category?\n",
    "cv_train_stack[cv_train_stack['gram_cnt']==1].groupby(['ArticleId','Category'])['ngram'].nunique().reset_index().set_index('ArticleId')\\\n",
    "    .hist(bins=15,by = ['Category'],sharex=False, figsize=(10,10))\n"
   ]
  },
  {
   "cell_type": "code",
   "execution_count": 11,
   "id": "6536f265-056e-498e-b11c-f3c6ec354822",
   "metadata": {},
   "outputs": [],
   "source": [
    "# If we utilize dimensionality reduction, do we see any clear clusters?\n",
    "\n",
    "import matplotlib.pyplot as plt\n",
    "from sklearn.manifold import TSNE\n",
    "\n",
    "colors = [\"blue\", \"green\", \"darkorange\",'red','black']\n",
    "\n",
    "def scatter_viz(x,y,perp):\n",
    "    X = x\n",
    "    y = y\n",
    "    target_names = y.drop_duplicates().values\n",
    "\n",
    "    tsne = TSNE(n_components=2,init='pca',learning_rate='auto',random_state=20,perplexity=perp)\n",
    "    X_r = tsne.fit_transform(X)\n",
    "\n",
    "    tsne_df = pd.DataFrame(X_r,columns = ['x','y']).join(y)\n",
    "\n",
    "    fig, ax = plt.subplots(figsize=(7,7))\n",
    "\n",
    "    # grouped = df.groupby('continent')\n",
    "    for key, color in zip(target_names,colors):\n",
    "        tsne_df[tsne_df['Category']==key].plot(ax=ax, kind='scatter', x='x',y='y', label=key, color=color)\n",
    "\n",
    "    plt.show()\n",
    "    \n",
    "    return"
   ]
  },
  {
   "cell_type": "code",
   "execution_count": 12,
   "id": "48dc883d-9a64-4869-b918-8c1329e0bc0f",
   "metadata": {},
   "outputs": [
    {
     "name": "stderr",
     "output_type": "stream",
     "text": [
      "/Users/blake.tagget/opt/anaconda3/lib/python3.9/site-packages/sklearn/manifold/_t_sne.py:982: FutureWarning: The PCA initialization in TSNE will change to have the standard deviation of PC1 equal to 1e-4 in 1.2. This will ensure better convergence.\n",
      "  warnings.warn(\n"
     ]
    },
    {
     "data": {
      "image/png": "[encoded data removed]",
      "text/plain": [
       "<Figure size 504x504 with 1 Axes>"
      ]
     },
     "metadata": {
      "needs_background": "light"
     },
     "output_type": "display_data"
    }
   ],
   "source": [
    "scatter_viz(cv_train,train['Category'],40)"
   ]
  },
  {
   "cell_type": "markdown",
   "id": "0d224bd8-6b58-407b-bbb2-549466417258",
   "metadata": {},
   "source": [
    "When using just the counts of each ngram, we see some clostering with a lot of outliers"
   ]
  },
  {
   "cell_type": "code",
   "execution_count": 13,
   "id": "86ce4746-0e82-408b-99fb-6fe073f37dea",
   "metadata": {},
   "outputs": [
    {
     "name": "stderr",
     "output_type": "stream",
     "text": [
      "/Users/blake.tagget/opt/anaconda3/lib/python3.9/site-packages/sklearn/manifold/_t_sne.py:982: FutureWarning: The PCA initialization in TSNE will change to have the standard deviation of PC1 equal to 1e-4 in 1.2. This will ensure better convergence.\n",
      "  warnings.warn(\n"
     ]
    },
    {
     "data": {
      "image/png": "[encoded data removed]",
      "text/plain": [
       "<Figure size 504x504 with 1 Axes>"
      ]
     },
     "metadata": {
      "needs_background": "light"
     },
     "output_type": "display_data"
    }
   ],
   "source": [
    "tfidf_train, tfidf_train_stack = calc_vect('tfidf',l_p_train,'lemma_Text')\n",
    "tfidf_test, tfidf_test_stack = calc_vect('tfidf',l_p_test,'lemma_Text')\n",
    "scatter_viz(tfidf_train,train['Category'],40)"
   ]
  },
  {
   "cell_type": "markdown",
   "id": "ee8c295b-7ef7-4e5b-a933-2c03e2bf8bd9",
   "metadata": {},
   "source": [
    "When using just the percentages of each ngram in the cleaned article, we see better clustering with a some outliers.\n",
    "\n",
    "Conclusion : When translating our ngrams into numeric values, TF-IDF produces better results than the plain frequency of each ngram. "
   ]
  },
  {
   "cell_type": "markdown",
   "id": "58363cbf-8c02-4ea7-b7a1-186d5e66be80",
   "metadata": {
    "tags": []
   },
   "source": [
    "### Section 2 : Unsupervised Model Building and Training\n",
    "\n",
    "Now that we have a few usable ways to clean our dataset which meet our algorithmic needs, we need to choose a model, train it with our training data and score it's accuracy. "
   ]
  },
  {
   "cell_type": "code",
   "execution_count": 89,
   "id": "ac46e81d-484f-412f-8142-a32206690cc9",
   "metadata": {},
   "outputs": [],
   "source": [
    "from sklearn.metrics import accuracy_score\n",
    "\n",
    "def calc_ind(pred,df):\n",
    "    indexes = list(itertools.permutations(df['Category'].drop_duplicates().values)) \n",
    "\n",
    "    max_score = 0\n",
    "    max_ind = []\n",
    "\n",
    "    for ind in indexes:\n",
    "        ind = np.array(ind)\n",
    "        pred['pred_cat'] = ind[pred['pred_col']]\n",
    "\n",
    "        ac = accuracy_score(df['Category'], pred['pred_cat'])\n",
    "\n",
    "        if (ac>max_score):\n",
    "            max_score = ac\n",
    "            max_ind = ind\n",
    "            \n",
    "    return max_ind, max_score"
   ]
  },
  {
   "cell_type": "code",
   "execution_count": 138,
   "id": "ff3c66dd-c124-4698-9ad2-f07c38907a36",
   "metadata": {},
   "outputs": [],
   "source": [
    "import itertools\n",
    "from sklearn.metrics import accuracy_score\n",
    "from sklearn.decomposition import NMF\n",
    "from sklearn.model_selection import train_test_split\n",
    "\n",
    "def unsupervised_model(train_df,test_df,col,vectorizer,nmf_model):\n",
    " \n",
    "    X_train, X_test, y_train, y_test = train_test_split(train_df[[col]],train_df[['Category']], test_size=0.25, random_state=18)\n",
    "\n",
    "    vectors = vectorizer.fit_transform(X_train[col])\n",
    "    \n",
    "    train_pred = pd.DataFrame(nmf_model.fit_transform(vectors.todense().tolist()))\n",
    "    train_pred['pred_col'] = train_pred.idxmax(axis=1)\n",
    "\n",
    "    train_max_ind, train_max_score = calc_ind(train_pred,y_train)\n",
    "    print(\"Training Accuracy = \",train_max_score)\n",
    "    \n",
    "    test_pred = pd.DataFrame(nmf_model.transform(vectorizer.transform(X_test[col])))\n",
    "    test_pred['pred_col'] = test_pred.idxmax(axis=1)\n",
    "    test_pred['Category'] = train_max_ind[test_pred['pred_col']]\n",
    "    print(\"Testing Accuracy = \", accuracy_score(test_pred['Category'], y_test['Category']))\n",
    "    \n",
    "    # retain the name nmf model with ALL the train data\n",
    "    vectors_2 = vectorizer.fit_transform(train_df[col])\n",
    "    \n",
    "    train_pred = pd.DataFrame(nmf_model.fit_transform(vectors_2.todense().tolist()))\n",
    "    train_pred['pred_col'] = train_pred.idxmax(axis=1)\n",
    "    ind, score = calc_ind(train_pred,train_df)\n",
    "    print(\"Official Training Accuracy = \",score)\n",
    "    \n",
    "    # predict the official test data\n",
    "    test_pred = pd.DataFrame(nmf_model.transform(vectorizer.transform(test_df[col])))\n",
    "    test_pred['pred_col'] = test_pred.idxmax(axis=1)\n",
    "    test_df['Category'] = ind[test_pred['pred_col']]\n",
    "    \n",
    "    return vectorizer, nmf_model, train_max_ind, train_max_score, test_df[['ArticleId','Category']]"
   ]
  },
  {
   "cell_type": "markdown",
   "id": "07c6405e-a6f4-42e5-84c5-0c95465691b6",
   "metadata": {},
   "source": [
    "#### Batch 1\n",
    "I have run this model dozens of times. Below you can see some of the combinations of parameters in the TF-IDF vectorizer and NMF model I played with."
   ]
  },
  {
   "cell_type": "code",
   "execution_count": null,
   "id": "bdc0adf5-e025-4edb-bded-b9eb70c282bb",
   "metadata": {
    "tags": []
   },
   "outputs": [],
   "source": [
    "t2 = unsupervised_model(l_p_train,l_p_test,'Text',\n",
    "                         TfidfVectorizer(ngram_range=(1,2)),\n",
    "                         NMF(n_components=5,init='nndsvda',solver='mu',beta_loss='kullback-leibler',random_state=0)\n",
    "                        )\n",
    "\n",
    "Results\n",
    "Training Accuracy =  0.7833482542524619\n",
    "Testing Accuracy =  0.903485254691689\n",
    "Official Training Accuracy =  0.7308724832214765\n",
    "Kaggle Score = 0.78639"
   ]
  },
  {
   "cell_type": "code",
   "execution_count": null,
   "id": "cdc0b407-cfae-41b3-906f-465509cc2b1d",
   "metadata": {
    "tags": []
   },
   "outputs": [],
   "source": [
    "t50 = unsupervised_model(l_p_train,l_p_test,'Text',\n",
    "                         TfidfVectorizer(ngram_range=(1,2),min_df=.005),\n",
    "                         NMF(n_components=5,init='nndsvda',solver='mu',beta_loss='kullback-leibler',random_state=0)\n",
    "                        )\n",
    "Results\n",
    "Training Accuracy =  0.9471799462846912\n",
    "Testing Accuracy =  0.9651474530831099\n",
    "Official Training Accuracy =  0.9523489932885906\n",
    "Kaggle Score = 0.96326"
   ]
  },
  {
   "cell_type": "code",
   "execution_count": null,
   "id": "762f9227-7242-4245-b09b-fba9b34dfecf",
   "metadata": {},
   "outputs": [],
   "source": [
    "s50 = unsupervised_model(l_p_train,l_p_test,'stripped_Text',\n",
    "                         TfidfVectorizer(ngram_range=(1,2),min_df=.005),\n",
    "                         NMF(n_components=5,init='nndsvda',solver='mu',beta_loss='kullback-leibler',random_state=0)\n",
    "                        )\n",
    "Results\n",
    "Training Accuracy =  0.9579230080572964\n",
    "Testing Accuracy =  0.9597855227882037\n",
    "Official Training Accuracy =  0.959731543624161\n",
    "Kaggle Score = 0.95374"
   ]
  },
  {
   "cell_type": "code",
   "execution_count": null,
   "id": "ce6d4965-7dfe-4bd4-949b-17d57d3f23c6",
   "metadata": {},
   "outputs": [],
   "source": [
    "s25 = unsupervised_model(l_p_train,l_p_test,'stripped_Text',\n",
    "                         TfidfVectorizer(ngram_range=(1,2),min_df=.0025),\n",
    "                         NMF(n_components=5,init='nndsvda',solver='mu',beta_loss='kullback-leibler',random_state=0)\n",
    "                        )\n",
    "\n",
    "Results\n",
    "Training Accuracy =  0.9623992837958818\n",
    "Testing Accuracy =  0.9571045576407506\n",
    "Official Training Accuracy =  0.963758389261745\n",
    "Kaggle Score = 0.96326"
   ]
  },
  {
   "cell_type": "code",
   "execution_count": null,
   "id": "f87155fc-5298-4b98-8933-2705124e1d2c",
   "metadata": {},
   "outputs": [],
   "source": [
    "f50 = unsupervised_model(l_p_train,l_p_test,'lemma_Text',\n",
    "                         TfidfVectorizer(ngram_range=(1,2),min_df=.005),\n",
    "                         NMF(n_components=5,init='nndsvda',solver='mu',beta_loss='kullback-leibler',random_state=0)\n",
    "                        )\n",
    "\n",
    "Results\n",
    "Training Accuracy =  0.936436884512086\n",
    "Testing Accuracy =  0.938337801608579\n",
    "Official Training Accuracy =  0.9570469798657718\n",
    "Kaggle Score = 0.95374"
   ]
  },
  {
   "cell_type": "code",
   "execution_count": null,
   "id": "1c204363-6af4-4f54-9327-fee61dd1333c",
   "metadata": {},
   "outputs": [],
   "source": [
    "f25 = unsupervised_model(l_p_train,l_p_test,'lemma_Text',\n",
    "                         TfidfVectorizer(ngram_range=(1,2),min_df=.0025),\n",
    "                         NMF(n_components=5,init='nndsvda',solver='mu',beta_loss='kullback-leibler',random_state=0)\n",
    "                        )\n",
    "Results\n",
    "Training Accuracy =  0.9516562220232766\n",
    "Testing Accuracy =  0.9571045576407506\n",
    "Official Training Accuracy =  0.9630872483221476\n",
    "Kaggle Score = 0.96734"
   ]
  },
  {
   "cell_type": "markdown",
   "id": "6a78c2a5-6aed-411c-a351-9d64c84563e9",
   "metadata": {},
   "source": [
    "#### Conclusion 1 : \n",
    "In the above modeling runs, we got the highest testing scores when we use most of the text in our vectors. This suggests that the nuance in the verbiage allows for more specific predictions but including all of it will add too much noise. We can see that for NMF models, there is little difference between these combinations. I'd likely take the last model as a baseline to use in future projects and moving forward in this project for comparisons.\n",
    "\n",
    "It's also important to note that t2 took a while to run. Not removing all the rarely used words AND creating unigrams and bigrams in our vectors consumed a lot of resources."
   ]
  },
  {
   "cell_type": "markdown",
   "id": "c9a785cd-8f50-4fb8-b1c2-3d3ca0c274e2",
   "metadata": {},
   "source": [
    "#### Batch 2"
   ]
  },
  {
   "cell_type": "code",
   "execution_count": null,
   "id": "dc8b5ea7-0ac1-4062-9827-22b52ed4e1c3",
   "metadata": {},
   "outputs": [],
   "source": [
    "c1 = unsupervised_model(l_p_train,l_p_test,'stripped_Text',\n",
    "                         TfidfVectorizer(ngram_range=(1,2),min_df=.01),\n",
    "                         NMF(n_components=5,init='nndsvda',solver='mu',beta_loss='kullback-leibler',random_state=0)\n",
    "                        )\n",
    "\n",
    "Results\n",
    "Training Accuracy =  0.954341987466428\n",
    "Testing Accuracy =  0.9705093833780161\n",
    "Official Training Accuracy =  0.9557046979865772\n",
    "Kaggle Score = 0.95918"
   ]
  },
  {
   "cell_type": "code",
   "execution_count": null,
   "id": "28bf5836-dfd5-412e-b369-f458e74047e7",
   "metadata": {},
   "outputs": [],
   "source": [
    "c2 = unsupervised_model(l_p_train,l_p_test,'stripped_Text',\n",
    "                         TfidfVectorizer(ngram_range=(1,1),min_df=.01,max_df=.95),\n",
    "                         NMF(n_components=5,init='nndsvda',solver='mu',beta_loss='kullback-leibler',random_state=0)\n",
    "                        )\n",
    "\n",
    "Results\n",
    "Training Accuracy =  0.9516562220232766\n",
    "Testing Accuracy =  0.9597855227882037\n",
    "Official Training Accuracy =  0.9362416107382551\n",
    "Kaggle Score = 0.93061"
   ]
  },
  {
   "cell_type": "code",
   "execution_count": null,
   "id": "f1f318f3-b77e-4e97-80ab-6c0602bde68a",
   "metadata": {},
   "outputs": [],
   "source": [
    "c3 = unsupervised_model(l_p_train,l_p_test,'stripped_Text',\n",
    "                         TfidfVectorizer(ngram_range=(1,1),min_df=.01,max_df=.95),\n",
    "                         NMF(n_components=5,init='nndsvda',random_state=0)\n",
    "                        )\n",
    "\n",
    "Results\n",
    "Training Accuracy =  0.9042076991942704\n",
    "Testing Accuracy =  0.9088471849865952\n",
    "Official Training Accuracy =  0.9033557046979865\n",
    "Kaggle Score = 0.89931"
   ]
  },
  {
   "cell_type": "code",
   "execution_count": null,
   "id": "765a502e-33ec-4db0-9227-38fed07de32f",
   "metadata": {},
   "outputs": [],
   "source": [
    "c4 = unsupervised_model(l_p_train,l_p_test,'stripped_Text',\n",
    "                         TfidfVectorizer(ngram_range=(1,1),min_df=.01,max_df=.95),\n",
    "                         NMF(n_components=5,init='random',random_state=0)\n",
    "                        )\n",
    "\n",
    "Results\n",
    "Training Accuracy =  0.900626678603402\n",
    "Testing Accuracy =  0.8981233243967829\n",
    "Official Training Accuracy =  0.9221476510067114\n",
    "Kaggle Score = 0.93469"
   ]
  },
  {
   "cell_type": "code",
   "execution_count": null,
   "id": "14c91f10-b81c-4418-9326-a9e2ae3eb912",
   "metadata": {},
   "outputs": [],
   "source": [
    "c5 = unsupervised_model(l_p_train[l_p_train['lemma_word_cnt']<=600],l_p_test,'lemma_Text',\n",
    "                         TfidfVectorizer(ngram_range=(1,2),min_df=.1,max_df=.9, max_features=400),\n",
    "                         NMF(n_components=5,init='random',solver='mu',beta_loss='kullback-leibler',random_state=0)\n",
    "                        )\n",
    "\n",
    "\n",
    "Results\n",
    "Training Accuracy =  0.8394950405770965\n",
    "Testing Accuracy =  0.8216216216216217\n",
    "Official Training Accuracy =  0.8309668695064233\n",
    "Kaggle Score = 0.81904"
   ]
  },
  {
   "cell_type": "markdown",
   "id": "3b30a26a-4cb0-4e27-b3d3-e1f10470c38c",
   "metadata": {},
   "source": [
    "#### Conclusion 2 :\n",
    "After dropping the training score as the priority, we see a drop in final score as well. These subsequent model tweaks did nothing to improve our results (but they did run faster that the prior batch)."
   ]
  },
  {
   "cell_type": "markdown",
   "id": "4dc5275c-f461-4bec-a38b-99107d71ae4b",
   "metadata": {},
   "source": [
    "#### Batch 3 (not using NMF)\n",
    "\n",
    "Let's use a KMeans model and see how it compares to NMF. We will try to use the same TF-IDF as our favored f25 model from Batch 1, but due to model changes might have to make some adjustments."
   ]
  },
  {
   "cell_type": "code",
   "execution_count": 154,
   "id": "02de2111-29ad-49d1-a39c-e59ba30a7deb",
   "metadata": {},
   "outputs": [
    {
     "name": "stdout",
     "output_type": "stream",
     "text": [
      "Training Accuracy =  0.9140939597315436\n"
     ]
    }
   ],
   "source": [
    "\n",
    "vectorizer = TfidfVectorizer(ngram_range=(1,2),min_df=.0025)\n",
    "\n",
    "train_vectors = pd.DataFrame(vectorizer.fit_transform(l_p_train['lemma_Text']).todense().tolist(), columns=vectorizer.get_feature_names_out())\n",
    "test_vectors = pd.DataFrame(vectorizer.transform(l_p_test['lemma_Text']).todense().tolist(), columns=vectorizer.get_feature_names_out())\n",
    "\n",
    "# KMeans\n",
    "from sklearn.cluster import KMeans\n",
    "kmeans = KMeans(n_clusters=5, random_state=0)\n",
    "kmeans.fit(train_vectors)\n",
    "\n",
    "train_pred = pd.DataFrame(kmeans.predict(train_vectors)).rename(columns={0:'pred_col'})\n",
    "train_max_ind, train_max_score = calc_ind(train_pred,l_p_train)\n",
    "print(\"Training Accuracy = \",train_max_score)\n",
    "\n",
    "test_pred = pd.DataFrame(kmeans.predict(test_vectors)).rename(columns={0:'pred_col'})\n",
    "test_pred['Category'] = train_max_ind[test_pred['pred_col']]\n",
    "\n",
    "answer = test.join(test_pred)[['ArticleId','Category']]\n",
    "\n",
    "## Kaggle Score = 0.91428"
   ]
  },
  {
   "cell_type": "markdown",
   "id": "23ce7e54-96d5-4c01-9696-8238a8496300",
   "metadata": {},
   "source": [
    "We can see that the KMeans model did a pretty okay job in that the training and the testing scores are really close and it's worse than our better NMF models.\n",
    "\n",
    "Moving forward, we will use our best kaggle score for comparison = 96.73%"
   ]
  },
  {
   "cell_type": "code",
   "execution_count": 177,
   "id": "0100060b-257b-4724-8b40-7a52c12741bd",
   "metadata": {},
   "outputs": [
    {
     "data": {
      "text/html": [
       "<div>\n",
       "<style scoped>\n",
       "    .dataframe tbody tr th:only-of-type {\n",
       "        vertical-align: middle;\n",
       "    }\n",
       "\n",
       "    .dataframe tbody tr th {\n",
       "        vertical-align: top;\n",
       "    }\n",
       "\n",
       "    .dataframe thead th {\n",
       "        text-align: right;\n",
       "    }\n",
       "</style>\n",
       "<table border=\"1\" class=\"dataframe\">\n",
       "  <thead>\n",
       "    <tr style=\"text-align: right;\">\n",
       "      <th></th>\n",
       "      <th>Training_Score</th>\n",
       "      <th>Kaggle_Score</th>\n",
       "    </tr>\n",
       "  </thead>\n",
       "  <tbody>\n",
       "    <tr>\n",
       "      <th>f25</th>\n",
       "      <td>0.963087</td>\n",
       "      <td>0.96734</td>\n",
       "    </tr>\n",
       "    <tr>\n",
       "      <th>t50</th>\n",
       "      <td>0.952349</td>\n",
       "      <td>0.96326</td>\n",
       "    </tr>\n",
       "    <tr>\n",
       "      <th>s25</th>\n",
       "      <td>0.963758</td>\n",
       "      <td>0.96326</td>\n",
       "    </tr>\n",
       "    <tr>\n",
       "      <th>c1</th>\n",
       "      <td>0.955705</td>\n",
       "      <td>0.95918</td>\n",
       "    </tr>\n",
       "    <tr>\n",
       "      <th>s50</th>\n",
       "      <td>0.959732</td>\n",
       "      <td>0.95374</td>\n",
       "    </tr>\n",
       "    <tr>\n",
       "      <th>f50</th>\n",
       "      <td>0.957047</td>\n",
       "      <td>0.95374</td>\n",
       "    </tr>\n",
       "    <tr>\n",
       "      <th>c4</th>\n",
       "      <td>0.922148</td>\n",
       "      <td>0.93469</td>\n",
       "    </tr>\n",
       "    <tr>\n",
       "      <th>c2</th>\n",
       "      <td>0.936242</td>\n",
       "      <td>0.93061</td>\n",
       "    </tr>\n",
       "    <tr>\n",
       "      <th>kmeans</th>\n",
       "      <td>0.914094</td>\n",
       "      <td>0.91428</td>\n",
       "    </tr>\n",
       "    <tr>\n",
       "      <th>c3</th>\n",
       "      <td>0.903356</td>\n",
       "      <td>0.89931</td>\n",
       "    </tr>\n",
       "    <tr>\n",
       "      <th>c5</th>\n",
       "      <td>0.830967</td>\n",
       "      <td>0.81904</td>\n",
       "    </tr>\n",
       "    <tr>\n",
       "      <th>t2</th>\n",
       "      <td>0.730872</td>\n",
       "      <td>0.78639</td>\n",
       "    </tr>\n",
       "  </tbody>\n",
       "</table>\n",
       "</div>"
      ],
      "text/plain": [
       "        Training_Score  Kaggle_Score\n",
       "f25           0.963087       0.96734\n",
       "t50           0.952349       0.96326\n",
       "s25           0.963758       0.96326\n",
       "c1            0.955705       0.95918\n",
       "s50           0.959732       0.95374\n",
       "f50           0.957047       0.95374\n",
       "c4            0.922148       0.93469\n",
       "c2            0.936242       0.93061\n",
       "kmeans        0.914094       0.91428\n",
       "c3            0.903356       0.89931\n",
       "c5            0.830967       0.81904\n",
       "t2            0.730872       0.78639"
      ]
     },
     "execution_count": 177,
     "metadata": {},
     "output_type": "execute_result"
    }
   ],
   "source": [
    "sts = {\n",
    "    't2' : [0.7308724832214765,0.78639],\n",
    "    't50' : [0.9523489932885906,0.96326],\n",
    "    's50' : [0.959731543624161,0.95374],\n",
    "    's25' : [0.963758389261745,0.96326],\n",
    "    'f50' : [0.9570469798657718,0.95374],\n",
    "    'f25' : [0.9630872483221476,0.96734],\n",
    "    'c1' : [0.9557046979865772,0.95918],\n",
    "    'c2' : [0.9362416107382551,0.93061],\n",
    "    'c3' : [0.9033557046979865,0.89931],\n",
    "    'c4' : [0.9221476510067114,0.93469],\n",
    "    'c5' : [0.8309668695064233,0.81904],\n",
    "    'kmeans': [0.9140939597315436,0.91428]\n",
    "      }\n",
    "\n",
    "results_summary = pd.DataFrame(sts).T\n",
    "results_summary.columns=['Training_Score','Kaggle_Score']\n",
    "\n",
    "results_summary.sort_values(by='Kaggle_Score',ascending=False)"
   ]
  },
  {
   "cell_type": "markdown",
   "id": "36e66b01-3d73-40ee-84f5-50f157acc639",
   "metadata": {},
   "source": [
    "## Addressing questions from the assignment: \n",
    "1) When you train the unsupervised model for matrix factorization, should you include texts (word features) from the test dataset or not as the input matrix? Why or why not?\n",
    "- No. Never include testing data when deciding on the model. What I have done here is split the training data into training and test to make iteration faster (as to not constantly upload to kaggle - even though I did to close the confidence loop). Once I have a model I like, I \"retrain\" the model using the complete training set, make the predictions from the test set, and submit. This worked well.\n",
    "\n",
    "\n",
    "2) Build a model using the matrix factorization method(s) and predict the train and test data labels. Choose any hyperparameter (e.g., number of word features) to begin with.\n",
    "- Done (many times!)\n",
    "\n",
    "\n",
    "3) Measure the performances on predictions from both train and test datasets. You can use accuracy, confusion matrix, etc., to inspect the performance. You can get accuracy for the test data by submitting the result to Kaggle. \n",
    "- Done (many times!)\n",
    "\n",
    "\n",
    "4) Change hyperparameter(s) and record the results. We recommend including a summary table and/or graphs.\n",
    "- Per the above table, we can see that we need to strike a balance between using every word (worst score) and using most words / lemmas.\n",
    "\n",
    "\n",
    "5) Improve the model performance if you can- some ideas may include but are not limited to; using different feature extraction methods, fit models in different subsets of data, ensemble the model prediction results, etc. \n",
    "- Done (many times!)\n"
   ]
  },
  {
   "cell_type": "markdown",
   "id": "339a7411-8da1-4dd3-845e-16ee030ad58b",
   "metadata": {
    "tags": []
   },
   "source": [
    "### Section 3 : Supervised Model Comparison\n",
    "\n",
    "Now let's take our cleaned text and predict the categories using some supervised learning methods. I'll tweak / tune behind the scenes again and save you the tedious outputs. For even comparison, let's use the same TF-IDF translation from f25 way above.\n",
    "\n",
    "Fun Fact : I should probably have been using sklearn pipelines for this - maybe for the next assignment!"
   ]
  },
  {
   "cell_type": "code",
   "execution_count": 157,
   "id": "7297076d-c7bc-4f05-b7a7-3ea2abac37c1",
   "metadata": {},
   "outputs": [],
   "source": [
    "X_train = train_vectors.copy()\n",
    "X_test = test_vectors.copy()\n",
    "y_train = l_p_train['Category']"
   ]
  },
  {
   "cell_type": "code",
   "execution_count": 158,
   "id": "b70633ed-7a61-4463-9665-b9c4e3f2c109",
   "metadata": {},
   "outputs": [
    {
     "name": "stdout",
     "output_type": "stream",
     "text": [
      "Training Accuracy =  0.9973154362416108\n"
     ]
    }
   ],
   "source": [
    "# Logistic Regression\n",
    "\n",
    "from sklearn.linear_model import LogisticRegression\n",
    "lr = LogisticRegression().fit(X_train, y_train)\n",
    "\n",
    "print(\"Training Accuracy = \",lr.score(X_train, y_train))\n",
    "results = test.join(pd.DataFrame({'Category':lr.predict(X_test)}))[['ArticleId','Category']]\n",
    "\n",
    "\n",
    "## Kaggle Score = 0.97959"
   ]
  },
  {
   "cell_type": "code",
   "execution_count": 160,
   "id": "e937ebe8-d6d0-4b00-ac84-53acbb718aae",
   "metadata": {},
   "outputs": [
    {
     "name": "stdout",
     "output_type": "stream",
     "text": [
      "Training Accuracy =  0.9630872483221476\n"
     ]
    }
   ],
   "source": [
    "# KNN\n",
    "\n",
    "from sklearn.neighbors import KNeighborsClassifier\n",
    "\n",
    "neigh = KNeighborsClassifier(n_neighbors=10)\n",
    "neigh.fit(X_train, y_train)\n",
    "\n",
    "print(\"Training Accuracy = \",neigh.score(X_train, y_train))\n",
    "results = test.join(pd.DataFrame({'Category':neigh.predict(X_test)}))[['ArticleId','Category']]\n",
    "\n",
    "## Kaggle Score = 0.94965"
   ]
  },
  {
   "cell_type": "code",
   "execution_count": 162,
   "id": "1b8c2539-6ac1-4ef9-bddd-d4d328d11d43",
   "metadata": {},
   "outputs": [
    {
     "name": "stdout",
     "output_type": "stream",
     "text": [
      "Training Accuracy =  1.0\n"
     ]
    }
   ],
   "source": [
    "# Linear Support Vector Classification \n",
    "\n",
    "# multi_class{‘ovr’, ‘crammer_singer’}\n",
    "\n",
    "from sklearn.svm import LinearSVC\n",
    "\n",
    "clf = LinearSVC()\n",
    "clf.fit(X_train, y_train)\n",
    "\n",
    "print(\"Training Accuracy = \",clf.score(X_train, y_train))\n",
    "results = test.join(pd.DataFrame({'Category':clf.predict(X_test)}))[['ArticleId','Category']]\n",
    "\n",
    "## Kaggle Score = 0.98231"
   ]
  },
  {
   "cell_type": "code",
   "execution_count": 164,
   "id": "d779b7ad-d2e6-4b0a-b8eb-991a45de5e58",
   "metadata": {},
   "outputs": [
    {
     "name": "stdout",
     "output_type": "stream",
     "text": [
      "Training Accuracy =  1.0\n"
     ]
    }
   ],
   "source": [
    "# C-Support Vector Classification \n",
    "\n",
    "from sklearn.svm import SVC\n",
    "\n",
    "clf = SVC(kernel='linear')\n",
    "clf.fit(X_train, y_train)\n",
    "\n",
    "print(\"Training Accuracy = \",clf.score(X_train, y_train))\n",
    "\n",
    "results = test.join(pd.DataFrame({'Category':clf.predict(X_test)}))[['ArticleId','Category']]\n",
    "\n",
    "## Kaggle Score = 0.98367"
   ]
  },
  {
   "cell_type": "markdown",
   "id": "a753ea65-f4cd-462d-9a4f-78692d88579d",
   "metadata": {
    "tags": []
   },
   "source": [
    "### Section 4 : Summary and Review"
   ]
  },
  {
   "cell_type": "markdown",
   "id": "5d5de06a-8fb1-403e-aa9a-39325b69a781",
   "metadata": {},
   "source": [
    "Wow. Look at all those models. this was a fun assignment to take my time with and learn that there are economies of scale with respect to model tuning and that choosing a different model in general can really boost the score. Oddly enough, per the results above, I don't think I overfit any of my models (i.e. there are now high training score and low testing score combinations). If I were to do this again I'd write a function to loop though different models / parameters in an automated fashion, produce a results table and move on. this would save a lot of timewaiting for the program to finish."
   ]
  },
  {
   "cell_type": "markdown",
   "id": "0202dee1-45c6-4cce-ab35-7d4de7f88328",
   "metadata": {},
   "source": [
    "#### References\n",
    "As stated in the assignment directions, using other information on the internet and other Kaggle code sumbissions is allowed to help us learn.\n",
    "\n",
    "The following is a list of web pages I consulted when creating this assignment:\n",
    "\n",
    "https://www.analyticsvidhya.com/blog/2021/06/part-15-step-by-step-guide-to-master-nlp-topic-modelling-using-nmf/\n",
    "https://monkeylearn.com/blog/what-is-tf-idf/\n",
    "https://datascience-george.medium.com/using-tf-idf-for-document-classification-d75794e3d321\n",
    "https://cloud.google.com/blog/products/ai-machine-learning/problem-solving-with-ml-automatic-document-classificationhttps://cloud.google.com/blog/products/ai-machine-learning/problem-solving-with-ml-automatic-document-classification\n",
    "\n",
    "Influencial code examples: \n",
    "https://www.kaggle.com/code/mattison/unsupervised-matrix-factorization\n",
    "\n",
    "\n"
   ]
  },
  {
   "cell_type": "code",
   "execution_count": null,
   "id": "d1423253-0c31-41be-9b2c-67fae7a033f3",
   "metadata": {},
   "outputs": [],
   "source": []
  }
 ],
 "metadata": {
  "kernelspec": {
   "display_name": "Python 3 (ipykernel)",
   "language": "python",
   "name": "python3"
  },
  "language_info": {
   "codemirror_mode": {
    "name": "ipython",
    "version": 3
   },
   "file_extension": ".py",
   "mimetype": "text/x-python",
   "name": "python",
   "nbconvert_exporter": "python",
   "pygments_lexer": "ipython3",
   "version": "3.9.12"
  }
 },
 "nbformat": 4,
 "nbformat_minor": 5
}
