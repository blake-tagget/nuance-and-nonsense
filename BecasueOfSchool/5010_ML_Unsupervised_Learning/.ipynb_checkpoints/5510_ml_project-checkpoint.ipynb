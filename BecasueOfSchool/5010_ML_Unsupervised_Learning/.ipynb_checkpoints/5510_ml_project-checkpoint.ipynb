{
 "cells": [
  {
   "cell_type": "markdown",
   "id": "d96c1804-3c42-4061-82ef-d1c37c02db52",
   "metadata": {},
   "source": [
    "# Welcome to my ML Project for Course 5510 in the CU Boulder MS-DS Program"
   ]
  },
  {
   "cell_type": "markdown",
   "id": "f4ac7fda-39fd-4a77-ae3e-0065d783ad67",
   "metadata": {},
   "source": [
    "### This file can be found in my [personal Github](https://github.com/blake-tagget/nuance-and-nonsense/tree/main/BecasueOfSchool/5010_ML_Unsupervised_Learning) "
   ]
  },
  {
   "cell_type": "markdown",
   "id": "91139724-9411-49df-85cf-c83f42108c9b",
   "metadata": {},
   "source": [
    "## Project Intro\n",
    "\n",
    "### "
   ]
  },
  {
   "cell_type": "markdown",
   "id": "43d23684-9ba7-4dd3-ba35-c6e0fbc9b8e7",
   "metadata": {},
   "source": [
    "## Step 1 : Gather data"
   ]
  },
  {
   "cell_type": "code",
   "execution_count": 1,
   "id": "0c83c50a-b8ae-4fdb-a180-1e5461052c91",
   "metadata": {},
   "outputs": [
    {
     "name": "stdout",
     "output_type": "stream",
     "text": [
      "8123 rows of mushroom data loaded into a dataframe \n",
      "23 columns of categorical mushroom data loaded into a dataframe \n"
     ]
    }
   ],
   "source": [
    "# Step 1 - Pull some data:\n",
    "\n",
    "import pandas as pd\n",
    "pd.set_option('display.max_columns', None)\n",
    "pd.set_option('display.max_rows', None)\n",
    "\n",
    "\n",
    "# when we upload this, ...\n",
    "books_data = pd.read_csv('Books.csv')\n",
    "ratings_data = pd.read_csv('Ratings.csv')\n",
    "users_data = pd.read_csv('Users.csv')\n",
    "\n",
    "\n",
    "print(f\"\"\"{raw_data.shape[0]} rows of  data loaded into a dataframe \"\"\")\n",
    "print(f\"\"\"{raw_data.shape[1]} columns of  data loaded into a dataframe \"\"\")"
   ]
  },
  {
   "cell_type": "code",
   "execution_count": 2,
   "id": "de9e6097-5d7b-4d86-be84-1efff7439924",
   "metadata": {},
   "outputs": [
    {
     "data": {
      "text/html": [
       "<div>\n",
       "<style scoped>\n",
       "    .dataframe tbody tr th:only-of-type {\n",
       "        vertical-align: middle;\n",
       "    }\n",
       "\n",
       "    .dataframe tbody tr th {\n",
       "        vertical-align: top;\n",
       "    }\n",
       "\n",
       "    .dataframe thead th {\n",
       "        text-align: right;\n",
       "    }\n",
       "</style>\n",
       "<table border=\"1\" class=\"dataframe\">\n",
       "  <thead>\n",
       "    <tr style=\"text-align: right;\">\n",
       "      <th></th>\n",
       "      <th>p</th>\n",
       "      <th>x</th>\n",
       "      <th>s</th>\n",
       "      <th>n</th>\n",
       "      <th>t</th>\n",
       "      <th>p.1</th>\n",
       "      <th>f</th>\n",
       "      <th>c</th>\n",
       "      <th>n.1</th>\n",
       "      <th>k</th>\n",
       "      <th>e</th>\n",
       "      <th>e.1</th>\n",
       "      <th>s.1</th>\n",
       "      <th>s.2</th>\n",
       "      <th>w</th>\n",
       "      <th>w.1</th>\n",
       "      <th>p.2</th>\n",
       "      <th>w.2</th>\n",
       "      <th>o</th>\n",
       "      <th>p.3</th>\n",
       "      <th>k.1</th>\n",
       "      <th>s.3</th>\n",
       "      <th>u</th>\n",
       "    </tr>\n",
       "  </thead>\n",
       "  <tbody>\n",
       "    <tr>\n",
       "      <th>0</th>\n",
       "      <td>e</td>\n",
       "      <td>x</td>\n",
       "      <td>s</td>\n",
       "      <td>y</td>\n",
       "      <td>t</td>\n",
       "      <td>a</td>\n",
       "      <td>f</td>\n",
       "      <td>c</td>\n",
       "      <td>b</td>\n",
       "      <td>k</td>\n",
       "      <td>e</td>\n",
       "      <td>c</td>\n",
       "      <td>s</td>\n",
       "      <td>s</td>\n",
       "      <td>w</td>\n",
       "      <td>w</td>\n",
       "      <td>p</td>\n",
       "      <td>w</td>\n",
       "      <td>o</td>\n",
       "      <td>p</td>\n",
       "      <td>n</td>\n",
       "      <td>n</td>\n",
       "      <td>g</td>\n",
       "    </tr>\n",
       "    <tr>\n",
       "      <th>1</th>\n",
       "      <td>e</td>\n",
       "      <td>b</td>\n",
       "      <td>s</td>\n",
       "      <td>w</td>\n",
       "      <td>t</td>\n",
       "      <td>l</td>\n",
       "      <td>f</td>\n",
       "      <td>c</td>\n",
       "      <td>b</td>\n",
       "      <td>n</td>\n",
       "      <td>e</td>\n",
       "      <td>c</td>\n",
       "      <td>s</td>\n",
       "      <td>s</td>\n",
       "      <td>w</td>\n",
       "      <td>w</td>\n",
       "      <td>p</td>\n",
       "      <td>w</td>\n",
       "      <td>o</td>\n",
       "      <td>p</td>\n",
       "      <td>n</td>\n",
       "      <td>n</td>\n",
       "      <td>m</td>\n",
       "    </tr>\n",
       "    <tr>\n",
       "      <th>2</th>\n",
       "      <td>p</td>\n",
       "      <td>x</td>\n",
       "      <td>y</td>\n",
       "      <td>w</td>\n",
       "      <td>t</td>\n",
       "      <td>p</td>\n",
       "      <td>f</td>\n",
       "      <td>c</td>\n",
       "      <td>n</td>\n",
       "      <td>n</td>\n",
       "      <td>e</td>\n",
       "      <td>e</td>\n",
       "      <td>s</td>\n",
       "      <td>s</td>\n",
       "      <td>w</td>\n",
       "      <td>w</td>\n",
       "      <td>p</td>\n",
       "      <td>w</td>\n",
       "      <td>o</td>\n",
       "      <td>p</td>\n",
       "      <td>k</td>\n",
       "      <td>s</td>\n",
       "      <td>u</td>\n",
       "    </tr>\n",
       "    <tr>\n",
       "      <th>3</th>\n",
       "      <td>e</td>\n",
       "      <td>x</td>\n",
       "      <td>s</td>\n",
       "      <td>g</td>\n",
       "      <td>f</td>\n",
       "      <td>n</td>\n",
       "      <td>f</td>\n",
       "      <td>w</td>\n",
       "      <td>b</td>\n",
       "      <td>k</td>\n",
       "      <td>t</td>\n",
       "      <td>e</td>\n",
       "      <td>s</td>\n",
       "      <td>s</td>\n",
       "      <td>w</td>\n",
       "      <td>w</td>\n",
       "      <td>p</td>\n",
       "      <td>w</td>\n",
       "      <td>o</td>\n",
       "      <td>e</td>\n",
       "      <td>n</td>\n",
       "      <td>a</td>\n",
       "      <td>g</td>\n",
       "    </tr>\n",
       "    <tr>\n",
       "      <th>4</th>\n",
       "      <td>e</td>\n",
       "      <td>x</td>\n",
       "      <td>y</td>\n",
       "      <td>y</td>\n",
       "      <td>t</td>\n",
       "      <td>a</td>\n",
       "      <td>f</td>\n",
       "      <td>c</td>\n",
       "      <td>b</td>\n",
       "      <td>n</td>\n",
       "      <td>e</td>\n",
       "      <td>c</td>\n",
       "      <td>s</td>\n",
       "      <td>s</td>\n",
       "      <td>w</td>\n",
       "      <td>w</td>\n",
       "      <td>p</td>\n",
       "      <td>w</td>\n",
       "      <td>o</td>\n",
       "      <td>p</td>\n",
       "      <td>k</td>\n",
       "      <td>n</td>\n",
       "      <td>g</td>\n",
       "    </tr>\n",
       "  </tbody>\n",
       "</table>\n",
       "</div>"
      ],
      "text/plain": [
       "   p  x  s  n  t p.1  f  c n.1  k  e e.1 s.1 s.2  w w.1 p.2 w.2  o p.3 k.1  \\\n",
       "0  e  x  s  y  t   a  f  c   b  k  e   c   s   s  w   w   p   w  o   p   n   \n",
       "1  e  b  s  w  t   l  f  c   b  n  e   c   s   s  w   w   p   w  o   p   n   \n",
       "2  p  x  y  w  t   p  f  c   n  n  e   e   s   s  w   w   p   w  o   p   k   \n",
       "3  e  x  s  g  f   n  f  w   b  k  t   e   s   s  w   w   p   w  o   e   n   \n",
       "4  e  x  y  y  t   a  f  c   b  n  e   c   s   s  w   w   p   w  o   p   k   \n",
       "\n",
       "  s.3  u  \n",
       "0   n  g  \n",
       "1   n  m  \n",
       "2   s  u  \n",
       "3   a  g  \n",
       "4   n  g  "
      ]
     },
     "execution_count": 2,
     "metadata": {},
     "output_type": "execute_result"
    }
   ],
   "source": [
    "# let's view the first few rows and headers of our data\n",
    "raw_data.head()"
   ]
  },
  {
   "cell_type": "markdown",
   "id": "8935750a-b962-4482-a310-03771ba1db71",
   "metadata": {},
   "source": [
    "## Step 2 : Identify an Unsupervised Machine Learning Problem"
   ]
  },
  {
   "cell_type": "markdown",
   "id": "fef242b2-bc60-4fdb-8614-1a877b3f5040",
   "metadata": {},
   "source": [
    "### >>> Here is the scenario: \n",
    "    \n",
    "### In short: build a ."
   ]
  },
  {
   "cell_type": "markdown",
   "id": "24e6d5cf-fde7-43a0-a7a5-f16833cb0642",
   "metadata": {},
   "source": [
    "## Step 3 : Exploratory Data Analysis (EDA) — Inspect, Visualize and Clean the Data"
   ]
  },
  {
   "cell_type": "markdown",
   "id": "4d8cd14d-8e2a-4d1e-9503-9028a2ec7f3a",
   "metadata": {},
   "source": [
    "#### Above, we can see that the column headers need some cleaning as well as the values in the data. \n",
    "\n"
   ]
  },
  {
   "cell_type": "code",
   "execution_count": 3,
   "id": "873ce1c0-2ef7-4345-bbad-ca8f1e2357fd",
   "metadata": {},
   "outputs": [],
   "source": []
  },
  {
   "cell_type": "code",
   "execution_count": 5,
   "id": "d428514d-a3bc-4735-a716-f300c178e626",
   "metadata": {},
   "outputs": [
    {
     "data": {
      "text/html": [
       "<div>\n",
       "<style scoped>\n",
       "    .dataframe tbody tr th:only-of-type {\n",
       "        vertical-align: middle;\n",
       "    }\n",
       "\n",
       "    .dataframe tbody tr th {\n",
       "        vertical-align: top;\n",
       "    }\n",
       "\n",
       "    .dataframe thead th {\n",
       "        text-align: right;\n",
       "    }\n",
       "</style>\n",
       "<table border=\"1\" class=\"dataframe\">\n",
       "  <thead>\n",
       "    <tr style=\"text-align: right;\">\n",
       "      <th></th>\n",
       "      <th>attribute</th>\n",
       "      <th>cap_shape</th>\n",
       "      <th>cap_surface</th>\n",
       "      <th>cap_color</th>\n",
       "      <th>has_bruises</th>\n",
       "      <th>odor</th>\n",
       "      <th>gill_attachment</th>\n",
       "      <th>gill_spacing</th>\n",
       "      <th>gill_size</th>\n",
       "      <th>gill_color</th>\n",
       "      <th>stalk_shape</th>\n",
       "      <th>stalk_root</th>\n",
       "      <th>stalk_surface_above_ring</th>\n",
       "      <th>stalk_surface_below_ring</th>\n",
       "      <th>stalk_color_above_ring</th>\n",
       "      <th>stalk_color_below_ring</th>\n",
       "      <th>veil_type</th>\n",
       "      <th>veil_color</th>\n",
       "      <th>ring_number</th>\n",
       "      <th>ring_type</th>\n",
       "      <th>spore_print_color</th>\n",
       "      <th>population</th>\n",
       "      <th>habitat</th>\n",
       "    </tr>\n",
       "  </thead>\n",
       "  <tbody>\n",
       "    <tr>\n",
       "      <th>0</th>\n",
       "      <td>e</td>\n",
       "      <td>x</td>\n",
       "      <td>s</td>\n",
       "      <td>y</td>\n",
       "      <td>t</td>\n",
       "      <td>a</td>\n",
       "      <td>f</td>\n",
       "      <td>c</td>\n",
       "      <td>b</td>\n",
       "      <td>k</td>\n",
       "      <td>e</td>\n",
       "      <td>c</td>\n",
       "      <td>s</td>\n",
       "      <td>s</td>\n",
       "      <td>w</td>\n",
       "      <td>w</td>\n",
       "      <td>p</td>\n",
       "      <td>w</td>\n",
       "      <td>o</td>\n",
       "      <td>p</td>\n",
       "      <td>n</td>\n",
       "      <td>n</td>\n",
       "      <td>g</td>\n",
       "    </tr>\n",
       "    <tr>\n",
       "      <th>1</th>\n",
       "      <td>e</td>\n",
       "      <td>b</td>\n",
       "      <td>s</td>\n",
       "      <td>w</td>\n",
       "      <td>t</td>\n",
       "      <td>l</td>\n",
       "      <td>f</td>\n",
       "      <td>c</td>\n",
       "      <td>b</td>\n",
       "      <td>n</td>\n",
       "      <td>e</td>\n",
       "      <td>c</td>\n",
       "      <td>s</td>\n",
       "      <td>s</td>\n",
       "      <td>w</td>\n",
       "      <td>w</td>\n",
       "      <td>p</td>\n",
       "      <td>w</td>\n",
       "      <td>o</td>\n",
       "      <td>p</td>\n",
       "      <td>n</td>\n",
       "      <td>n</td>\n",
       "      <td>m</td>\n",
       "    </tr>\n",
       "    <tr>\n",
       "      <th>2</th>\n",
       "      <td>p</td>\n",
       "      <td>x</td>\n",
       "      <td>y</td>\n",
       "      <td>w</td>\n",
       "      <td>t</td>\n",
       "      <td>p</td>\n",
       "      <td>f</td>\n",
       "      <td>c</td>\n",
       "      <td>n</td>\n",
       "      <td>n</td>\n",
       "      <td>e</td>\n",
       "      <td>e</td>\n",
       "      <td>s</td>\n",
       "      <td>s</td>\n",
       "      <td>w</td>\n",
       "      <td>w</td>\n",
       "      <td>p</td>\n",
       "      <td>w</td>\n",
       "      <td>o</td>\n",
       "      <td>p</td>\n",
       "      <td>k</td>\n",
       "      <td>s</td>\n",
       "      <td>u</td>\n",
       "    </tr>\n",
       "    <tr>\n",
       "      <th>3</th>\n",
       "      <td>e</td>\n",
       "      <td>x</td>\n",
       "      <td>s</td>\n",
       "      <td>g</td>\n",
       "      <td>f</td>\n",
       "      <td>n</td>\n",
       "      <td>f</td>\n",
       "      <td>w</td>\n",
       "      <td>b</td>\n",
       "      <td>k</td>\n",
       "      <td>t</td>\n",
       "      <td>e</td>\n",
       "      <td>s</td>\n",
       "      <td>s</td>\n",
       "      <td>w</td>\n",
       "      <td>w</td>\n",
       "      <td>p</td>\n",
       "      <td>w</td>\n",
       "      <td>o</td>\n",
       "      <td>e</td>\n",
       "      <td>n</td>\n",
       "      <td>a</td>\n",
       "      <td>g</td>\n",
       "    </tr>\n",
       "    <tr>\n",
       "      <th>4</th>\n",
       "      <td>e</td>\n",
       "      <td>x</td>\n",
       "      <td>y</td>\n",
       "      <td>y</td>\n",
       "      <td>t</td>\n",
       "      <td>a</td>\n",
       "      <td>f</td>\n",
       "      <td>c</td>\n",
       "      <td>b</td>\n",
       "      <td>n</td>\n",
       "      <td>e</td>\n",
       "      <td>c</td>\n",
       "      <td>s</td>\n",
       "      <td>s</td>\n",
       "      <td>w</td>\n",
       "      <td>w</td>\n",
       "      <td>p</td>\n",
       "      <td>w</td>\n",
       "      <td>o</td>\n",
       "      <td>p</td>\n",
       "      <td>k</td>\n",
       "      <td>n</td>\n",
       "      <td>g</td>\n",
       "    </tr>\n",
       "  </tbody>\n",
       "</table>\n",
       "</div>"
      ],
      "text/plain": [
       "  attribute cap_shape cap_surface cap_color has_bruises odor gill_attachment  \\\n",
       "0         e         x           s         y           t    a               f   \n",
       "1         e         b           s         w           t    l               f   \n",
       "2         p         x           y         w           t    p               f   \n",
       "3         e         x           s         g           f    n               f   \n",
       "4         e         x           y         y           t    a               f   \n",
       "\n",
       "  gill_spacing gill_size gill_color stalk_shape stalk_root  \\\n",
       "0            c         b          k           e          c   \n",
       "1            c         b          n           e          c   \n",
       "2            c         n          n           e          e   \n",
       "3            w         b          k           t          e   \n",
       "4            c         b          n           e          c   \n",
       "\n",
       "  stalk_surface_above_ring stalk_surface_below_ring stalk_color_above_ring  \\\n",
       "0                        s                        s                      w   \n",
       "1                        s                        s                      w   \n",
       "2                        s                        s                      w   \n",
       "3                        s                        s                      w   \n",
       "4                        s                        s                      w   \n",
       "\n",
       "  stalk_color_below_ring veil_type veil_color ring_number ring_type  \\\n",
       "0                      w         p          w           o         p   \n",
       "1                      w         p          w           o         p   \n",
       "2                      w         p          w           o         p   \n",
       "3                      w         p          w           o         e   \n",
       "4                      w         p          w           o         p   \n",
       "\n",
       "  spore_print_color population habitat  \n",
       "0                 n          n       g  \n",
       "1                 n          n       m  \n",
       "2                 k          s       u  \n",
       "3                 n          a       g  \n",
       "4                 k          n       g  "
      ]
     },
     "execution_count": 5,
     "metadata": {},
     "output_type": "execute_result"
    }
   ],
   "source": [
    "# let's take another look at our data with our now readable headers\n",
    "raw_data.head()"
   ]
  },
  {
   "cell_type": "code",
   "execution_count": 6,
   "id": "b9ef0dc4-1b73-4651-ba92-328e0c70c912",
   "metadata": {},
   "outputs": [],
   "source": [
    "# We also see that the stalk_root feature has \"?\" in place of missing values. Per the data docs there are ~2k of these. \n",
    "# We should still have enough data if we remove these rows\n",
    "\n",
    "\n",
    "# we will also drop any rows with missing data\n",
    "initial_data = raw_data[raw_data['stalk_root']!=\"?\"].dropna()"
   ]
  },
  {
   "cell_type": "code",
   "execution_count": 7,
   "id": "58e49e6c-f9bc-4848-9085-a663595db011",
   "metadata": {},
   "outputs": [
    {
     "name": "stdout",
     "output_type": "stream",
     "text": [
      "5643 rows of mushroom data loaded remain. \n"
     ]
    }
   ],
   "source": [
    "print(f\"\"\"{len(initial_data)} rows of mushroom data loaded remain. \"\"\")\n"
   ]
  },
  {
   "cell_type": "code",
   "execution_count": 8,
   "id": "b84f6696-3b2a-438c-81fe-a0193f7caf2e",
   "metadata": {},
   "outputs": [
    {
     "data": {
      "text/plain": [
       "attribute                   category\n",
       "cap_shape                   category\n",
       "cap_surface                 category\n",
       "cap_color                   category\n",
       "has_bruises                 category\n",
       "odor                        category\n",
       "gill_attachment             category\n",
       "gill_spacing                category\n",
       "gill_size                   category\n",
       "gill_color                  category\n",
       "stalk_shape                 category\n",
       "stalk_root                  category\n",
       "stalk_surface_above_ring    category\n",
       "stalk_surface_below_ring    category\n",
       "stalk_color_above_ring      category\n",
       "stalk_color_below_ring      category\n",
       "veil_type                   category\n",
       "veil_color                  category\n",
       "ring_number                 category\n",
       "ring_type                   category\n",
       "spore_print_color           category\n",
       "population                  category\n",
       "habitat                     category\n",
       "dtype: object"
      ]
     },
     "execution_count": 8,
     "metadata": {},
     "output_type": "execute_result"
    }
   ],
   "source": [
    "initial_data.dtypes"
   ]
  },
  {
   "cell_type": "code",
   "execution_count": null,
   "id": "6d967738-1ceb-435a-ae9c-0674c90eae52",
   "metadata": {},
   "outputs": [],
   "source": []
  },
  {
   "cell_type": "code",
   "execution_count": null,
   "id": "12e1adc1-47b3-4e4f-9581-9e3a90365f95",
   "metadata": {},
   "outputs": [],
   "source": []
  },
  {
   "cell_type": "markdown",
   "id": "1e42826e-a188-422d-b5e5-6048606084d8",
   "metadata": {},
   "source": [
    "#### Great! Our final data cleaning step is to transform our table of string categorical variables into something more computationally consumable - numbers. \n",
    "\n",
    "To do this, we will utilize a methodology called \"One Hot Encoding.\" Conveniently, there is a sklearn function for this exact purpose. \n",
    "\n",
    "Note: Because our features do not have order, we cannot use orinal encoding."
   ]
  },
  {
   "cell_type": "markdown",
   "id": "dd824c15-325a-42d3-91d7-e359f7e32ceb",
   "metadata": {},
   "source": [
    "## Cleaning Conclusions\n",
    "\n",
    "### Because the data is 100% categorical variables / features, we needed to perform a One-Hot encoding to convert the string data into numeric represented boolean data. We were able to do this with the help of an sklearn package and we can now begin to vizualize. \n",
    "\n",
    "### Also - due to the nature of 100% categorical data, our previously condensed dataset is now pretty sparse in nature (but has been converted technically)."
   ]
  },
  {
   "cell_type": "markdown",
   "id": "29db52fa-a1f3-427e-be9a-b08c7d5b496b",
   "metadata": {},
   "source": [
    "#### Now that the data is cleaned, we should split it BEFORE we start to vizualize and play around with explanation. "
   ]
  },
  {
   "cell_type": "code",
   "execution_count": 13,
   "id": "b38bb153-9446-40c8-b670-48524a85c61d",
   "metadata": {},
   "outputs": [],
   "source": [
    "from sklearn.model_selection import train_test_split\n",
    "\n",
    "# let's keep the standard 20% as our testing data\n",
    "train_df, test_df = train_test_split(reduced_transformed_df, test_size=0.25)\n"
   ]
  },
  {
   "cell_type": "markdown",
   "id": "bcda5cb5-aeb4-44f0-b5b0-4de969300619",
   "metadata": {},
   "source": [
    "### Let's vizualize what we have so far. Starting with a correlation matrix"
   ]
  },
  {
   "cell_type": "code",
   "execution_count": 14,
   "id": "b36d3151-1285-4fbb-a498-898745b8623a",
   "metadata": {},
   "outputs": [
    {
     "data": {
      "text/plain": [
       "<AxesSubplot:>"
      ]
     },
     "execution_count": 14,
     "metadata": {},
     "output_type": "execute_result"
    },
    {
     "data": {
      "image/png": "[encoded data removed]",
      "text/plain": [
       "<Figure size 2160x216 with 2 Axes>"
      ]
     },
     "metadata": {
      "needs_background": "light"
     },
     "output_type": "display_data"
    }
   ],
   "source": [
    "# let's calc the correlation and only show those features with a correlation\n",
    "# Since there are so many features, i've sorted them based on their correlation to our target variable.\n",
    "import matplotlib.pyplot as plt\n",
    "import seaborn as sns\n",
    "plt.rcParams[\"figure.figsize\"] = (30,3)\n",
    "sns.heatmap(train_df.corr().sort_values(by=['is_poisonous'],ascending=False)[['is_poisonous']].dropna().T)"
   ]
  },
  {
   "cell_type": "code",
   "execution_count": 15,
   "id": "302741ce-67b7-42d2-87c2-740cb0bfeb03",
   "metadata": {},
   "outputs": [
    {
     "data": {
      "text/plain": [
       "is_poisonous                      1.000000\n",
       "spore_print_color-chocolate       0.790737\n",
       "odor-foul                         0.790737\n",
       "stalk_surface_above_ring-silky    0.705530\n",
       "stalk_surface_below_ring-silky    0.691373\n",
       "ring_type-large                   0.691373\n",
       "stalk_shape-enlarging             0.592535\n",
       "has_bruises-no                    0.432339\n",
       "stalk_color_below_ring-buff       0.366028\n",
       "stalk_color_above_ring-buff       0.359693\n",
       "Name: is_poisonous, dtype: float64"
      ]
     },
     "execution_count": 15,
     "metadata": {},
     "output_type": "execute_result"
    }
   ],
   "source": [
    "# top 10 correlated features to the target variable\n",
    "train_df.corr()['is_poisonous'].sort_values(ascending=False).head(10)"
   ]
  },
  {
   "cell_type": "code",
   "execution_count": 16,
   "id": "55a68c0c-54a5-4a62-9e76-baaa760c2dc2",
   "metadata": {},
   "outputs": [
    {
     "data": {
      "text/plain": [
       "odor-none                       -0.708256\n",
       "cap_color-green                       NaN\n",
       "cap_color-purple                      NaN\n",
       "odor-fishy                            NaN\n",
       "odor-spicy                            NaN\n",
       "gill_attachment-descending            NaN\n",
       "gill_attachment-notched               NaN\n",
       "gill_spacing-distant                  NaN\n",
       "gill_color-buff                       NaN\n",
       "gill_color-orange                     NaN\n",
       "gill_color-red                        NaN\n",
       "stalk_root-cup                        NaN\n",
       "stalk_root-rhizomorphs                NaN\n",
       "stalk_root-missing                    NaN\n",
       "stalk_color_above_ring-orange         NaN\n",
       "stalk_color_above_ring-red            NaN\n",
       "stalk_color_below_ring-orange         NaN\n",
       "stalk_color_below_ring-red            NaN\n",
       "veil_type-partial                     NaN\n",
       "veil_type-universal                   NaN\n",
       "veil_color-brown                      NaN\n",
       "veil_color-orange                     NaN\n",
       "ring_type-cobwebby                    NaN\n",
       "ring_type-flaring                     NaN\n",
       "ring_type-sheathing                   NaN\n",
       "ring_type-zone                        NaN\n",
       "spore_print_color-buff                NaN\n",
       "spore_print_color-orange              NaN\n",
       "spore_print_color-yellow              NaN\n",
       "habitat-waste                         NaN\n",
       "Name: is_poisonous, dtype: float64"
      ]
     },
     "execution_count": 16,
     "metadata": {},
     "output_type": "execute_result"
    }
   ],
   "source": [
    "# it's interesting that there are so many features with no calculatable correlation to the target variable\n",
    "train_df.corr()['is_poisonous'].sort_values(ascending=False).tail(30)"
   ]
  },
  {
   "cell_type": "markdown",
   "id": "2f139f80-385e-4fb4-b487-8a5fbca7e20b",
   "metadata": {
    "tags": []
   },
   "source": [
    "### Wonderful, a heatmap of the correlation to our target variable (poisonous prediction)! \n",
    "\n",
    "Things I see: \n",
    "1. Odor = Foul : the highest correlation with poisonous mushrooms -->> this is great to know as it'll provide a simple smell test!\n",
    "2. Staulk Surface = Silky : the second two highest correlations again make things simple -->> avoid the silky staulks!! \n",
    "3. When we look at the negative or null correlations, we get an image of what makes an edible mushroom. \n",
    "\n",
    "#### But let's do one more population related vizualizations so we can make sure our split worked."
   ]
  },
  {
   "cell_type": "code",
   "execution_count": 17,
   "id": "af21c182-709c-4d3b-933d-21561387e985",
   "metadata": {},
   "outputs": [
    {
     "data": {
      "text/plain": [
       "<AxesSubplot:ylabel='Frequency'>"
      ]
     },
     "execution_count": 17,
     "metadata": {},
     "output_type": "execute_result"
    },
    {
     "data": {
      "image/png": "[encoded data removed]",
      "text/plain": [
       "<Figure size 216x216 with 1 Axes>"
      ]
     },
     "metadata": {
      "needs_background": "light"
     },
     "output_type": "display_data"
    },
    {
     "data": {
      "image/png": "[encoded data removed]",
      "text/plain": [
       "<Figure size 216x216 with 1 Axes>"
      ]
     },
     "metadata": {
      "needs_background": "light"
     },
     "output_type": "display_data"
    }
   ],
   "source": [
    "# now let's take our categories and look at historgrams of how they show up in our data:\n",
    "\n",
    "reduced_transformed_df.plot.hist(column=[\"is_poisonous\"], figsize=(3, 3))\n",
    "train_df.plot.hist(column=[\"is_poisonous\"], figsize=(3, 3))"
   ]
  },
  {
   "cell_type": "markdown",
   "id": "d537adb7-5406-4126-b547-5d585450354c",
   "metadata": {},
   "source": [
    "#### In the previous 2 plots, we can see that our population percentage is maintained when splitting our data."
   ]
  },
  {
   "cell_type": "markdown",
   "id": "995d798b-4570-4db4-a0b9-14ff83f0f8a2",
   "metadata": {},
   "source": [
    "## Exporatory Conclusions\n",
    "\n",
    "Since our data is all categorical, the vizualizations we can make are pretty limited since all our data are 0 and 1s.\n",
    "\n",
    "Based on correlation only, we may be able to make some guesses as to weather a mushroom is poisonous or edible. "
   ]
  },
  {
   "cell_type": "markdown",
   "id": "150c0cb6-b6b4-4207-870e-8c3a419c47c4",
   "metadata": {},
   "source": [
    "# Step 4 : Perform Analysis Using Supervised Machine Learning Models"
   ]
  },
  {
   "cell_type": "code",
   "execution_count": 18,
   "id": "aa21e95f-4aa1-4b02-bec5-f6cc68d0dc06",
   "metadata": {},
   "outputs": [],
   "source": [
    "# first here we will need to split our X and y : \n",
    "x_train = train_df.drop(columns=['is_poisonous'])\n",
    "y_train = train_df[['is_poisonous']]\n",
    "x_test = test_df.drop(columns=['is_poisonous'])\n",
    "y_test = test_df[['is_poisonous']]"
   ]
  },
  {
   "cell_type": "code",
   "execution_count": null,
   "id": "82918cde-37bd-4e14-9b3e-8ee884a26d31",
   "metadata": {},
   "outputs": [],
   "source": []
  },
  {
   "cell_type": "code",
   "execution_count": null,
   "id": "81d3a3cd-50ac-4a16-b2ad-e1ab7a03b238",
   "metadata": {},
   "outputs": [],
   "source": []
  },
  {
   "cell_type": "code",
   "execution_count": null,
   "id": "4ab33c34-7199-46eb-b152-1c77dc5d6f5f",
   "metadata": {},
   "outputs": [],
   "source": []
  },
  {
   "cell_type": "code",
   "execution_count": null,
   "id": "9b3f3bae-8758-46ee-96a1-83f3b0d3a333",
   "metadata": {},
   "outputs": [],
   "source": []
  },
  {
   "cell_type": "markdown",
   "id": "36281c42-f972-4821-bc60-4d0a91333f40",
   "metadata": {
    "tags": []
   },
   "source": [
    "## Model Conclusion:\n",
    "\n",
    "### And here we are, all of our basic tree models seem to do the trick! So this is good; if we can find enough mushrooms to eat we should be 100% confident that we won't poison ourselves by using any of these models. \n",
    "Since this score is already as high as we can hope, we do not need to tune it. \n",
    "\n"
   ]
  },
  {
   "cell_type": "markdown",
   "id": "eeac2a9e-6da4-47c8-91d0-d1035ab594a6",
   "metadata": {
    "tags": []
   },
   "source": [
    "# Step 5 : Results & Analysis - Feature Importances\n",
    "\n",
    "Below we will look each of our perfect 3 tree models and see if they have similar important features."
   ]
  },
  {
   "cell_type": "code",
   "execution_count": null,
   "id": "5da5f3ee-e443-4239-9012-70b03a885c1e",
   "metadata": {},
   "outputs": [],
   "source": []
  },
  {
   "cell_type": "code",
   "execution_count": null,
   "id": "31bace86-56c9-40a0-bd60-478bc01fd057",
   "metadata": {},
   "outputs": [],
   "source": []
  },
  {
   "cell_type": "code",
   "execution_count": null,
   "id": "2ed81848-7daf-4285-bb79-b0ecfeed4d2e",
   "metadata": {},
   "outputs": [],
   "source": []
  },
  {
   "cell_type": "code",
   "execution_count": null,
   "id": "4e90f1d0-5517-4141-9730-939ffbc930fe",
   "metadata": {},
   "outputs": [],
   "source": []
  },
  {
   "cell_type": "markdown",
   "id": "6ca6c70d-92a2-4129-8457-f608613081bd",
   "metadata": {},
   "source": [
    "## Importance Conclusions\n",
    "\n",
    "### Well, I'm not sure what to make of this. There don't seem to be many consistent top ten features between the models. Since i've run this file multiple times, at one point I would have recommended that you don't eat foul smelling mushrooms!\n",
    "\n",
    "This tells me that there is either :\n",
    "1. possibly a combination of features (interactions) that are impacting the result \n",
    "2. it is possible that multicollinearity exists. We know that multicolinearity has no impact on the score but can impact feature performance."
   ]
  },
  {
   "cell_type": "markdown",
   "id": "15ccd635-f1ab-4779-92bc-c5ca42a3ed75",
   "metadata": {},
   "source": [
    "# Step 6 : Discussion / Overall Conclusion\n",
    "\n",
    "#### Learning and takeaways :\n",
    "\n",
    "Mushrooms are pretty complicated. It doesn't seem straight forward to classify a mushroom as edible or not. a google search says that less than 3% of mushrooms are poisonous, but this data suggests that ~40 % of them are.\n",
    "\n",
    "### What didn’t work :\n",
    "\n",
    "I believe the takeway above accurately represents what didn;t work here. Our data set has way too many poisonous samples when compared to mushrooms found in the wild. This is likely due to the fact that the mushroom species were limited in the data set.\n",
    "\n",
    "#### Ways to improve : \n",
    "\n",
    "In a future iteration of this, I could imagine removing as many features as possible to get a list of what makes a mushroom poisonous or edible. I could imagine a nice field guide or info graphic with the essential features."
   ]
  }
 ],
 "metadata": {
  "kernelspec": {
   "display_name": "Python 3 (ipykernel)",
   "language": "python",
   "name": "python3"
  },
  "language_info": {
   "codemirror_mode": {
    "name": "ipython",
    "version": 3
   },
   "file_extension": ".py",
   "mimetype": "text/x-python",
   "name": "python",
   "nbconvert_exporter": "python",
   "pygments_lexer": "ipython3",
   "version": "3.9.12"
  }
 },
 "nbformat": 4,
 "nbformat_minor": 5
}
