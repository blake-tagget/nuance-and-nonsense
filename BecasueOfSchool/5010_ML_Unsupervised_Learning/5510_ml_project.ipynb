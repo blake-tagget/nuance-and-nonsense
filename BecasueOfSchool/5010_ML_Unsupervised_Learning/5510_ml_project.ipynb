{
 "cells": [
  {
   "cell_type": "markdown",
   "id": "d96c1804-3c42-4061-82ef-d1c37c02db52",
   "metadata": {},
   "source": [
    "# Welcome to my ML Project for Course 5510 in the CU Boulder MS-DS Program"
   ]
  },
  {
   "cell_type": "markdown",
   "id": "f4ac7fda-39fd-4a77-ae3e-0065d783ad67",
   "metadata": {},
   "source": [
    "### This file can be found in my [personal Github](https://github.com/blake-tagget/nuance-and-nonsense/tree/main/BecasueOfSchool/5010_ML_Unsupervised_Learning)."
   ]
  },
  {
   "cell_type": "markdown",
   "id": "91139724-9411-49df-85cf-c83f42108c9b",
   "metadata": {},
   "source": [
    "## Hybrid Recommender System - Project Intro\n",
    "\n",
    "**As we completed the course, I found myself not truly understanding recommender systems. Sure, I passed the assignments and all, but I wanted a second stab at it so I can explain each step along the way, in my own words, and at my own pace. So let's get it going!**\n",
    "\n",
    "## Recommending a Movie - and make it complex!\n",
    "\n",
    "When we did the Week 3 assignment, we used the [MovieLens 1M dataset](https://www.kaggle.com/odedgolden/movielens-1m-dataset) posted on kaggle to implement content and collaborative filtering algorithms. \n",
    "\n",
    "**The data can be downloaded directly from [MovieLens](https://grouplens.org/datasets/movielens/)** and it all comes from [GroupLens Research at the University of Minnesota](https://grouplens.org/https://grouplens.org/). I also found that there is a neat library they made called [LensKit](https://lkpy.readthedocs.io/en/stable/index.html) which gives us access to additional functionality. Check out the actual [MovieLens](https://movielens.org/home) product if you want.Check out the actual [MovieLens](https://movielens.org/home) product if you want.\n",
    "\n",
    "We will also use publicly available IMDb datasets [available here](https://www.imdb.com/interfaces/https://www.imdb.com/interfaces/). Thankfully, the good people at MovieLens include a mapping between their data and IMDb.\n",
    "\n",
    "\n",
    "Disclaimer 1 : The terms \"item\" and \"movie\" are used interchangably to mean the same thing. \n",
    "\n",
    "Disclaimer 2 : The order of the steps ARE NOT the order I took to complete the project. They are the order the functionally makes sense when trying to save time and space (reduce complexity).\n",
    "\n",
    "### The goal of this project is to expand on what we did manually for the week3 and week4 labs by utilizing more movie attributes to make a hybrid recommender system. \n",
    "\n",
    "Let's dive in and see where we go!"
   ]
  },
  {
   "cell_type": "markdown",
   "id": "d3199c83-7b83-4266-96a1-b4427a3f9803",
   "metadata": {},
   "source": [
    "## Step 0 : Identify an Unsupervised Machine Learning Problem\n",
    "\n",
    "### In short: Recommend a Movie! \n",
    "\n",
    "In class we learned Content-based and Collaborative-filtering methods for recommending movies. This project puts them together to make a **Unsupervised Hybrid Model**.\n",
    "\n",
    "**Collaborative Filtering** : We will use user ratings to calculate the similarity of movies <br>\n",
    "**Content Based** : We will use a wide variety of movie attributes to calculate the similarity as well\n",
    "\n",
    "There is no right or wrong answer in terms of a recommendation becasue we don;t have a target to shoot for. What we can do is use the similarity scores to calculate a weighted average of a predicted rating. We will then judge the correctness of our model by how close we can get to the actual rating.\n",
    "\n",
    "In truth, this score is just a way to see how good our model is at explaining reality. In practice, we would just present the most similar movies to a users highest rated movies. There would be no practical purpose to recommend a low rated movie to a user of a streaming service. \n",
    "\n",
    "We will do the following steps:\n",
    "1. Gather and clean some data - the focus here is getting our data in the most efficient structure (hello arrays), gather movie feature sets, and explore it a little.\n",
    "2. Explore the final data\n",
    "3. Explore some similarity scores - this is analogous to a business logic check.\n",
    "4. Make the Model\n",
    "5. Find the best similarity scores for each feature set\n",
    "6. Find the best combined model set\n",
    "7. Make a Recommendation based on our model set\n",
    "8. Discuss / Conclusion\n"
   ]
  },
  {
   "cell_type": "markdown",
   "id": "43d23684-9ba7-4dd3-ba35-c6e0fbc9b8e7",
   "metadata": {
    "tags": []
   },
   "source": [
    "## Step 1 : Gather and Clean some data"
   ]
  },
  {
   "cell_type": "code",
   "execution_count": 1,
   "id": "c454a380-c08b-43ed-9304-e0e18af7befa",
   "metadata": {
    "tags": []
   },
   "outputs": [],
   "source": [
    "# Step 1 - Pull some data using pandas:\n",
    "from datetime import date, datetime, timedelta\n",
    "import time\n",
    "import numpy as np\n",
    "import pandas as pd\n",
    "import lenskit\n",
    "from lenskit.datasets import MovieLens\n",
    "mlens = MovieLens(path='ml-latest-small')\n",
    "m25 = MovieLens(path='ml-25m')\n",
    "\n",
    "# get the links to map movielens to imdb\n",
    "mlens.links['lk_tconst'] = 'tt'+mlens.links['imdbId'].astype(str).str.zfill(7)\n",
    "links = mlens.links.reset_index().set_index('lk_tconst')['item']"
   ]
  },
  {
   "cell_type": "markdown",
   "id": "755bba1d-db84-406e-85e2-6081741b19d3",
   "metadata": {},
   "source": [
    "**Preprocessing Note 1:** In order to reduce the size of this notebook, IMDb data is immediately filtered down to ONLY those movies correctly matched to the MovieLens population."
   ]
  },
  {
   "cell_type": "code",
   "execution_count": 2,
   "id": "71757a3c-42db-4ce2-be78-39b1bdaccaec",
   "metadata": {
    "tags": []
   },
   "outputs": [],
   "source": [
    "# read in the imdb data\n",
    "\n",
    "cols={'tconst':str,'startYear':float,'titleType':str,'runtimeMinutes':float,'primaryTitle':str,'originalTitle':str}\n",
    "imdb_ratings = pd.read_table('title.ratings.tsv',na_values=\"\\\\N\")[['tconst','averageRating','numVotes']].set_index('tconst').join(links,on='tconst',how='inner')\n",
    "\n",
    "# I got tired of re-loading over 2gb's of data so i just saved my own csv - I could also directly load it from the site, but it's a lot.\n",
    "\n",
    "try: \n",
    "    imdb_titles = pd.read_csv('imdb_titles.csv',index_col=0)\n",
    "    \n",
    "except:\n",
    "    imdb_titles = pd.read_table('title.basics.tsv',na_values=\"\\\\N\")[list(cols.keys())].set_index('tconst').join(links,on='tconst',how='inner')\n",
    "    imdb_titles.to_csv('imdb_titles.csv')\n",
    "    \n",
    "try: \n",
    "    imdb_people = pd.read_csv('imdb_people.csv',index_col=0)\n",
    "    \n",
    "except:    \n",
    "    imdb_people = pd.concat([pd.read_table('title.principals.tsv',na_values=\"\\\\N\")[['tconst','nconst']].set_index('tconst')['nconst'],\\\n",
    "                             pd.concat([pd.read_table('title.crew.tsv',na_values=\"\\\\N\")[['tconst','directors']].set_index('tconst')['directors'].str.split(',').explode().rename('nconst'),\\\n",
    "                                        pd.read_table('title.crew.tsv',na_values=\"\\\\N\")[['tconst','writers']].set_index('tconst')['writers'].str.split(',').explode().rename('nconst')])\\\n",
    "                            ]).reset_index().drop_duplicates()\\\n",
    "                    .join(links,on='tconst',how='right').dropna()\\\n",
    "                    .merge(pd.read_table('name.basics.tsv',na_values=\"\\\\N\")[['nconst','primaryName']],on='nconst',how='left')\n",
    "    \n",
    "    imdb_people.to_csv('imdb_people.csv')\n",
    "\n"
   ]
  },
  {
   "cell_type": "code",
   "execution_count": 3,
   "id": "bf47a636-442a-4f2a-b433-9aede1ee8289",
   "metadata": {},
   "outputs": [
    {
     "data": {
      "text/html": [
       "<div>\n",
       "<style scoped>\n",
       "    .dataframe tbody tr th:only-of-type {\n",
       "        vertical-align: middle;\n",
       "    }\n",
       "\n",
       "    .dataframe tbody tr th {\n",
       "        vertical-align: top;\n",
       "    }\n",
       "\n",
       "    .dataframe thead th {\n",
       "        text-align: right;\n",
       "    }\n",
       "</style>\n",
       "<table border=\"1\" class=\"dataframe\">\n",
       "  <thead>\n",
       "    <tr style=\"text-align: right;\">\n",
       "      <th></th>\n",
       "      <th>startYear</th>\n",
       "      <th>titleType</th>\n",
       "      <th>runtimeMinutes</th>\n",
       "      <th>primaryTitle</th>\n",
       "      <th>originalTitle</th>\n",
       "      <th>item</th>\n",
       "    </tr>\n",
       "    <tr>\n",
       "      <th>tconst</th>\n",
       "      <th></th>\n",
       "      <th></th>\n",
       "      <th></th>\n",
       "      <th></th>\n",
       "      <th></th>\n",
       "      <th></th>\n",
       "    </tr>\n",
       "  </thead>\n",
       "  <tbody>\n",
       "    <tr>\n",
       "      <th>tt0000417</th>\n",
       "      <td>1902.0</td>\n",
       "      <td>short</td>\n",
       "      <td>13.0</td>\n",
       "      <td>A Trip to the Moon</td>\n",
       "      <td>Le voyage dans la lune</td>\n",
       "      <td>32898</td>\n",
       "    </tr>\n",
       "    <tr>\n",
       "      <th>tt0000439</th>\n",
       "      <td>1903.0</td>\n",
       "      <td>short</td>\n",
       "      <td>11.0</td>\n",
       "      <td>The Great Train Robbery</td>\n",
       "      <td>The Great Train Robbery</td>\n",
       "      <td>49389</td>\n",
       "    </tr>\n",
       "    <tr>\n",
       "      <th>tt0000516</th>\n",
       "      <td>1908.0</td>\n",
       "      <td>short</td>\n",
       "      <td>8.0</td>\n",
       "      <td>The Electric Hotel</td>\n",
       "      <td>El hotel eléctrico</td>\n",
       "      <td>140541</td>\n",
       "    </tr>\n",
       "    <tr>\n",
       "      <th>tt0004972</th>\n",
       "      <td>1915.0</td>\n",
       "      <td>movie</td>\n",
       "      <td>195.0</td>\n",
       "      <td>The Birth of a Nation</td>\n",
       "      <td>The Birth of a Nation</td>\n",
       "      <td>7065</td>\n",
       "    </tr>\n",
       "    <tr>\n",
       "      <th>tt0006333</th>\n",
       "      <td>1916.0</td>\n",
       "      <td>movie</td>\n",
       "      <td>85.0</td>\n",
       "      <td>20,000 Leagues Under the Sea</td>\n",
       "      <td>20,000 Leagues Under the Sea</td>\n",
       "      <td>62383</td>\n",
       "    </tr>\n",
       "  </tbody>\n",
       "</table>\n",
       "</div>"
      ],
      "text/plain": [
       "           startYear titleType  runtimeMinutes                  primaryTitle  \\\n",
       "tconst                                                                         \n",
       "tt0000417     1902.0     short            13.0            A Trip to the Moon   \n",
       "tt0000439     1903.0     short            11.0       The Great Train Robbery   \n",
       "tt0000516     1908.0     short             8.0            The Electric Hotel   \n",
       "tt0004972     1915.0     movie           195.0         The Birth of a Nation   \n",
       "tt0006333     1916.0     movie            85.0  20,000 Leagues Under the Sea   \n",
       "\n",
       "                          originalTitle    item  \n",
       "tconst                                           \n",
       "tt0000417        Le voyage dans la lune   32898  \n",
       "tt0000439       The Great Train Robbery   49389  \n",
       "tt0000516            El hotel eléctrico  140541  \n",
       "tt0004972         The Birth of a Nation    7065  \n",
       "tt0006333  20,000 Leagues Under the Sea   62383  "
      ]
     },
     "execution_count": 3,
     "metadata": {},
     "output_type": "execute_result"
    }
   ],
   "source": [
    "imdb_titles.head()"
   ]
  },
  {
   "cell_type": "code",
   "execution_count": 4,
   "id": "c29901a1-a16b-475b-93aa-7be182ad4b89",
   "metadata": {},
   "outputs": [
    {
     "data": {
      "text/html": [
       "<div>\n",
       "<style scoped>\n",
       "    .dataframe tbody tr th:only-of-type {\n",
       "        vertical-align: middle;\n",
       "    }\n",
       "\n",
       "    .dataframe tbody tr th {\n",
       "        vertical-align: top;\n",
       "    }\n",
       "\n",
       "    .dataframe thead th {\n",
       "        text-align: right;\n",
       "    }\n",
       "</style>\n",
       "<table border=\"1\" class=\"dataframe\">\n",
       "  <thead>\n",
       "    <tr style=\"text-align: right;\">\n",
       "      <th></th>\n",
       "      <th>tconst</th>\n",
       "      <th>nconst</th>\n",
       "      <th>item</th>\n",
       "      <th>primaryName</th>\n",
       "    </tr>\n",
       "  </thead>\n",
       "  <tbody>\n",
       "    <tr>\n",
       "      <th>0</th>\n",
       "      <td>tt0114709</td>\n",
       "      <td>nm0169505</td>\n",
       "      <td>1</td>\n",
       "      <td>Joel Cohen</td>\n",
       "    </tr>\n",
       "    <tr>\n",
       "      <th>1</th>\n",
       "      <td>tt0114709</td>\n",
       "      <td>nm0000158</td>\n",
       "      <td>1</td>\n",
       "      <td>Tom Hanks</td>\n",
       "    </tr>\n",
       "    <tr>\n",
       "      <th>2</th>\n",
       "      <td>tt0114709</td>\n",
       "      <td>nm0000741</td>\n",
       "      <td>1</td>\n",
       "      <td>Tim Allen</td>\n",
       "    </tr>\n",
       "    <tr>\n",
       "      <th>3</th>\n",
       "      <td>tt0114709</td>\n",
       "      <td>nm0725543</td>\n",
       "      <td>1</td>\n",
       "      <td>Don Rickles</td>\n",
       "    </tr>\n",
       "    <tr>\n",
       "      <th>4</th>\n",
       "      <td>tt0114709</td>\n",
       "      <td>nm0001815</td>\n",
       "      <td>1</td>\n",
       "      <td>Jim Varney</td>\n",
       "    </tr>\n",
       "  </tbody>\n",
       "</table>\n",
       "</div>"
      ],
      "text/plain": [
       "      tconst     nconst  item  primaryName\n",
       "0  tt0114709  nm0169505     1   Joel Cohen\n",
       "1  tt0114709  nm0000158     1    Tom Hanks\n",
       "2  tt0114709  nm0000741     1    Tim Allen\n",
       "3  tt0114709  nm0725543     1  Don Rickles\n",
       "4  tt0114709  nm0001815     1   Jim Varney"
      ]
     },
     "execution_count": 4,
     "metadata": {},
     "output_type": "execute_result"
    }
   ],
   "source": [
    "imdb_people.head()"
   ]
  },
  {
   "cell_type": "markdown",
   "id": "71f01de8-4a09-43df-8350-697fb00a03bb",
   "metadata": {
    "tags": []
   },
   "source": [
    "### Discussion:\n",
    "\n",
    "The people related (names and principles) IMDb datasets are HUGE, and titles is pretty big. I had to trim them and save a csv so that my iteration could be faster. You'll also note that I have to do some string manipulation to get the IMDb links to be correct. If the link didn't match to an IMDb record, I drop it from the data. \n",
    "\n",
    "Data is fun!\n"
   ]
  },
  {
   "cell_type": "code",
   "execution_count": 5,
   "id": "d962c169-15c6-41eb-9eb4-878ab25a7eaa",
   "metadata": {},
   "outputs": [
    {
     "name": "stdout",
     "output_type": "stream",
     "text": [
      "Final Movie count :  9254\n"
     ]
    }
   ],
   "source": [
    "# filter all our datasets down to the intersection\n",
    "attributes = imdb_titles.join(imdb_ratings.drop(columns=['item']),how='left').dropna().set_index('item')\n",
    "common_movies = set(imdb_people['item']).intersection(set(attributes.index)).intersection(set(m25.tags['item'])).intersection(set(mlens.ratings['item'])).intersection(mlens.links.index).intersection(mlens.movies.index)\n",
    "\n",
    "print(\"Final Movie count : \",len(common_movies))\n",
    "\n",
    "attributes = attributes[attributes.index.isin(common_movies)]\n",
    "links = mlens.links[mlens.links.index.isin(common_movies)]\n",
    "movies = mlens.movies[mlens.movies.index.isin(common_movies)].join(links['lk_tconst'],how='left')\n",
    "ratings = mlens.ratings[mlens.ratings['item'].isin(common_movies)]\n",
    "tags = m25.tags[m25.tags.item.isin(common_movies)]\n",
    "imdb_people = imdb_people[imdb_people['item'].isin(common_movies)]\n",
    "users = ratings[['user']].drop_duplicates()\n",
    "\n",
    "# make some index maps\n",
    "item_id = dict(zip(movies.index,list(range(len(movies)))))\n",
    "user_id = dict(zip(users.user,list(range(len(users)))))\n",
    "\n",
    "item_index = pd.DataFrame([],index=movies.index)\n",
    "user_index = pd.DataFrame([],index=users['user'])"
   ]
  },
  {
   "cell_type": "markdown",
   "id": "0a7eb1d3-17eb-451c-a14b-3d7d8c013515",
   "metadata": {},
   "source": [
    "**Preprocessing Note 2:** In order to ensure the indexing was correct AND we would be more confident in our hybrid model result, I reduced ALL the data to the intersection of all the movies."
   ]
  },
  {
   "cell_type": "code",
   "execution_count": 6,
   "id": "aaa46e6c-3f60-4646-97c4-2c5a80aa6c84",
   "metadata": {},
   "outputs": [],
   "source": [
    "from sklearn.model_selection import train_test_split\n",
    "from sklearn.preprocessing import MinMaxScaler, LabelEncoder\n",
    "from sklearn.decomposition import PCA\n",
    "\n",
    "from scipy.spatial.distance import squareform, pdist, cdist\n",
    "from scipy.sparse import coo_matrix, csr_matrix\n",
    "\n",
    "# split the ratings to train and test\n",
    "\n",
    "cutoff = .7\n",
    "train_r, test_r = train_test_split(ratings,train_size=cutoff, random_state=20)\n",
    "\n",
    "# based on teh ratings split - split the tags so we do not have tags from the test ratings in our train data\n",
    "train_t = tags[~((tags['item']+tags['user']).isin(set(test_r['item']+test_r['user'])))]\n",
    "test_t = tags[((tags['item']+tags['user']).isin(set(test_r['item']+test_r['user'])))]\n",
    "\n",
    "train_ratings_mr = np.array(coo_matrix((list(train_r.rating), ([user_id[x] for x in train_r['user']], [item_id[x] for x in train_r['item']] )), shape=(len(users),len(movies))).toarray())"
   ]
  },
  {
   "cell_type": "markdown",
   "id": "205413d1-872b-44eb-a16c-20b9aa8589f3",
   "metadata": {},
   "source": [
    "**Preprocessing Note 3:** train_test_split for the win! Later we will check that it has dispproportionately split the populations."
   ]
  },
  {
   "cell_type": "code",
   "execution_count": 7,
   "id": "0428f4db-95fa-46ee-9e39-4035ea23e0ad",
   "metadata": {},
   "outputs": [],
   "source": [
    "# create some feature sets : genres, imdb numerical attributes, imdb boolean attributes\n",
    "genres_df = item_index.join(movies['genres'].str.get_dummies()).drop(columns=['(no genres listed)'])\n",
    "\n",
    "types = attributes[['titleType']].drop_duplicates().reset_index(drop=True)\n",
    "types['is_tv'] = types['titleType'].str.contains('tv')\n",
    "types['format'] = types['titleType'].str.replace('tv','').str.lower()\n",
    "types['tv'] = LabelEncoder().fit_transform(types['is_tv'])\n",
    "\n",
    "attributes = attributes.join(types.set_index(['titleType'])[['format','tv']],on='titleType').drop(columns=['titleType','originalTitle','primaryTitle'])\n",
    "attributes = pd.get_dummies(attributes,columns=['format'])\n",
    "\n",
    "attributes = item_index.join(attributes,how='left')\n",
    "\n",
    "attributes['runtimeMinutes'] = attributes['runtimeMinutes'].astype(float)\n",
    "attributes['total_ratings'] = attributes['averageRating']*attributes['numVotes']\n",
    "\n",
    "attr_nums = attributes[['startYear', 'runtimeMinutes', 'averageRating', 'numVotes','total_ratings']]\n",
    "attr_bool = attributes.drop(columns=['startYear', 'runtimeMinutes', 'averageRating', 'numVotes','total_ratings'])"
   ]
  },
  {
   "cell_type": "code",
   "execution_count": 8,
   "id": "8c914b12-8785-4df9-afca-babfb267dcb3",
   "metadata": {},
   "outputs": [
    {
     "data": {
      "text/html": [
       "<div>\n",
       "<style scoped>\n",
       "    .dataframe tbody tr th:only-of-type {\n",
       "        vertical-align: middle;\n",
       "    }\n",
       "\n",
       "    .dataframe tbody tr th {\n",
       "        vertical-align: top;\n",
       "    }\n",
       "\n",
       "    .dataframe thead th {\n",
       "        text-align: right;\n",
       "    }\n",
       "</style>\n",
       "<table border=\"1\" class=\"dataframe\">\n",
       "  <thead>\n",
       "    <tr style=\"text-align: right;\">\n",
       "      <th></th>\n",
       "      <th>startYear</th>\n",
       "      <th>runtimeMinutes</th>\n",
       "      <th>averageRating</th>\n",
       "      <th>numVotes</th>\n",
       "      <th>tv</th>\n",
       "      <th>format_episode</th>\n",
       "      <th>format_miniseries</th>\n",
       "      <th>format_movie</th>\n",
       "      <th>format_series</th>\n",
       "      <th>format_short</th>\n",
       "      <th>format_special</th>\n",
       "      <th>format_video</th>\n",
       "      <th>total_ratings</th>\n",
       "    </tr>\n",
       "    <tr>\n",
       "      <th>item</th>\n",
       "      <th></th>\n",
       "      <th></th>\n",
       "      <th></th>\n",
       "      <th></th>\n",
       "      <th></th>\n",
       "      <th></th>\n",
       "      <th></th>\n",
       "      <th></th>\n",
       "      <th></th>\n",
       "      <th></th>\n",
       "      <th></th>\n",
       "      <th></th>\n",
       "      <th></th>\n",
       "    </tr>\n",
       "  </thead>\n",
       "  <tbody>\n",
       "    <tr>\n",
       "      <th>1</th>\n",
       "      <td>1995.0</td>\n",
       "      <td>81.0</td>\n",
       "      <td>8.3</td>\n",
       "      <td>1002586</td>\n",
       "      <td>0</td>\n",
       "      <td>0</td>\n",
       "      <td>0</td>\n",
       "      <td>1</td>\n",
       "      <td>0</td>\n",
       "      <td>0</td>\n",
       "      <td>0</td>\n",
       "      <td>0</td>\n",
       "      <td>8321463.8</td>\n",
       "    </tr>\n",
       "    <tr>\n",
       "      <th>2</th>\n",
       "      <td>1995.0</td>\n",
       "      <td>104.0</td>\n",
       "      <td>7.0</td>\n",
       "      <td>352486</td>\n",
       "      <td>0</td>\n",
       "      <td>0</td>\n",
       "      <td>0</td>\n",
       "      <td>1</td>\n",
       "      <td>0</td>\n",
       "      <td>0</td>\n",
       "      <td>0</td>\n",
       "      <td>0</td>\n",
       "      <td>2467402.0</td>\n",
       "    </tr>\n",
       "    <tr>\n",
       "      <th>3</th>\n",
       "      <td>1995.0</td>\n",
       "      <td>101.0</td>\n",
       "      <td>6.6</td>\n",
       "      <td>28410</td>\n",
       "      <td>0</td>\n",
       "      <td>0</td>\n",
       "      <td>0</td>\n",
       "      <td>1</td>\n",
       "      <td>0</td>\n",
       "      <td>0</td>\n",
       "      <td>0</td>\n",
       "      <td>0</td>\n",
       "      <td>187506.0</td>\n",
       "    </tr>\n",
       "    <tr>\n",
       "      <th>4</th>\n",
       "      <td>1995.0</td>\n",
       "      <td>124.0</td>\n",
       "      <td>5.9</td>\n",
       "      <td>11341</td>\n",
       "      <td>0</td>\n",
       "      <td>0</td>\n",
       "      <td>0</td>\n",
       "      <td>1</td>\n",
       "      <td>0</td>\n",
       "      <td>0</td>\n",
       "      <td>0</td>\n",
       "      <td>0</td>\n",
       "      <td>66911.9</td>\n",
       "    </tr>\n",
       "    <tr>\n",
       "      <th>5</th>\n",
       "      <td>1995.0</td>\n",
       "      <td>106.0</td>\n",
       "      <td>6.0</td>\n",
       "      <td>39465</td>\n",
       "      <td>0</td>\n",
       "      <td>0</td>\n",
       "      <td>0</td>\n",
       "      <td>1</td>\n",
       "      <td>0</td>\n",
       "      <td>0</td>\n",
       "      <td>0</td>\n",
       "      <td>0</td>\n",
       "      <td>236790.0</td>\n",
       "    </tr>\n",
       "  </tbody>\n",
       "</table>\n",
       "</div>"
      ],
      "text/plain": [
       "      startYear  runtimeMinutes  averageRating  numVotes  tv  format_episode  \\\n",
       "item                                                                           \n",
       "1        1995.0            81.0            8.3   1002586   0               0   \n",
       "2        1995.0           104.0            7.0    352486   0               0   \n",
       "3        1995.0           101.0            6.6     28410   0               0   \n",
       "4        1995.0           124.0            5.9     11341   0               0   \n",
       "5        1995.0           106.0            6.0     39465   0               0   \n",
       "\n",
       "      format_miniseries  format_movie  format_series  format_short  \\\n",
       "item                                                                 \n",
       "1                     0             1              0             0   \n",
       "2                     0             1              0             0   \n",
       "3                     0             1              0             0   \n",
       "4                     0             1              0             0   \n",
       "5                     0             1              0             0   \n",
       "\n",
       "      format_special  format_video  total_ratings  \n",
       "item                                               \n",
       "1                  0             0      8321463.8  \n",
       "2                  0             0      2467402.0  \n",
       "3                  0             0       187506.0  \n",
       "4                  0             0        66911.9  \n",
       "5                  0             0       236790.0  "
      ]
     },
     "execution_count": 8,
     "metadata": {},
     "output_type": "execute_result"
    }
   ],
   "source": [
    "attributes.head()"
   ]
  },
  {
   "cell_type": "code",
   "execution_count": 9,
   "id": "db86b318-eb85-41fd-887c-78aa16cccb07",
   "metadata": {},
   "outputs": [
    {
     "data": {
      "text/html": [
       "<div>\n",
       "<style scoped>\n",
       "    .dataframe tbody tr th:only-of-type {\n",
       "        vertical-align: middle;\n",
       "    }\n",
       "\n",
       "    .dataframe tbody tr th {\n",
       "        vertical-align: top;\n",
       "    }\n",
       "\n",
       "    .dataframe thead th {\n",
       "        text-align: right;\n",
       "    }\n",
       "</style>\n",
       "<table border=\"1\" class=\"dataframe\">\n",
       "  <thead>\n",
       "    <tr style=\"text-align: right;\">\n",
       "      <th></th>\n",
       "      <th>startYear</th>\n",
       "      <th>runtimeMinutes</th>\n",
       "      <th>averageRating</th>\n",
       "      <th>numVotes</th>\n",
       "      <th>tv</th>\n",
       "      <th>format_episode</th>\n",
       "      <th>format_miniseries</th>\n",
       "      <th>format_movie</th>\n",
       "      <th>format_series</th>\n",
       "      <th>format_short</th>\n",
       "      <th>format_special</th>\n",
       "      <th>format_video</th>\n",
       "      <th>total_ratings</th>\n",
       "    </tr>\n",
       "  </thead>\n",
       "  <tbody>\n",
       "    <tr>\n",
       "      <th>count</th>\n",
       "      <td>9254.000000</td>\n",
       "      <td>9254.000000</td>\n",
       "      <td>9254.000000</td>\n",
       "      <td>9.254000e+03</td>\n",
       "      <td>9254.000000</td>\n",
       "      <td>9254.000000</td>\n",
       "      <td>9254.000000</td>\n",
       "      <td>9254.000000</td>\n",
       "      <td>9254.000000</td>\n",
       "      <td>9254.000000</td>\n",
       "      <td>9254.000000</td>\n",
       "      <td>9254.000000</td>\n",
       "      <td>9.254000e+03</td>\n",
       "    </tr>\n",
       "    <tr>\n",
       "      <th>mean</th>\n",
       "      <td>1994.355090</td>\n",
       "      <td>105.813054</td>\n",
       "      <td>6.634936</td>\n",
       "      <td>8.371382e+04</td>\n",
       "      <td>0.028744</td>\n",
       "      <td>0.002161</td>\n",
       "      <td>0.005187</td>\n",
       "      <td>0.965853</td>\n",
       "      <td>0.000648</td>\n",
       "      <td>0.010482</td>\n",
       "      <td>0.007240</td>\n",
       "      <td>0.008429</td>\n",
       "      <td>6.042766e+05</td>\n",
       "    </tr>\n",
       "    <tr>\n",
       "      <th>std</th>\n",
       "      <td>18.697433</td>\n",
       "      <td>28.703214</td>\n",
       "      <td>1.009365</td>\n",
       "      <td>1.698811e+05</td>\n",
       "      <td>0.167096</td>\n",
       "      <td>0.046441</td>\n",
       "      <td>0.071837</td>\n",
       "      <td>0.181617</td>\n",
       "      <td>0.025456</td>\n",
       "      <td>0.101849</td>\n",
       "      <td>0.084785</td>\n",
       "      <td>0.091426</td>\n",
       "      <td>1.375543e+06</td>\n",
       "    </tr>\n",
       "    <tr>\n",
       "      <th>min</th>\n",
       "      <td>1902.000000</td>\n",
       "      <td>3.000000</td>\n",
       "      <td>1.300000</td>\n",
       "      <td>2.700000e+01</td>\n",
       "      <td>0.000000</td>\n",
       "      <td>0.000000</td>\n",
       "      <td>0.000000</td>\n",
       "      <td>0.000000</td>\n",
       "      <td>0.000000</td>\n",
       "      <td>0.000000</td>\n",
       "      <td>0.000000</td>\n",
       "      <td>0.000000</td>\n",
       "      <td>2.079000e+02</td>\n",
       "    </tr>\n",
       "    <tr>\n",
       "      <th>25%</th>\n",
       "      <td>1987.000000</td>\n",
       "      <td>93.000000</td>\n",
       "      <td>6.100000</td>\n",
       "      <td>8.320000e+03</td>\n",
       "      <td>0.000000</td>\n",
       "      <td>0.000000</td>\n",
       "      <td>0.000000</td>\n",
       "      <td>1.000000</td>\n",
       "      <td>0.000000</td>\n",
       "      <td>0.000000</td>\n",
       "      <td>0.000000</td>\n",
       "      <td>0.000000</td>\n",
       "      <td>5.273388e+04</td>\n",
       "    </tr>\n",
       "    <tr>\n",
       "      <th>50%</th>\n",
       "      <td>1999.000000</td>\n",
       "      <td>103.000000</td>\n",
       "      <td>6.700000</td>\n",
       "      <td>2.489250e+04</td>\n",
       "      <td>0.000000</td>\n",
       "      <td>0.000000</td>\n",
       "      <td>0.000000</td>\n",
       "      <td>1.000000</td>\n",
       "      <td>0.000000</td>\n",
       "      <td>0.000000</td>\n",
       "      <td>0.000000</td>\n",
       "      <td>0.000000</td>\n",
       "      <td>1.633452e+05</td>\n",
       "    </tr>\n",
       "    <tr>\n",
       "      <th>75%</th>\n",
       "      <td>2007.750000</td>\n",
       "      <td>116.000000</td>\n",
       "      <td>7.300000</td>\n",
       "      <td>8.297200e+04</td>\n",
       "      <td>0.000000</td>\n",
       "      <td>0.000000</td>\n",
       "      <td>0.000000</td>\n",
       "      <td>1.000000</td>\n",
       "      <td>0.000000</td>\n",
       "      <td>0.000000</td>\n",
       "      <td>0.000000</td>\n",
       "      <td>0.000000</td>\n",
       "      <td>5.490600e+05</td>\n",
       "    </tr>\n",
       "    <tr>\n",
       "      <th>max</th>\n",
       "      <td>2018.000000</td>\n",
       "      <td>780.000000</td>\n",
       "      <td>9.500000</td>\n",
       "      <td>2.701871e+06</td>\n",
       "      <td>1.000000</td>\n",
       "      <td>1.000000</td>\n",
       "      <td>1.000000</td>\n",
       "      <td>1.000000</td>\n",
       "      <td>1.000000</td>\n",
       "      <td>1.000000</td>\n",
       "      <td>1.000000</td>\n",
       "      <td>1.000000</td>\n",
       "      <td>2.512740e+07</td>\n",
       "    </tr>\n",
       "  </tbody>\n",
       "</table>\n",
       "</div>"
      ],
      "text/plain": [
       "         startYear  runtimeMinutes  averageRating      numVotes           tv  \\\n",
       "count  9254.000000     9254.000000    9254.000000  9.254000e+03  9254.000000   \n",
       "mean   1994.355090      105.813054       6.634936  8.371382e+04     0.028744   \n",
       "std      18.697433       28.703214       1.009365  1.698811e+05     0.167096   \n",
       "min    1902.000000        3.000000       1.300000  2.700000e+01     0.000000   \n",
       "25%    1987.000000       93.000000       6.100000  8.320000e+03     0.000000   \n",
       "50%    1999.000000      103.000000       6.700000  2.489250e+04     0.000000   \n",
       "75%    2007.750000      116.000000       7.300000  8.297200e+04     0.000000   \n",
       "max    2018.000000      780.000000       9.500000  2.701871e+06     1.000000   \n",
       "\n",
       "       format_episode  format_miniseries  format_movie  format_series  \\\n",
       "count     9254.000000        9254.000000   9254.000000    9254.000000   \n",
       "mean         0.002161           0.005187      0.965853       0.000648   \n",
       "std          0.046441           0.071837      0.181617       0.025456   \n",
       "min          0.000000           0.000000      0.000000       0.000000   \n",
       "25%          0.000000           0.000000      1.000000       0.000000   \n",
       "50%          0.000000           0.000000      1.000000       0.000000   \n",
       "75%          0.000000           0.000000      1.000000       0.000000   \n",
       "max          1.000000           1.000000      1.000000       1.000000   \n",
       "\n",
       "       format_short  format_special  format_video  total_ratings  \n",
       "count   9254.000000     9254.000000   9254.000000   9.254000e+03  \n",
       "mean       0.010482        0.007240      0.008429   6.042766e+05  \n",
       "std        0.101849        0.084785      0.091426   1.375543e+06  \n",
       "min        0.000000        0.000000      0.000000   2.079000e+02  \n",
       "25%        0.000000        0.000000      0.000000   5.273388e+04  \n",
       "50%        0.000000        0.000000      0.000000   1.633452e+05  \n",
       "75%        0.000000        0.000000      0.000000   5.490600e+05  \n",
       "max        1.000000        1.000000      1.000000   2.512740e+07  "
      ]
     },
     "execution_count": 9,
     "metadata": {},
     "output_type": "execute_result"
    }
   ],
   "source": [
    "attributes.describe()"
   ]
  },
  {
   "cell_type": "code",
   "execution_count": null,
   "id": "e0c9f33d-66a8-4a50-8b86-796675b2f6b9",
   "metadata": {},
   "outputs": [],
   "source": []
  },
  {
   "cell_type": "code",
   "execution_count": 10,
   "id": "51ad6df9-802a-40d6-903b-438cfa00e904",
   "metadata": {},
   "outputs": [
    {
     "data": {
      "text/plain": [
       "(9254, 25)"
      ]
     },
     "execution_count": 10,
     "metadata": {},
     "output_type": "execute_result"
    }
   ],
   "source": [
    "# perform dimensionality reduction on our people dataset - this is something that could be tuned\n",
    "\n",
    "imdb_has_people = item_index.join(imdb_people.pivot_table(index='item',columns='primaryName',values='nconst',aggfunc='size'),how='outer').fillna(0).astype(bool)\n",
    "\n",
    "pca = PCA(n_components=25)\n",
    "imdb_has_people_pca = item_index.join(pd.DataFrame(pca.fit_transform(imdb_has_people),index=imdb_has_people.index),how='left')\n",
    "imdb_has_people_pca.shape"
   ]
  },
  {
   "cell_type": "code",
   "execution_count": 11,
   "id": "89b532e3-e2cc-4e9c-b78d-c7073624ecc1",
   "metadata": {},
   "outputs": [
    {
     "data": {
      "text/plain": [
       "(9254, 25)"
      ]
     },
     "execution_count": 11,
     "metadata": {},
     "output_type": "execute_result"
    }
   ],
   "source": [
    "# perform dimensionality reduction on our tag dataset - this is something that could be tuned\n",
    "\n",
    "train_tags = item_index.join(train_t.pivot_table(index='item',columns='tag',values='user',aggfunc='size'),how='outer').fillna(0).astype(bool)\n",
    "\n",
    "pca = PCA(n_components=25)\n",
    "train_tags_pca = item_index.join(pd.DataFrame(pca.fit_transform(train_tags.astype(bool)),index=train_tags.index),how='left')\n",
    "train_tags_pca.shape"
   ]
  },
  {
   "cell_type": "markdown",
   "id": "06d28303-967f-4d11-9187-693896f3dfaf",
   "metadata": {
    "tags": []
   },
   "source": [
    "### Discussion:\n",
    "\n",
    "Now we have our 5 feature sets:\n",
    "- Training ratings matrix (train_ratings_mr)\n",
    "- Genre attributes (genres_df)\n",
    "- IMDb numeric attributes (attr_bool)\n",
    "- IMDb boolean attributes (attr_nums)\n",
    "- IMDb crew relations (imdb_has_people_pca)\n",
    "- MovieLens provided Tags (train_tags_pca)\n",
    "\n",
    "Since we are here, I'll add that how we split the attributes and perform dimentionality reduction are all parts we could tweak to accurately represent the real world of what makes a movie good. \n"
   ]
  },
  {
   "cell_type": "markdown",
   "id": "b32b7329-8307-48f8-a567-098217866221",
   "metadata": {
    "tags": []
   },
   "source": [
    "## Step 2 : Explore the final data (an EDA activity)"
   ]
  },
  {
   "cell_type": "code",
   "execution_count": 12,
   "id": "52e09e1e-fac9-48be-bd2b-e8a31bca9e73",
   "metadata": {},
   "outputs": [
    {
     "name": "stdout",
     "output_type": "stream",
     "text": [
      "Check out the size of our 5 feature sets:\n",
      "- Training ratings matrix ((9254, 610))\n",
      "- Genre attributes ((9254, 19))\n",
      "- IMDb numeric attributes ((9254, 8))\n",
      "- IMDb boolean attributes ((9254, 5))\n",
      "- IMDb crew relations ((9254, 25))\n",
      "- MovieLens provided Tags ((9254, 25))\n"
     ]
    }
   ],
   "source": [
    "print(\"Check out the size of our 5 feature sets:\")\n",
    "print(f\"\"\"- Training ratings matrix ({train_ratings_mr.T.shape})\"\"\")\n",
    "print(f\"\"\"- Genre attributes ({genres_df.shape})\"\"\")\n",
    "print(f\"\"\"- IMDb numeric attributes ({attr_bool.shape})\"\"\")\n",
    "print(f\"\"\"- IMDb boolean attributes ({attr_nums.shape})\"\"\")\n",
    "print(f\"\"\"- IMDb crew relations ({imdb_has_people_pca.shape})\"\"\")\n",
    "print(f\"\"\"- MovieLens provided Tags ({train_tags_pca.shape})\"\"\")"
   ]
  },
  {
   "cell_type": "markdown",
   "id": "40f0a948-add0-4ee1-b92d-d84bd8c08ea0",
   "metadata": {
    "tags": []
   },
   "source": [
    "### Discussion:\n",
    "\n",
    "Looks like we did a good job getting out data to the same movies!\n",
    "\n",
    "Now lets see some histograms!"
   ]
  },
  {
   "cell_type": "code",
   "execution_count": 13,
   "id": "343f367a-0e78-43a3-a4d0-c82d7a1cc228",
   "metadata": {},
   "outputs": [
    {
     "data": {
      "text/html": [
       "<div>\n",
       "<style scoped>\n",
       "    .dataframe tbody tr th:only-of-type {\n",
       "        vertical-align: middle;\n",
       "    }\n",
       "\n",
       "    .dataframe tbody tr th {\n",
       "        vertical-align: top;\n",
       "    }\n",
       "\n",
       "    .dataframe thead th {\n",
       "        text-align: right;\n",
       "    }\n",
       "</style>\n",
       "<table border=\"1\" class=\"dataframe\">\n",
       "  <thead>\n",
       "    <tr style=\"text-align: right;\">\n",
       "      <th></th>\n",
       "      <th>user</th>\n",
       "      <th>item</th>\n",
       "      <th>rating</th>\n",
       "      <th>timestamp</th>\n",
       "    </tr>\n",
       "  </thead>\n",
       "  <tbody>\n",
       "    <tr>\n",
       "      <th>81145</th>\n",
       "      <td>514</td>\n",
       "      <td>1270</td>\n",
       "      <td>5.0</td>\n",
       "      <td>1533872291</td>\n",
       "    </tr>\n",
       "    <tr>\n",
       "      <th>58978</th>\n",
       "      <td>385</td>\n",
       "      <td>94</td>\n",
       "      <td>4.0</td>\n",
       "      <td>847137503</td>\n",
       "    </tr>\n",
       "    <tr>\n",
       "      <th>59249</th>\n",
       "      <td>387</td>\n",
       "      <td>110</td>\n",
       "      <td>3.5</td>\n",
       "      <td>1095040466</td>\n",
       "    </tr>\n",
       "    <tr>\n",
       "      <th>59277</th>\n",
       "      <td>387</td>\n",
       "      <td>344</td>\n",
       "      <td>3.5</td>\n",
       "      <td>1095040472</td>\n",
       "    </tr>\n",
       "    <tr>\n",
       "      <th>31456</th>\n",
       "      <td>217</td>\n",
       "      <td>3363</td>\n",
       "      <td>3.0</td>\n",
       "      <td>955943760</td>\n",
       "    </tr>\n",
       "  </tbody>\n",
       "</table>\n",
       "</div>"
      ],
      "text/plain": [
       "       user  item  rating   timestamp\n",
       "81145   514  1270     5.0  1533872291\n",
       "58978   385    94     4.0   847137503\n",
       "59249   387   110     3.5  1095040466\n",
       "59277   387   344     3.5  1095040472\n",
       "31456   217  3363     3.0   955943760"
      ]
     },
     "execution_count": 13,
     "metadata": {},
     "output_type": "execute_result"
    }
   ],
   "source": [
    "train_r.head()"
   ]
  },
  {
   "cell_type": "code",
   "execution_count": 14,
   "id": "e65e90e9-3f11-4fd3-807f-318922898ec7",
   "metadata": {},
   "outputs": [
    {
     "name": "stderr",
     "output_type": "stream",
     "text": [
      "/Users/blake.tagget/opt/anaconda3/lib/python3.9/site-packages/pandas/plotting/_matplotlib/core.py:1114: UserWarning: No data for colormapping provided via 'c'. Parameters 'cmap' will be ignored\n",
      "  scatter = ax.scatter(\n"
     ]
    },
    {
     "data": {
      "text/plain": [
       "<AxesSubplot: xlabel='size', ylabel='mean'>"
      ]
     },
     "execution_count": 14,
     "metadata": {},
     "output_type": "execute_result"
    },
    {
     "data": {
      "image/png": "[encoded data removed]",
      "text/plain": [
       "<Figure size 640x480 with 1 Axes>"
      ]
     },
     "metadata": {},
     "output_type": "display_data"
    }
   ],
   "source": [
    "train_r.groupby(['item'])['rating'].agg(['size','mean']).plot.scatter('size','mean')"
   ]
  },
  {
   "cell_type": "code",
   "execution_count": 15,
   "id": "c93a1a82-d51c-4d4b-8a4d-b97c67651795",
   "metadata": {},
   "outputs": [
    {
     "name": "stderr",
     "output_type": "stream",
     "text": [
      "/Users/blake.tagget/opt/anaconda3/lib/python3.9/site-packages/pandas/plotting/_matplotlib/core.py:1114: UserWarning: No data for colormapping provided via 'c'. Parameters 'cmap' will be ignored\n",
      "  scatter = ax.scatter(\n"
     ]
    },
    {
     "data": {
      "text/plain": [
       "<AxesSubplot: xlabel='size', ylabel='mean'>"
      ]
     },
     "execution_count": 15,
     "metadata": {},
     "output_type": "execute_result"
    },
    {
     "data": {
      "image/png": "[encoded data removed]",
      "text/plain": [
       "<Figure size 640x480 with 1 Axes>"
      ]
     },
     "metadata": {},
     "output_type": "display_data"
    }
   ],
   "source": [
    "test_r.groupby(['item'])['rating'].agg(['size','mean']).plot.scatter('size','mean')"
   ]
  },
  {
   "cell_type": "code",
   "execution_count": 16,
   "id": "32ff66a6-423b-497c-9802-bf55bf5a9c64",
   "metadata": {},
   "outputs": [
    {
     "data": {
      "text/plain": [
       "array([[<AxesSubplot: title={'center': 'startYear'}>]], dtype=object)"
      ]
     },
     "execution_count": 16,
     "metadata": {},
     "output_type": "execute_result"
    },
    {
     "data": {
      "image/png": "[encoded data removed]",
      "text/plain": [
       "<Figure size 640x480 with 1 Axes>"
      ]
     },
     "metadata": {},
     "output_type": "display_data"
    }
   ],
   "source": [
    "attr_nums.hist('startYear')"
   ]
  },
  {
   "cell_type": "code",
   "execution_count": 17,
   "id": "af9b5ac9-91aa-4e8b-ae8c-86da3f3098a8",
   "metadata": {},
   "outputs": [
    {
     "data": {
      "text/plain": [
       "array([[<AxesSubplot: title={'center': 'averageRating'}>]], dtype=object)"
      ]
     },
     "execution_count": 17,
     "metadata": {},
     "output_type": "execute_result"
    },
    {
     "data": {
      "image/png": "[encoded data removed]",
      "text/plain": [
       "<Figure size 640x480 with 1 Axes>"
      ]
     },
     "metadata": {},
     "output_type": "display_data"
    }
   ],
   "source": [
    "attr_nums.hist('averageRating')"
   ]
  },
  {
   "cell_type": "code",
   "execution_count": 18,
   "id": "82e0f58a-a538-497d-845d-860155137369",
   "metadata": {},
   "outputs": [
    {
     "data": {
      "text/plain": [
       "array([[<AxesSubplot: title={'center': 'runtimeMinutes'}>]], dtype=object)"
      ]
     },
     "execution_count": 18,
     "metadata": {},
     "output_type": "execute_result"
    },
    {
     "data": {
      "image/png": "[encoded data removed]",
      "text/plain": [
       "<Figure size 640x480 with 1 Axes>"
      ]
     },
     "metadata": {},
     "output_type": "display_data"
    }
   ],
   "source": [
    "attr_nums.hist('runtimeMinutes')"
   ]
  },
  {
   "cell_type": "markdown",
   "id": "bfb6badd-6bba-4bd1-82b7-51d1b4e74c78",
   "metadata": {
    "tags": []
   },
   "source": [
    "### Discussion:\n",
    "\n",
    "Our train and test datasets look to have a similar representation of movies. Also the population of movies looks to have a right skew'd rating scale. Generally speaking, movies a rated higher than a 5."
   ]
  },
  {
   "cell_type": "markdown",
   "id": "2b033229-1e8a-4b3c-9e3f-15bf172e605b",
   "metadata": {
    "tags": []
   },
   "source": [
    "## Step 3 : Explore some similarity scores (an EDA activity)"
   ]
  },
  {
   "cell_type": "code",
   "execution_count": 19,
   "id": "f05bcf0e-0961-4826-b540-6c3ac0155d22",
   "metadata": {},
   "outputs": [],
   "source": [
    "# make a function to easily calc distance given a feature set and a distance function\n",
    "def calc_distance(df,distance):\n",
    "    dist_m = pd.DataFrame(squareform(pdist(df, distance)),index=df.index, columns= df.index)\n",
    "    return dist_m"
   ]
  },
  {
   "cell_type": "code",
   "execution_count": 20,
   "id": "1108c394-f974-4b62-a43a-7cfa2821335d",
   "metadata": {},
   "outputs": [],
   "source": [
    "# calc a bunch of item-item similarity matrixes\n",
    "attr_nums_dist = calc_distance(attr_nums, 'euclidean')\n",
    "crew_euclid = calc_distance(imdb_has_people_pca, 'euclidean')\n",
    "crew_cosine = calc_distance(imdb_has_people_pca, 'cosine')\n",
    "tag_euclid = calc_distance(train_tags_pca, 'euclidean')\n",
    "tag_cosine = calc_distance(train_tags_pca, 'cosine')"
   ]
  },
  {
   "cell_type": "code",
   "execution_count": 21,
   "id": "840f48b3-2077-48c0-bb9b-cb1cbcb94573",
   "metadata": {},
   "outputs": [
    {
     "data": {
      "text/html": [
       "<div>\n",
       "<style scoped>\n",
       "    .dataframe tbody tr th:only-of-type {\n",
       "        vertical-align: middle;\n",
       "    }\n",
       "\n",
       "    .dataframe tbody tr th {\n",
       "        vertical-align: top;\n",
       "    }\n",
       "\n",
       "    .dataframe thead th {\n",
       "        text-align: right;\n",
       "    }\n",
       "</style>\n",
       "<table border=\"1\" class=\"dataframe\">\n",
       "  <thead>\n",
       "    <tr style=\"text-align: right;\">\n",
       "      <th></th>\n",
       "      <th>187595</th>\n",
       "      <th>title</th>\n",
       "      <th>genres</th>\n",
       "      <th>lk_tconst</th>\n",
       "      <th>primaryName</th>\n",
       "      <th>startYear</th>\n",
       "      <th>runtimeMinutes</th>\n",
       "      <th>averageRating</th>\n",
       "      <th>numVotes</th>\n",
       "      <th>total_ratings</th>\n",
       "    </tr>\n",
       "    <tr>\n",
       "      <th>item</th>\n",
       "      <th></th>\n",
       "      <th></th>\n",
       "      <th></th>\n",
       "      <th></th>\n",
       "      <th></th>\n",
       "      <th></th>\n",
       "      <th></th>\n",
       "      <th></th>\n",
       "      <th></th>\n",
       "      <th></th>\n",
       "    </tr>\n",
       "  </thead>\n",
       "  <tbody>\n",
       "    <tr>\n",
       "      <th>187595</th>\n",
       "      <td>0.000000</td>\n",
       "      <td>Solo: A Star Wars Story (2018)</td>\n",
       "      <td>Action|Adventure|Children|Sci-Fi</td>\n",
       "      <td>tt3778644</td>\n",
       "      <td>[Kathleen Kennedy, Alden Ehrenreich, Woody Har...</td>\n",
       "      <td>2018.0</td>\n",
       "      <td>135.0</td>\n",
       "      <td>6.9</td>\n",
       "      <td>353480</td>\n",
       "      <td>2439012.0</td>\n",
       "    </tr>\n",
       "    <tr>\n",
       "      <th>53322</th>\n",
       "      <td>9753.964866</td>\n",
       "      <td>Ocean's Thirteen (2007)</td>\n",
       "      <td>Crime|Thriller</td>\n",
       "      <td>tt0496806</td>\n",
       "      <td>[Jerry Weintraub, George Clooney, Brad Pitt, M...</td>\n",
       "      <td>2007.0</td>\n",
       "      <td>122.0</td>\n",
       "      <td>6.9</td>\n",
       "      <td>352081</td>\n",
       "      <td>2429358.9</td>\n",
       "    </tr>\n",
       "    <tr>\n",
       "      <th>99112</th>\n",
       "      <td>16442.717446</td>\n",
       "      <td>Jack Reacher (2012)</td>\n",
       "      <td>Action|Crime|Thriller</td>\n",
       "      <td>tt0790724</td>\n",
       "      <td>[Joe Kraemer, Tom Cruise, Rosamund Pike, Richa...</td>\n",
       "      <td>2012.0</td>\n",
       "      <td>130.0</td>\n",
       "      <td>7.0</td>\n",
       "      <td>346316</td>\n",
       "      <td>2424212.0</td>\n",
       "    </tr>\n",
       "    <tr>\n",
       "      <th>54272</th>\n",
       "      <td>19477.740471</td>\n",
       "      <td>Simpsons Movie, The (2007)</td>\n",
       "      <td>Animation|Comedy</td>\n",
       "      <td>tt0462538</td>\n",
       "      <td>[George Meyer, Dan Castellaneta, Julie Kavner,...</td>\n",
       "      <td>2007.0</td>\n",
       "      <td>87.0</td>\n",
       "      <td>7.3</td>\n",
       "      <td>334921</td>\n",
       "      <td>2444923.3</td>\n",
       "    </tr>\n",
       "    <tr>\n",
       "      <th>7293</th>\n",
       "      <td>19626.846549</td>\n",
       "      <td>50 First Dates (2004)</td>\n",
       "      <td>Comedy|Romance</td>\n",
       "      <td>tt0343660</td>\n",
       "      <td>[Teddy Castellucci, Adam Sandler, Drew Barrymo...</td>\n",
       "      <td>2004.0</td>\n",
       "      <td>99.0</td>\n",
       "      <td>6.8</td>\n",
       "      <td>361324</td>\n",
       "      <td>2457003.2</td>\n",
       "    </tr>\n",
       "  </tbody>\n",
       "</table>\n",
       "</div>"
      ],
      "text/plain": [
       "              187595                           title  \\\n",
       "item                                                   \n",
       "187595      0.000000  Solo: A Star Wars Story (2018)   \n",
       "53322    9753.964866         Ocean's Thirteen (2007)   \n",
       "99112   16442.717446             Jack Reacher (2012)   \n",
       "54272   19477.740471      Simpsons Movie, The (2007)   \n",
       "7293    19626.846549           50 First Dates (2004)   \n",
       "\n",
       "                                  genres  lk_tconst  \\\n",
       "item                                                  \n",
       "187595  Action|Adventure|Children|Sci-Fi  tt3778644   \n",
       "53322                     Crime|Thriller  tt0496806   \n",
       "99112              Action|Crime|Thriller  tt0790724   \n",
       "54272                   Animation|Comedy  tt0462538   \n",
       "7293                      Comedy|Romance  tt0343660   \n",
       "\n",
       "                                              primaryName  startYear  \\\n",
       "item                                                                   \n",
       "187595  [Kathleen Kennedy, Alden Ehrenreich, Woody Har...     2018.0   \n",
       "53322   [Jerry Weintraub, George Clooney, Brad Pitt, M...     2007.0   \n",
       "99112   [Joe Kraemer, Tom Cruise, Rosamund Pike, Richa...     2012.0   \n",
       "54272   [George Meyer, Dan Castellaneta, Julie Kavner,...     2007.0   \n",
       "7293    [Teddy Castellucci, Adam Sandler, Drew Barrymo...     2004.0   \n",
       "\n",
       "        runtimeMinutes  averageRating  numVotes  total_ratings  \n",
       "item                                                            \n",
       "187595           135.0            6.9    353480      2439012.0  \n",
       "53322            122.0            6.9    352081      2429358.9  \n",
       "99112            130.0            7.0    346316      2424212.0  \n",
       "54272             87.0            7.3    334921      2444923.3  \n",
       "7293              99.0            6.8    361324      2457003.2  "
      ]
     },
     "execution_count": 21,
     "metadata": {},
     "output_type": "execute_result"
    }
   ],
   "source": [
    "# find a different movie!\n",
    "pd.DataFrame(attr_nums_dist.loc[187595].sort_values()).join(movies,how='left').join(imdb_people.groupby(['item'])['primaryName'].agg(list)).join(attr_nums).head()\n"
   ]
  },
  {
   "cell_type": "code",
   "execution_count": 22,
   "id": "7d52c36c-ab03-4606-92e4-a945f44c90a3",
   "metadata": {},
   "outputs": [
    {
     "data": {
      "text/html": [
       "<div>\n",
       "<style scoped>\n",
       "    .dataframe tbody tr th:only-of-type {\n",
       "        vertical-align: middle;\n",
       "    }\n",
       "\n",
       "    .dataframe tbody tr th {\n",
       "        vertical-align: top;\n",
       "    }\n",
       "\n",
       "    .dataframe thead th {\n",
       "        text-align: right;\n",
       "    }\n",
       "</style>\n",
       "<table border=\"1\" class=\"dataframe\">\n",
       "  <thead>\n",
       "    <tr style=\"text-align: right;\">\n",
       "      <th></th>\n",
       "      <th>187595</th>\n",
       "      <th>title</th>\n",
       "      <th>genres</th>\n",
       "      <th>lk_tconst</th>\n",
       "      <th>primaryName</th>\n",
       "      <th>startYear</th>\n",
       "      <th>runtimeMinutes</th>\n",
       "      <th>averageRating</th>\n",
       "      <th>numVotes</th>\n",
       "      <th>total_ratings</th>\n",
       "    </tr>\n",
       "    <tr>\n",
       "      <th>item</th>\n",
       "      <th></th>\n",
       "      <th></th>\n",
       "      <th></th>\n",
       "      <th></th>\n",
       "      <th></th>\n",
       "      <th></th>\n",
       "      <th></th>\n",
       "      <th></th>\n",
       "      <th></th>\n",
       "      <th></th>\n",
       "    </tr>\n",
       "  </thead>\n",
       "  <tbody>\n",
       "    <tr>\n",
       "      <th>187595</th>\n",
       "      <td>0.000000</td>\n",
       "      <td>Solo: A Star Wars Story (2018)</td>\n",
       "      <td>Action|Adventure|Children|Sci-Fi</td>\n",
       "      <td>tt3778644</td>\n",
       "      <td>[Kathleen Kennedy, Alden Ehrenreich, Woody Har...</td>\n",
       "      <td>2018.0</td>\n",
       "      <td>135.0</td>\n",
       "      <td>6.9</td>\n",
       "      <td>353480</td>\n",
       "      <td>2439012.0</td>\n",
       "    </tr>\n",
       "    <tr>\n",
       "      <th>6821</th>\n",
       "      <td>0.322130</td>\n",
       "      <td>More American Graffiti (1979)</td>\n",
       "      <td>Comedy</td>\n",
       "      <td>tt0079576</td>\n",
       "      <td>[Caleb Deschanel, Candy Clark, Bo Hopkins, Ron...</td>\n",
       "      <td>1979.0</td>\n",
       "      <td>110.0</td>\n",
       "      <td>5.3</td>\n",
       "      <td>4707</td>\n",
       "      <td>24947.1</td>\n",
       "    </tr>\n",
       "    <tr>\n",
       "      <th>3363</th>\n",
       "      <td>0.347591</td>\n",
       "      <td>American Graffiti (1973)</td>\n",
       "      <td>Comedy|Drama</td>\n",
       "      <td>tt0069704</td>\n",
       "      <td>[Ron Eveslage, Richard Dreyfuss, Ron Howard, P...</td>\n",
       "      <td>1973.0</td>\n",
       "      <td>110.0</td>\n",
       "      <td>7.4</td>\n",
       "      <td>92140</td>\n",
       "      <td>681836.0</td>\n",
       "    </tr>\n",
       "    <tr>\n",
       "      <th>122886</th>\n",
       "      <td>0.485902</td>\n",
       "      <td>Star Wars: Episode VII - The Force Awakens (2015)</td>\n",
       "      <td>Action|Adventure|Fantasy|Sci-Fi|IMAX</td>\n",
       "      <td>tt2488496</td>\n",
       "      <td>[Kathleen Kennedy, Daisy Ridley, John Boyega, ...</td>\n",
       "      <td>2015.0</td>\n",
       "      <td>138.0</td>\n",
       "      <td>7.8</td>\n",
       "      <td>937743</td>\n",
       "      <td>7314395.4</td>\n",
       "    </tr>\n",
       "    <tr>\n",
       "      <th>69524</th>\n",
       "      <td>0.524817</td>\n",
       "      <td>Raiders of the Lost Ark: The Adaptation (1989)</td>\n",
       "      <td>Action|Adventure|Thriller</td>\n",
       "      <td>tt0772251</td>\n",
       "      <td>[Chris Strompolos, Angela Rodriguez, Michael B...</td>\n",
       "      <td>1989.0</td>\n",
       "      <td>100.0</td>\n",
       "      <td>8.0</td>\n",
       "      <td>777</td>\n",
       "      <td>6216.0</td>\n",
       "    </tr>\n",
       "  </tbody>\n",
       "</table>\n",
       "</div>"
      ],
      "text/plain": [
       "          187595                                              title  \\\n",
       "item                                                                  \n",
       "187595  0.000000                     Solo: A Star Wars Story (2018)   \n",
       "6821    0.322130                      More American Graffiti (1979)   \n",
       "3363    0.347591                           American Graffiti (1973)   \n",
       "122886  0.485902  Star Wars: Episode VII - The Force Awakens (2015)   \n",
       "69524   0.524817     Raiders of the Lost Ark: The Adaptation (1989)   \n",
       "\n",
       "                                      genres  lk_tconst  \\\n",
       "item                                                      \n",
       "187595      Action|Adventure|Children|Sci-Fi  tt3778644   \n",
       "6821                                  Comedy  tt0079576   \n",
       "3363                            Comedy|Drama  tt0069704   \n",
       "122886  Action|Adventure|Fantasy|Sci-Fi|IMAX  tt2488496   \n",
       "69524              Action|Adventure|Thriller  tt0772251   \n",
       "\n",
       "                                              primaryName  startYear  \\\n",
       "item                                                                   \n",
       "187595  [Kathleen Kennedy, Alden Ehrenreich, Woody Har...     2018.0   \n",
       "6821    [Caleb Deschanel, Candy Clark, Bo Hopkins, Ron...     1979.0   \n",
       "3363    [Ron Eveslage, Richard Dreyfuss, Ron Howard, P...     1973.0   \n",
       "122886  [Kathleen Kennedy, Daisy Ridley, John Boyega, ...     2015.0   \n",
       "69524   [Chris Strompolos, Angela Rodriguez, Michael B...     1989.0   \n",
       "\n",
       "        runtimeMinutes  averageRating  numVotes  total_ratings  \n",
       "item                                                            \n",
       "187595           135.0            6.9    353480      2439012.0  \n",
       "6821             110.0            5.3      4707        24947.1  \n",
       "3363             110.0            7.4     92140       681836.0  \n",
       "122886           138.0            7.8    937743      7314395.4  \n",
       "69524            100.0            8.0       777         6216.0  "
      ]
     },
     "execution_count": 22,
     "metadata": {},
     "output_type": "execute_result"
    }
   ],
   "source": [
    "# find a different movie!\n",
    "pd.DataFrame(crew_euclid.loc[187595].sort_values()).join(movies,how='left').join(imdb_people.groupby(['item'])['primaryName'].agg(list)).join(attr_nums).head()"
   ]
  },
  {
   "cell_type": "code",
   "execution_count": 23,
   "id": "3dbae0a4-7290-450e-b751-2b9e590680bb",
   "metadata": {},
   "outputs": [
    {
     "data": {
      "text/html": [
       "<div>\n",
       "<style scoped>\n",
       "    .dataframe tbody tr th:only-of-type {\n",
       "        vertical-align: middle;\n",
       "    }\n",
       "\n",
       "    .dataframe tbody tr th {\n",
       "        vertical-align: top;\n",
       "    }\n",
       "\n",
       "    .dataframe thead th {\n",
       "        text-align: right;\n",
       "    }\n",
       "</style>\n",
       "<table border=\"1\" class=\"dataframe\">\n",
       "  <thead>\n",
       "    <tr style=\"text-align: right;\">\n",
       "      <th></th>\n",
       "      <th>187595</th>\n",
       "      <th>title</th>\n",
       "      <th>genres</th>\n",
       "      <th>lk_tconst</th>\n",
       "      <th>primaryName</th>\n",
       "      <th>startYear</th>\n",
       "      <th>runtimeMinutes</th>\n",
       "      <th>averageRating</th>\n",
       "      <th>numVotes</th>\n",
       "      <th>total_ratings</th>\n",
       "    </tr>\n",
       "    <tr>\n",
       "      <th>item</th>\n",
       "      <th></th>\n",
       "      <th></th>\n",
       "      <th></th>\n",
       "      <th></th>\n",
       "      <th></th>\n",
       "      <th></th>\n",
       "      <th></th>\n",
       "      <th></th>\n",
       "      <th></th>\n",
       "      <th></th>\n",
       "    </tr>\n",
       "  </thead>\n",
       "  <tbody>\n",
       "    <tr>\n",
       "      <th>187595</th>\n",
       "      <td>0.000000</td>\n",
       "      <td>Solo: A Star Wars Story (2018)</td>\n",
       "      <td>Action|Adventure|Children|Sci-Fi</td>\n",
       "      <td>tt3778644</td>\n",
       "      <td>[Kathleen Kennedy, Alden Ehrenreich, Woody Har...</td>\n",
       "      <td>2018.0</td>\n",
       "      <td>135.0</td>\n",
       "      <td>6.9</td>\n",
       "      <td>353480</td>\n",
       "      <td>2439012.0</td>\n",
       "    </tr>\n",
       "    <tr>\n",
       "      <th>6821</th>\n",
       "      <td>0.079873</td>\n",
       "      <td>More American Graffiti (1979)</td>\n",
       "      <td>Comedy</td>\n",
       "      <td>tt0079576</td>\n",
       "      <td>[Caleb Deschanel, Candy Clark, Bo Hopkins, Ron...</td>\n",
       "      <td>1979.0</td>\n",
       "      <td>110.0</td>\n",
       "      <td>5.3</td>\n",
       "      <td>4707</td>\n",
       "      <td>24947.1</td>\n",
       "    </tr>\n",
       "    <tr>\n",
       "      <th>3363</th>\n",
       "      <td>0.098300</td>\n",
       "      <td>American Graffiti (1973)</td>\n",
       "      <td>Comedy|Drama</td>\n",
       "      <td>tt0069704</td>\n",
       "      <td>[Ron Eveslage, Richard Dreyfuss, Ron Howard, P...</td>\n",
       "      <td>1973.0</td>\n",
       "      <td>110.0</td>\n",
       "      <td>7.4</td>\n",
       "      <td>92140</td>\n",
       "      <td>681836.0</td>\n",
       "    </tr>\n",
       "    <tr>\n",
       "      <th>3259</th>\n",
       "      <td>0.144862</td>\n",
       "      <td>Far and Away (1992)</td>\n",
       "      <td>Adventure|Drama|Romance</td>\n",
       "      <td>tt0104231</td>\n",
       "      <td>[Daniel P. Hanley, Tom Cruise, Nicole Kidman, ...</td>\n",
       "      <td>1992.0</td>\n",
       "      <td>140.0</td>\n",
       "      <td>6.6</td>\n",
       "      <td>65216</td>\n",
       "      <td>430425.6</td>\n",
       "    </tr>\n",
       "    <tr>\n",
       "      <th>166528</th>\n",
       "      <td>0.178009</td>\n",
       "      <td>Rogue One: A Star Wars Story (2016)</td>\n",
       "      <td>Action|Adventure|Fantasy|Sci-Fi</td>\n",
       "      <td>tt3748528</td>\n",
       "      <td>[George Lucas, Felicity Jones, Diego Luna, Ala...</td>\n",
       "      <td>2016.0</td>\n",
       "      <td>133.0</td>\n",
       "      <td>7.8</td>\n",
       "      <td>647294</td>\n",
       "      <td>5048893.2</td>\n",
       "    </tr>\n",
       "  </tbody>\n",
       "</table>\n",
       "</div>"
      ],
      "text/plain": [
       "          187595                                title  \\\n",
       "item                                                    \n",
       "187595  0.000000       Solo: A Star Wars Story (2018)   \n",
       "6821    0.079873        More American Graffiti (1979)   \n",
       "3363    0.098300             American Graffiti (1973)   \n",
       "3259    0.144862                  Far and Away (1992)   \n",
       "166528  0.178009  Rogue One: A Star Wars Story (2016)   \n",
       "\n",
       "                                  genres  lk_tconst  \\\n",
       "item                                                  \n",
       "187595  Action|Adventure|Children|Sci-Fi  tt3778644   \n",
       "6821                              Comedy  tt0079576   \n",
       "3363                        Comedy|Drama  tt0069704   \n",
       "3259             Adventure|Drama|Romance  tt0104231   \n",
       "166528   Action|Adventure|Fantasy|Sci-Fi  tt3748528   \n",
       "\n",
       "                                              primaryName  startYear  \\\n",
       "item                                                                   \n",
       "187595  [Kathleen Kennedy, Alden Ehrenreich, Woody Har...     2018.0   \n",
       "6821    [Caleb Deschanel, Candy Clark, Bo Hopkins, Ron...     1979.0   \n",
       "3363    [Ron Eveslage, Richard Dreyfuss, Ron Howard, P...     1973.0   \n",
       "3259    [Daniel P. Hanley, Tom Cruise, Nicole Kidman, ...     1992.0   \n",
       "166528  [George Lucas, Felicity Jones, Diego Luna, Ala...     2016.0   \n",
       "\n",
       "        runtimeMinutes  averageRating  numVotes  total_ratings  \n",
       "item                                                            \n",
       "187595           135.0            6.9    353480      2439012.0  \n",
       "6821             110.0            5.3      4707        24947.1  \n",
       "3363             110.0            7.4     92140       681836.0  \n",
       "3259             140.0            6.6     65216       430425.6  \n",
       "166528           133.0            7.8    647294      5048893.2  "
      ]
     },
     "execution_count": 23,
     "metadata": {},
     "output_type": "execute_result"
    }
   ],
   "source": [
    "# find a different movie!\n",
    "pd.DataFrame(crew_cosine.loc[187595].sort_values()).join(movies,how='left').join(imdb_people.groupby(['item'])['primaryName'].agg(list)).join(attr_nums).head()"
   ]
  },
  {
   "cell_type": "code",
   "execution_count": 24,
   "id": "97484d83-5d01-4d2b-b7b1-152b768fa868",
   "metadata": {},
   "outputs": [
    {
     "data": {
      "text/html": [
       "<div>\n",
       "<style scoped>\n",
       "    .dataframe tbody tr th:only-of-type {\n",
       "        vertical-align: middle;\n",
       "    }\n",
       "\n",
       "    .dataframe tbody tr th {\n",
       "        vertical-align: top;\n",
       "    }\n",
       "\n",
       "    .dataframe thead th {\n",
       "        text-align: right;\n",
       "    }\n",
       "</style>\n",
       "<table border=\"1\" class=\"dataframe\">\n",
       "  <thead>\n",
       "    <tr style=\"text-align: right;\">\n",
       "      <th></th>\n",
       "      <th>187595</th>\n",
       "      <th>title</th>\n",
       "      <th>genres</th>\n",
       "      <th>lk_tconst</th>\n",
       "      <th>primaryName</th>\n",
       "      <th>startYear</th>\n",
       "      <th>runtimeMinutes</th>\n",
       "      <th>averageRating</th>\n",
       "      <th>numVotes</th>\n",
       "      <th>total_ratings</th>\n",
       "    </tr>\n",
       "    <tr>\n",
       "      <th>item</th>\n",
       "      <th></th>\n",
       "      <th></th>\n",
       "      <th></th>\n",
       "      <th></th>\n",
       "      <th></th>\n",
       "      <th></th>\n",
       "      <th></th>\n",
       "      <th></th>\n",
       "      <th></th>\n",
       "      <th></th>\n",
       "    </tr>\n",
       "  </thead>\n",
       "  <tbody>\n",
       "    <tr>\n",
       "      <th>187595</th>\n",
       "      <td>0.000000</td>\n",
       "      <td>Solo: A Star Wars Story (2018)</td>\n",
       "      <td>Action|Adventure|Children|Sci-Fi</td>\n",
       "      <td>tt3778644</td>\n",
       "      <td>[Kathleen Kennedy, Alden Ehrenreich, Woody Har...</td>\n",
       "      <td>2018.0</td>\n",
       "      <td>135.0</td>\n",
       "      <td>6.9</td>\n",
       "      <td>353480</td>\n",
       "      <td>2439012.0</td>\n",
       "    </tr>\n",
       "    <tr>\n",
       "      <th>61160</th>\n",
       "      <td>1.233546</td>\n",
       "      <td>Star Wars: The Clone Wars (2008)</td>\n",
       "      <td>Action|Adventure|Animation|Sci-Fi</td>\n",
       "      <td>tt1185834</td>\n",
       "      <td>[Catherine Winder, Matt Lanter, Nika Futterman...</td>\n",
       "      <td>2008.0</td>\n",
       "      <td>98.0</td>\n",
       "      <td>5.9</td>\n",
       "      <td>67710</td>\n",
       "      <td>399489.0</td>\n",
       "    </tr>\n",
       "    <tr>\n",
       "      <th>173291</th>\n",
       "      <td>1.351910</td>\n",
       "      <td>Valerian and the City of a Thousand Planets (2...</td>\n",
       "      <td>Action|Adventure|Sci-Fi</td>\n",
       "      <td>tt2239822</td>\n",
       "      <td>[Thierry Arbogast, Dane DeHaan, Cara Delevingn...</td>\n",
       "      <td>2017.0</td>\n",
       "      <td>136.0</td>\n",
       "      <td>6.4</td>\n",
       "      <td>184917</td>\n",
       "      <td>1183468.8</td>\n",
       "    </tr>\n",
       "    <tr>\n",
       "      <th>65982</th>\n",
       "      <td>1.415722</td>\n",
       "      <td>Outlander (2008)</td>\n",
       "      <td>Action|Adventure|Sci-Fi</td>\n",
       "      <td>tt0462465</td>\n",
       "      <td>[Pierre Gill, Jim Caviezel, Sophia Myles, Ron ...</td>\n",
       "      <td>2008.0</td>\n",
       "      <td>115.0</td>\n",
       "      <td>6.2</td>\n",
       "      <td>76559</td>\n",
       "      <td>474665.8</td>\n",
       "    </tr>\n",
       "    <tr>\n",
       "      <th>70336</th>\n",
       "      <td>1.460098</td>\n",
       "      <td>G.I. Joe: The Rise of Cobra (2009)</td>\n",
       "      <td>Action|Adventure|Sci-Fi|Thriller</td>\n",
       "      <td>tt1046173</td>\n",
       "      <td>[Lorenzo di Bonaventura, Dennis Quaid, Channin...</td>\n",
       "      <td>2009.0</td>\n",
       "      <td>118.0</td>\n",
       "      <td>5.7</td>\n",
       "      <td>210531</td>\n",
       "      <td>1200026.7</td>\n",
       "    </tr>\n",
       "  </tbody>\n",
       "</table>\n",
       "</div>"
      ],
      "text/plain": [
       "          187595                                              title  \\\n",
       "item                                                                  \n",
       "187595  0.000000                     Solo: A Star Wars Story (2018)   \n",
       "61160   1.233546                   Star Wars: The Clone Wars (2008)   \n",
       "173291  1.351910  Valerian and the City of a Thousand Planets (2...   \n",
       "65982   1.415722                                   Outlander (2008)   \n",
       "70336   1.460098                 G.I. Joe: The Rise of Cobra (2009)   \n",
       "\n",
       "                                   genres  lk_tconst  \\\n",
       "item                                                   \n",
       "187595   Action|Adventure|Children|Sci-Fi  tt3778644   \n",
       "61160   Action|Adventure|Animation|Sci-Fi  tt1185834   \n",
       "173291            Action|Adventure|Sci-Fi  tt2239822   \n",
       "65982             Action|Adventure|Sci-Fi  tt0462465   \n",
       "70336    Action|Adventure|Sci-Fi|Thriller  tt1046173   \n",
       "\n",
       "                                              primaryName  startYear  \\\n",
       "item                                                                   \n",
       "187595  [Kathleen Kennedy, Alden Ehrenreich, Woody Har...     2018.0   \n",
       "61160   [Catherine Winder, Matt Lanter, Nika Futterman...     2008.0   \n",
       "173291  [Thierry Arbogast, Dane DeHaan, Cara Delevingn...     2017.0   \n",
       "65982   [Pierre Gill, Jim Caviezel, Sophia Myles, Ron ...     2008.0   \n",
       "70336   [Lorenzo di Bonaventura, Dennis Quaid, Channin...     2009.0   \n",
       "\n",
       "        runtimeMinutes  averageRating  numVotes  total_ratings  \n",
       "item                                                            \n",
       "187595           135.0            6.9    353480      2439012.0  \n",
       "61160             98.0            5.9     67710       399489.0  \n",
       "173291           136.0            6.4    184917      1183468.8  \n",
       "65982            115.0            6.2     76559       474665.8  \n",
       "70336            118.0            5.7    210531      1200026.7  "
      ]
     },
     "execution_count": 24,
     "metadata": {},
     "output_type": "execute_result"
    }
   ],
   "source": [
    "# find a different movie!\n",
    "pd.DataFrame(tag_euclid.loc[187595].sort_values()).join(movies,how='left').join(imdb_people.groupby(['item'])['primaryName'].agg(list)).join(attr_nums).head()\n"
   ]
  },
  {
   "cell_type": "code",
   "execution_count": 25,
   "id": "6bfaec1b-5524-4375-8074-0fa485c68677",
   "metadata": {},
   "outputs": [
    {
     "data": {
      "text/html": [
       "<div>\n",
       "<style scoped>\n",
       "    .dataframe tbody tr th:only-of-type {\n",
       "        vertical-align: middle;\n",
       "    }\n",
       "\n",
       "    .dataframe tbody tr th {\n",
       "        vertical-align: top;\n",
       "    }\n",
       "\n",
       "    .dataframe thead th {\n",
       "        text-align: right;\n",
       "    }\n",
       "</style>\n",
       "<table border=\"1\" class=\"dataframe\">\n",
       "  <thead>\n",
       "    <tr style=\"text-align: right;\">\n",
       "      <th></th>\n",
       "      <th>187595</th>\n",
       "      <th>title</th>\n",
       "      <th>genres</th>\n",
       "      <th>lk_tconst</th>\n",
       "      <th>primaryName</th>\n",
       "      <th>startYear</th>\n",
       "      <th>runtimeMinutes</th>\n",
       "      <th>averageRating</th>\n",
       "      <th>numVotes</th>\n",
       "      <th>total_ratings</th>\n",
       "    </tr>\n",
       "    <tr>\n",
       "      <th>item</th>\n",
       "      <th></th>\n",
       "      <th></th>\n",
       "      <th></th>\n",
       "      <th></th>\n",
       "      <th></th>\n",
       "      <th></th>\n",
       "      <th></th>\n",
       "      <th></th>\n",
       "      <th></th>\n",
       "      <th></th>\n",
       "    </tr>\n",
       "  </thead>\n",
       "  <tbody>\n",
       "    <tr>\n",
       "      <th>187595</th>\n",
       "      <td>0.000000</td>\n",
       "      <td>Solo: A Star Wars Story (2018)</td>\n",
       "      <td>Action|Adventure|Children|Sci-Fi</td>\n",
       "      <td>tt3778644</td>\n",
       "      <td>[Kathleen Kennedy, Alden Ehrenreich, Woody Har...</td>\n",
       "      <td>2018.0</td>\n",
       "      <td>135.0</td>\n",
       "      <td>6.9</td>\n",
       "      <td>353480</td>\n",
       "      <td>2439012.0</td>\n",
       "    </tr>\n",
       "    <tr>\n",
       "      <th>101864</th>\n",
       "      <td>0.148015</td>\n",
       "      <td>Oblivion (2013)</td>\n",
       "      <td>Action|Adventure|Sci-Fi|IMAX</td>\n",
       "      <td>tt1483013</td>\n",
       "      <td>[Duncan Henderson, Tom Cruise, Morgan Freeman,...</td>\n",
       "      <td>2013.0</td>\n",
       "      <td>124.0</td>\n",
       "      <td>7.0</td>\n",
       "      <td>532284</td>\n",
       "      <td>3725988.0</td>\n",
       "    </tr>\n",
       "    <tr>\n",
       "      <th>65982</th>\n",
       "      <td>0.148862</td>\n",
       "      <td>Outlander (2008)</td>\n",
       "      <td>Action|Adventure|Sci-Fi</td>\n",
       "      <td>tt0462465</td>\n",
       "      <td>[Pierre Gill, Jim Caviezel, Sophia Myles, Ron ...</td>\n",
       "      <td>2008.0</td>\n",
       "      <td>115.0</td>\n",
       "      <td>6.2</td>\n",
       "      <td>76559</td>\n",
       "      <td>474665.8</td>\n",
       "    </tr>\n",
       "    <tr>\n",
       "      <th>61160</th>\n",
       "      <td>0.152467</td>\n",
       "      <td>Star Wars: The Clone Wars (2008)</td>\n",
       "      <td>Action|Adventure|Animation|Sci-Fi</td>\n",
       "      <td>tt1185834</td>\n",
       "      <td>[Catherine Winder, Matt Lanter, Nika Futterman...</td>\n",
       "      <td>2008.0</td>\n",
       "      <td>98.0</td>\n",
       "      <td>5.9</td>\n",
       "      <td>67710</td>\n",
       "      <td>399489.0</td>\n",
       "    </tr>\n",
       "    <tr>\n",
       "      <th>173291</th>\n",
       "      <td>0.157197</td>\n",
       "      <td>Valerian and the City of a Thousand Planets (2...</td>\n",
       "      <td>Action|Adventure|Sci-Fi</td>\n",
       "      <td>tt2239822</td>\n",
       "      <td>[Thierry Arbogast, Dane DeHaan, Cara Delevingn...</td>\n",
       "      <td>2017.0</td>\n",
       "      <td>136.0</td>\n",
       "      <td>6.4</td>\n",
       "      <td>184917</td>\n",
       "      <td>1183468.8</td>\n",
       "    </tr>\n",
       "  </tbody>\n",
       "</table>\n",
       "</div>"
      ],
      "text/plain": [
       "          187595                                              title  \\\n",
       "item                                                                  \n",
       "187595  0.000000                     Solo: A Star Wars Story (2018)   \n",
       "101864  0.148015                                    Oblivion (2013)   \n",
       "65982   0.148862                                   Outlander (2008)   \n",
       "61160   0.152467                   Star Wars: The Clone Wars (2008)   \n",
       "173291  0.157197  Valerian and the City of a Thousand Planets (2...   \n",
       "\n",
       "                                   genres  lk_tconst  \\\n",
       "item                                                   \n",
       "187595   Action|Adventure|Children|Sci-Fi  tt3778644   \n",
       "101864       Action|Adventure|Sci-Fi|IMAX  tt1483013   \n",
       "65982             Action|Adventure|Sci-Fi  tt0462465   \n",
       "61160   Action|Adventure|Animation|Sci-Fi  tt1185834   \n",
       "173291            Action|Adventure|Sci-Fi  tt2239822   \n",
       "\n",
       "                                              primaryName  startYear  \\\n",
       "item                                                                   \n",
       "187595  [Kathleen Kennedy, Alden Ehrenreich, Woody Har...     2018.0   \n",
       "101864  [Duncan Henderson, Tom Cruise, Morgan Freeman,...     2013.0   \n",
       "65982   [Pierre Gill, Jim Caviezel, Sophia Myles, Ron ...     2008.0   \n",
       "61160   [Catherine Winder, Matt Lanter, Nika Futterman...     2008.0   \n",
       "173291  [Thierry Arbogast, Dane DeHaan, Cara Delevingn...     2017.0   \n",
       "\n",
       "        runtimeMinutes  averageRating  numVotes  total_ratings  \n",
       "item                                                            \n",
       "187595           135.0            6.9    353480      2439012.0  \n",
       "101864           124.0            7.0    532284      3725988.0  \n",
       "65982            115.0            6.2     76559       474665.8  \n",
       "61160             98.0            5.9     67710       399489.0  \n",
       "173291           136.0            6.4    184917      1183468.8  "
      ]
     },
     "execution_count": 25,
     "metadata": {},
     "output_type": "execute_result"
    }
   ],
   "source": [
    "# find a different movie!\n",
    "pd.DataFrame(tag_cosine.loc[187595].sort_values()).join(movies,how='left').join(imdb_people.groupby(['item'])['primaryName'].agg(list)).join(attr_nums).head()\n"
   ]
  },
  {
   "cell_type": "code",
   "execution_count": 26,
   "id": "b8397021-2040-4402-aa70-9164a14c0588",
   "metadata": {},
   "outputs": [],
   "source": [
    "# clear up some memory\n",
    "del attr_nums_dist\n",
    "\n",
    "del crew_euclid\n",
    "del crew_cosine\n",
    "del tag_euclid\n",
    "del tag_cosine"
   ]
  },
  {
   "cell_type": "markdown",
   "id": "ed853427-4ead-478e-ba94-87fd3bc586d4",
   "metadata": {
    "tags": []
   },
   "source": [
    "### Discussion:\n",
    "\n",
    "Look at that, for a sample Star Wars film, our feature attributes and PCA dimensionality reduction retain the correlation (business logic) we would need. We see that Solo is n-dimensionally close to other George Lucas films.\n",
    "\n",
    "Sweet!\n"
   ]
  },
  {
   "cell_type": "markdown",
   "id": "150c0cb6-b6b4-4207-870e-8c3a419c47c4",
   "metadata": {
    "tags": []
   },
   "source": [
    "## Step 4 : Create the Model"
   ]
  },
  {
   "cell_type": "code",
   "execution_count": 41,
   "id": "994c7e21-434d-43d3-a929-604a9a42fe07",
   "metadata": {},
   "outputs": [],
   "source": [
    "\n",
    "# function city!!\n",
    "\n",
    "def calc_sim(name,features,distance_calc):\n",
    "    t0=time.perf_counter()\n",
    "    sim = 1-squareform(pdist(features,distance_calc))\n",
    "    scaler = MinMaxScaler()\n",
    "    scaler.fit_transform(sim)\n",
    "    \n",
    "    t1=time.perf_counter()\n",
    "    print(f'''{name} {distance_calc} similarity calculation time : ''',t1-t0)\n",
    "\n",
    "    return sim\n",
    "\n",
    "def predict(item_sim):\n",
    "    t0=time.perf_counter()\n",
    "    preds = np.ndarray(shape=len(test_r['user']))\n",
    "\n",
    "    for row,user,item in zip(range(len(test_r['user'])),test_r['user'],test_r['item']):\n",
    "\n",
    "        list_of_rating = train_ratings_mr[user_id.get(user)]\n",
    "        list_of_movies = item_sim[item_id.get(item)]\n",
    "\n",
    "        preds[row] = np.dot(list_of_rating,list_of_movies)/np.dot(list_of_movies,list_of_rating>0)\n",
    "\n",
    "    preds[np.isnan(preds)]=3 #In case there is nan values in prediction, it will impute to 3.\n",
    "    t1=time.perf_counter()\n",
    "    print(f'''predict calculation time : ''',t1-t0)\n",
    "    return preds\n",
    "\n",
    "\n",
    "def error_rate(preds):    \n",
    "    yt=np.array(test_r['rating'])\n",
    "    error = np.sqrt(((yt-preds)**2).mean())\n",
    "    print(error)\n",
    "    return error\n",
    "\n",
    "def convert_df_for_sim(df):\n",
    "     return np.array(df.astype(pd.SparseDtype(\"int\", 0)).sparse.to_coo().toarray())\n",
    "\n",
    "\n",
    "def make_hybrid_sim(item_sim_map):\n",
    "    sim_scores = np.ones(shape=(len(movies),len(movies)))\n",
    "    for key,val in item_sim_map.items():\n",
    "        sim_scores *= calc_sim(key,val[0], val[1])\n",
    "    \n",
    "    scaler = MinMaxScaler()\n",
    "    scaler.fit_transform(sim_scores)\n",
    "    \n",
    "    return sim_scores\n",
    "    \n",
    "def run_model(item_sim_map):\n",
    "    sim_scores = make_hybrid_sim(item_sim_map)\n",
    "    \n",
    "    pred = predict(sim_scores)\n",
    "    \n",
    "    return error_rate(pred)\n",
    "    \n",
    "    "
   ]
  },
  {
   "cell_type": "markdown",
   "id": "0dd56152-6397-406b-9b11-3f77a1e19c0a",
   "metadata": {},
   "source": [
    "### Discussion:\n",
    "\n",
    "Not much to say here other than, I spent a lot of time to get here! **Making sure the algorithm makes efficient use of python data structures and objects is essential to having the notebook run in a \"short\" amout of time.** I'm talking 5 days! I'm not ashamed to say it. But now I know the things to address earlier in a like this project."
   ]
  },
  {
   "cell_type": "markdown",
   "id": "28efdb8e-3df5-4cbc-9251-c733fe740584",
   "metadata": {
    "tags": []
   },
   "source": [
    "## Step 5. Find the best similarity scores for each feature set"
   ]
  },
  {
   "cell_type": "code",
   "execution_count": 28,
   "id": "308b228f-d030-45e5-9918-3bcc793f0cae",
   "metadata": {},
   "outputs": [],
   "source": [
    "# make some feature set and distance objects to calc best distance functions\n",
    "\n",
    "cat_features = {\n",
    "    'r':train_ratings_mr.T,\n",
    "    'g':convert_df_for_sim(genres_df),\n",
    "    'ab':convert_df_for_sim(attr_bool),\n",
    "}\n",
    "bool_distances = ['dice','hamming','yule','jaccard']\n",
    "\n",
    "num_features = {\n",
    "    'r':train_ratings_mr.T,\n",
    "    'an':convert_df_for_sim(attr_nums),\n",
    "    'p':convert_df_for_sim(imdb_has_people_pca),\n",
    "    't':convert_df_for_sim(train_tags_pca)\n",
    "}\n",
    "num_distances = ['cosine','euclidean','braycurtis','canberra','chebyshev','correlation','seuclidean','sqeuclidean']\n"
   ]
  },
  {
   "cell_type": "code",
   "execution_count": 29,
   "id": "94a0d624-ec7c-494f-8301-6cdc9f8c746c",
   "metadata": {
    "tags": []
   },
   "outputs": [
    {
     "name": "stdout",
     "output_type": "stream",
     "text": [
      "r\n",
      "dice\n",
      "0 dice similarity calculation time :  26.881667932\n"
     ]
    },
    {
     "name": "stderr",
     "output_type": "stream",
     "text": [
      "/var/folders/7f/vp4rxn4s03db1tvmq1976xx80000gp/T/ipykernel_25732/2645572126.py:23: RuntimeWarning: invalid value encountered in double_scalars\n",
      "  preds[row] = np.dot(list_of_rating,list_of_movies)/np.dot(list_of_movies,list_of_rating>0)\n"
     ]
    },
    {
     "name": "stdout",
     "output_type": "stream",
     "text": [
      "predict calculation time :  1.0188758329999956\n",
      "0.9194304452306723\n",
      "hamming\n",
      "0 hamming similarity calculation time :  37.722947452\n",
      "predict calculation time :  1.035485618999985\n",
      "0.9433548766099663\n",
      "yule\n",
      "0 yule similarity calculation time :  55.298493792000016\n"
     ]
    },
    {
     "name": "stderr",
     "output_type": "stream",
     "text": [
      "/var/folders/7f/vp4rxn4s03db1tvmq1976xx80000gp/T/ipykernel_25732/2645572126.py:23: RuntimeWarning: divide by zero encountered in double_scalars\n",
      "  preds[row] = np.dot(list_of_rating,list_of_movies)/np.dot(list_of_movies,list_of_rating>0)\n"
     ]
    },
    {
     "name": "stdout",
     "output_type": "stream",
     "text": [
      "predict calculation time :  1.0984423490000097\n",
      "inf\n",
      "jaccard\n",
      "0 jaccard similarity calculation time :  21.486383966000005\n"
     ]
    },
    {
     "name": "stderr",
     "output_type": "stream",
     "text": [
      "/var/folders/7f/vp4rxn4s03db1tvmq1976xx80000gp/T/ipykernel_25732/2645572126.py:23: RuntimeWarning: invalid value encountered in double_scalars\n",
      "  preds[row] = np.dot(list_of_rating,list_of_movies)/np.dot(list_of_movies,list_of_rating>0)\n"
     ]
    },
    {
     "name": "stdout",
     "output_type": "stream",
     "text": [
      "predict calculation time :  1.0066150359999995\n",
      "0.8895234326936754\n",
      "g\n",
      "dice\n",
      "0 dice similarity calculation time :  3.1209050859999934\n"
     ]
    },
    {
     "name": "stderr",
     "output_type": "stream",
     "text": [
      "/var/folders/7f/vp4rxn4s03db1tvmq1976xx80000gp/T/ipykernel_25732/2645572126.py:23: RuntimeWarning: invalid value encountered in double_scalars\n",
      "  preds[row] = np.dot(list_of_rating,list_of_movies)/np.dot(list_of_movies,list_of_rating>0)\n"
     ]
    },
    {
     "name": "stdout",
     "output_type": "stream",
     "text": [
      "predict calculation time :  0.9968220910000127\n",
      "0.9201070698305442\n",
      "hamming\n",
      "0 hamming similarity calculation time :  2.967335148000018\n",
      "predict calculation time :  0.9790004210000234\n",
      "0.9408999708906615\n",
      "yule\n",
      "0 yule similarity calculation time :  3.5028318709999837\n"
     ]
    },
    {
     "name": "stderr",
     "output_type": "stream",
     "text": [
      "/var/folders/7f/vp4rxn4s03db1tvmq1976xx80000gp/T/ipykernel_25732/2645572126.py:23: RuntimeWarning: divide by zero encountered in double_scalars\n",
      "  preds[row] = np.dot(list_of_rating,list_of_movies)/np.dot(list_of_movies,list_of_rating>0)\n"
     ]
    },
    {
     "name": "stdout",
     "output_type": "stream",
     "text": [
      "predict calculation time :  0.9719688530000212\n",
      "inf\n",
      "jaccard\n",
      "0 jaccard similarity calculation time :  2.7891021049999836\n"
     ]
    },
    {
     "name": "stderr",
     "output_type": "stream",
     "text": [
      "/var/folders/7f/vp4rxn4s03db1tvmq1976xx80000gp/T/ipykernel_25732/2645572126.py:23: RuntimeWarning: invalid value encountered in double_scalars\n",
      "  preds[row] = np.dot(list_of_rating,list_of_movies)/np.dot(list_of_movies,list_of_rating>0)\n"
     ]
    },
    {
     "name": "stdout",
     "output_type": "stream",
     "text": [
      "predict calculation time :  0.9868892549999941\n",
      "0.918269500206824\n",
      "ab\n",
      "dice\n",
      "0 dice similarity calculation time :  2.5060830390000035\n"
     ]
    },
    {
     "name": "stderr",
     "output_type": "stream",
     "text": [
      "/var/folders/7f/vp4rxn4s03db1tvmq1976xx80000gp/T/ipykernel_25732/2645572126.py:23: RuntimeWarning: invalid value encountered in double_scalars\n",
      "  preds[row] = np.dot(list_of_rating,list_of_movies)/np.dot(list_of_movies,list_of_rating>0)\n"
     ]
    },
    {
     "name": "stdout",
     "output_type": "stream",
     "text": [
      "predict calculation time :  0.9795507500000156\n",
      "0.9436012097293524\n",
      "hamming\n",
      "0 hamming similarity calculation time :  2.408841582999969\n",
      "predict calculation time :  1.0277298249999944\n",
      "0.9438495800100112\n",
      "yule\n",
      "0 yule similarity calculation time :  3.131611721000013\n",
      "predict calculation time :  0.9780458790000353\n",
      "0.9443240774156871\n",
      "jaccard\n",
      "0 jaccard similarity calculation time :  2.433047472999988\n"
     ]
    },
    {
     "name": "stderr",
     "output_type": "stream",
     "text": [
      "/var/folders/7f/vp4rxn4s03db1tvmq1976xx80000gp/T/ipykernel_25732/2645572126.py:23: RuntimeWarning: invalid value encountered in double_scalars\n",
      "  preds[row] = np.dot(list_of_rating,list_of_movies)/np.dot(list_of_movies,list_of_rating>0)\n"
     ]
    },
    {
     "name": "stdout",
     "output_type": "stream",
     "text": [
      "predict calculation time :  1.0034831859999827\n",
      "0.9435939487966806\n",
      "r\n",
      "cosine\n",
      "0 cosine similarity calculation time :  36.15825218200001\n",
      "predict calculation time :  1.0155252140000357\n",
      "1.1583514403101687\n",
      "euclidean\n",
      "0 euclidean similarity calculation time :  57.35713376199999\n",
      "predict calculation time :  0.9716064230000256\n",
      "0.970070785875223\n",
      "braycurtis\n",
      "0 braycurtis similarity calculation time :  78.99431682399995\n"
     ]
    },
    {
     "name": "stderr",
     "output_type": "stream",
     "text": [
      "/var/folders/7f/vp4rxn4s03db1tvmq1976xx80000gp/T/ipykernel_25732/2645572126.py:23: RuntimeWarning: invalid value encountered in double_scalars\n",
      "  preds[row] = np.dot(list_of_rating,list_of_movies)/np.dot(list_of_movies,list_of_rating>0)\n"
     ]
    },
    {
     "name": "stdout",
     "output_type": "stream",
     "text": [
      "predict calculation time :  1.0098809990000177\n",
      "0.9098680804610966\n",
      "canberra\n",
      "0 canberra similarity calculation time :  100.93257936500004\n",
      "predict calculation time :  1.0471777860000202\n",
      "0.9808031727398021\n",
      "chebyshev\n",
      "0 chebyshev similarity calculation time :  49.949583792\n",
      "predict calculation time :  1.0318591530000276\n",
      "0.9500530171553846\n",
      "correlation\n",
      "0 correlation similarity calculation time :  36.112237916000026\n",
      "predict calculation time :  1.0014351119999674\n",
      "1.1583514403101687\n",
      "seuclidean\n",
      "0 seuclidean similarity calculation time :  38.20091401600007\n",
      "predict calculation time :  1.0275870299999497\n",
      "0.9724839510062155\n",
      "sqeuclidean\n",
      "0 sqeuclidean similarity calculation time :  58.43713545899993\n",
      "predict calculation time :  1.0678101390000165\n",
      "1.0010753007847943\n",
      "an\n",
      "cosine\n",
      "0 cosine similarity calculation time :  2.4185624299999517\n",
      "predict calculation time :  1.0567866359999698\n",
      "0.9437333418521536\n",
      "euclidean\n",
      "0 euclidean similarity calculation time :  2.3392387389999385\n",
      "predict calculation time :  0.9895694630000662\n",
      "1.0371140969045123\n",
      "braycurtis\n",
      "0 braycurtis similarity calculation time :  2.5053620369999408\n",
      "predict calculation time :  1.009475506000058\n",
      "0.9106793329859005\n",
      "canberra\n",
      "0 canberra similarity calculation time :  2.5357723490000126\n",
      "predict calculation time :  1.0050772550000602\n",
      "417.9552471922885\n",
      "chebyshev\n",
      "0 chebyshev similarity calculation time :  2.2671211140000196\n",
      "predict calculation time :  1.010214200000064\n",
      "1.0373658811363393\n",
      "correlation\n",
      "0 correlation similarity calculation time :  2.43987610399995\n",
      "predict calculation time :  1.0227405499999804\n",
      "0.9437246837672693\n",
      "seuclidean\n",
      "0 seuclidean similarity calculation time :  2.553727925999965\n",
      "predict calculation time :  1.0714898810000477\n",
      "1.1126063080405744\n",
      "sqeuclidean\n",
      "0 sqeuclidean similarity calculation time :  2.48973116500008\n",
      "predict calculation time :  0.9850162239999918\n",
      "1.148219208761699\n",
      "p\n",
      "cosine\n",
      "0 cosine similarity calculation time :  2.9326940029999378\n",
      "predict calculation time :  0.9868349710000075\n",
      "1.1583514403101687\n",
      "euclidean\n",
      "0 euclidean similarity calculation time :  2.7769794700000148\n"
     ]
    },
    {
     "name": "stderr",
     "output_type": "stream",
     "text": [
      "/var/folders/7f/vp4rxn4s03db1tvmq1976xx80000gp/T/ipykernel_25732/2645572126.py:23: RuntimeWarning: invalid value encountered in double_scalars\n",
      "  preds[row] = np.dot(list_of_rating,list_of_movies)/np.dot(list_of_movies,list_of_rating>0)\n"
     ]
    },
    {
     "name": "stdout",
     "output_type": "stream",
     "text": [
      "predict calculation time :  1.0379542250000213\n",
      "1.2374820612475974\n",
      "braycurtis\n",
      "0 braycurtis similarity calculation time :  3.2517083929999444\n"
     ]
    },
    {
     "name": "stderr",
     "output_type": "stream",
     "text": [
      "/var/folders/7f/vp4rxn4s03db1tvmq1976xx80000gp/T/ipykernel_25732/2645572126.py:23: RuntimeWarning: invalid value encountered in double_scalars\n",
      "  preds[row] = np.dot(list_of_rating,list_of_movies)/np.dot(list_of_movies,list_of_rating>0)\n",
      "/var/folders/7f/vp4rxn4s03db1tvmq1976xx80000gp/T/ipykernel_25732/2645572126.py:23: RuntimeWarning: divide by zero encountered in double_scalars\n",
      "  preds[row] = np.dot(list_of_rating,list_of_movies)/np.dot(list_of_movies,list_of_rating>0)\n"
     ]
    },
    {
     "name": "stdout",
     "output_type": "stream",
     "text": [
      "predict calculation time :  1.1010178249999854\n",
      "inf\n",
      "canberra\n",
      "0 canberra similarity calculation time :  3.6803861900000356\n"
     ]
    },
    {
     "name": "stderr",
     "output_type": "stream",
     "text": [
      "/var/folders/7f/vp4rxn4s03db1tvmq1976xx80000gp/T/ipykernel_25732/2645572126.py:23: RuntimeWarning: divide by zero encountered in double_scalars\n",
      "  preds[row] = np.dot(list_of_rating,list_of_movies)/np.dot(list_of_movies,list_of_rating>0)\n",
      "/var/folders/7f/vp4rxn4s03db1tvmq1976xx80000gp/T/ipykernel_25732/2645572126.py:23: RuntimeWarning: invalid value encountered in double_scalars\n",
      "  preds[row] = np.dot(list_of_rating,list_of_movies)/np.dot(list_of_movies,list_of_rating>0)\n"
     ]
    },
    {
     "name": "stdout",
     "output_type": "stream",
     "text": [
      "predict calculation time :  1.0027945120000368\n",
      "inf\n",
      "chebyshev\n",
      "0 chebyshev similarity calculation time :  2.673866111999928\n"
     ]
    },
    {
     "name": "stderr",
     "output_type": "stream",
     "text": [
      "/var/folders/7f/vp4rxn4s03db1tvmq1976xx80000gp/T/ipykernel_25732/2645572126.py:23: RuntimeWarning: invalid value encountered in double_scalars\n",
      "  preds[row] = np.dot(list_of_rating,list_of_movies)/np.dot(list_of_movies,list_of_rating>0)\n",
      "/var/folders/7f/vp4rxn4s03db1tvmq1976xx80000gp/T/ipykernel_25732/2645572126.py:23: RuntimeWarning: divide by zero encountered in double_scalars\n",
      "  preds[row] = np.dot(list_of_rating,list_of_movies)/np.dot(list_of_movies,list_of_rating>0)\n"
     ]
    },
    {
     "name": "stdout",
     "output_type": "stream",
     "text": [
      "predict calculation time :  1.0045623250000517\n",
      "inf\n",
      "correlation\n",
      "0 correlation similarity calculation time :  2.9772357409999586\n",
      "predict calculation time :  1.0304348390000087\n",
      "1.1583514403101687\n",
      "seuclidean\n",
      "0 seuclidean similarity calculation time :  3.666031963000023\n",
      "predict calculation time :  1.082058026000027\n",
      "1.1583514403101687\n",
      "sqeuclidean\n",
      "0 sqeuclidean similarity calculation time :  2.6923262500000646\n"
     ]
    },
    {
     "name": "stderr",
     "output_type": "stream",
     "text": [
      "/var/folders/7f/vp4rxn4s03db1tvmq1976xx80000gp/T/ipykernel_25732/2645572126.py:23: RuntimeWarning: divide by zero encountered in double_scalars\n",
      "  preds[row] = np.dot(list_of_rating,list_of_movies)/np.dot(list_of_movies,list_of_rating>0)\n",
      "/var/folders/7f/vp4rxn4s03db1tvmq1976xx80000gp/T/ipykernel_25732/2645572126.py:23: RuntimeWarning: invalid value encountered in double_scalars\n",
      "  preds[row] = np.dot(list_of_rating,list_of_movies)/np.dot(list_of_movies,list_of_rating>0)\n"
     ]
    },
    {
     "name": "stdout",
     "output_type": "stream",
     "text": [
      "predict calculation time :  1.0416982810000945\n",
      "inf\n",
      "t\n",
      "cosine\n",
      "0 cosine similarity calculation time :  2.9377440199999683\n",
      "predict calculation time :  1.0114471670000285\n",
      "1.1583514403101687\n",
      "euclidean\n",
      "0 euclidean similarity calculation time :  2.6800394090000736\n",
      "predict calculation time :  1.2864943429999585\n",
      "1203.213881829441\n",
      "braycurtis\n",
      "canberra\n",
      "0 canberra similarity calculation time :  3.8192302300000165\n"
     ]
    },
    {
     "name": "stderr",
     "output_type": "stream",
     "text": [
      "/var/folders/7f/vp4rxn4s03db1tvmq1976xx80000gp/T/ipykernel_25732/2645572126.py:23: RuntimeWarning: divide by zero encountered in double_scalars\n",
      "  preds[row] = np.dot(list_of_rating,list_of_movies)/np.dot(list_of_movies,list_of_rating>0)\n"
     ]
    },
    {
     "name": "stdout",
     "output_type": "stream",
     "text": [
      "predict calculation time :  0.9841306579999127\n",
      "inf\n",
      "chebyshev\n",
      "0 chebyshev similarity calculation time :  2.56946270800006\n"
     ]
    },
    {
     "name": "stderr",
     "output_type": "stream",
     "text": [
      "/var/folders/7f/vp4rxn4s03db1tvmq1976xx80000gp/T/ipykernel_25732/2645572126.py:23: RuntimeWarning: divide by zero encountered in double_scalars\n",
      "  preds[row] = np.dot(list_of_rating,list_of_movies)/np.dot(list_of_movies,list_of_rating>0)\n",
      "/var/folders/7f/vp4rxn4s03db1tvmq1976xx80000gp/T/ipykernel_25732/2645572126.py:23: RuntimeWarning: invalid value encountered in double_scalars\n",
      "  preds[row] = np.dot(list_of_rating,list_of_movies)/np.dot(list_of_movies,list_of_rating>0)\n"
     ]
    },
    {
     "name": "stdout",
     "output_type": "stream",
     "text": [
      "predict calculation time :  1.0300247760000047\n",
      "inf\n",
      "correlation\n",
      "0 correlation similarity calculation time :  3.1245951869999544\n",
      "predict calculation time :  1.068777076999936\n",
      "1.1583514403101687\n",
      "seuclidean\n",
      "0 seuclidean similarity calculation time :  3.474001199999975\n",
      "predict calculation time :  0.9981902749999563\n",
      "1.1472158876468186\n",
      "sqeuclidean\n",
      "0 sqeuclidean similarity calculation time :  2.7165361300000086\n"
     ]
    },
    {
     "name": "stderr",
     "output_type": "stream",
     "text": [
      "/var/folders/7f/vp4rxn4s03db1tvmq1976xx80000gp/T/ipykernel_25732/2645572126.py:23: RuntimeWarning: divide by zero encountered in double_scalars\n",
      "  preds[row] = np.dot(list_of_rating,list_of_movies)/np.dot(list_of_movies,list_of_rating>0)\n"
     ]
    },
    {
     "name": "stdout",
     "output_type": "stream",
     "text": [
      "predict calculation time :  0.993820626999991\n",
      "inf\n"
     ]
    }
   ],
   "source": [
    "# let's determin the best singular model - loop through each feature set dict and distance function list\n",
    "single_item_sim_models = {}\n",
    "\n",
    "for name,sim in cat_features.items():\n",
    "    print(name)\n",
    "    single_item_sim_models[name]=single_item_sim_models.get(name,{})\n",
    "    for dist in list(bool_distances):\n",
    "        print(dist)\n",
    "        try:\n",
    "            single_item_sim_models[name][dist] = run_model({0:[sim,str(dist)]})\n",
    "        except Exception as e:\n",
    "            single_item_sim_models[name][dist]=f'''{str(e.__class__.__name__)}'''\n",
    "\n",
    "for name,sim in num_features.items():\n",
    "    print(name)\n",
    "    single_item_sim_models[name]=single_item_sim_models.get(name,{})\n",
    "    for dist in list(num_distances):\n",
    "        print(dist)\n",
    "        try:\n",
    "            single_item_sim_models[name][dist] = run_model({0:[sim,str(dist)]})\n",
    "        except Exception as e:\n",
    "            single_item_sim_models[name][dist]=f'''{str(e.__class__.__name__)}'''\n"
   ]
  },
  {
   "cell_type": "code",
   "execution_count": 30,
   "id": "41783bc0-7676-4b9e-b11c-dbb7be45cb63",
   "metadata": {},
   "outputs": [
    {
     "data": {
      "text/html": [
       "<div>\n",
       "<style scoped>\n",
       "    .dataframe tbody tr th:only-of-type {\n",
       "        vertical-align: middle;\n",
       "    }\n",
       "\n",
       "    .dataframe tbody tr th {\n",
       "        vertical-align: top;\n",
       "    }\n",
       "\n",
       "    .dataframe thead th {\n",
       "        text-align: right;\n",
       "    }\n",
       "</style>\n",
       "<table border=\"1\" class=\"dataframe\">\n",
       "  <thead>\n",
       "    <tr style=\"text-align: right;\">\n",
       "      <th></th>\n",
       "      <th>r</th>\n",
       "      <th>g</th>\n",
       "      <th>ab</th>\n",
       "      <th>an</th>\n",
       "      <th>p</th>\n",
       "      <th>t</th>\n",
       "    </tr>\n",
       "  </thead>\n",
       "  <tbody>\n",
       "    <tr>\n",
       "      <th>dice</th>\n",
       "      <td>0.919430</td>\n",
       "      <td>0.920107</td>\n",
       "      <td>0.943601</td>\n",
       "      <td>NaN</td>\n",
       "      <td>NaN</td>\n",
       "      <td>NaN</td>\n",
       "    </tr>\n",
       "    <tr>\n",
       "      <th>hamming</th>\n",
       "      <td>0.943355</td>\n",
       "      <td>0.940900</td>\n",
       "      <td>0.943850</td>\n",
       "      <td>NaN</td>\n",
       "      <td>NaN</td>\n",
       "      <td>NaN</td>\n",
       "    </tr>\n",
       "    <tr>\n",
       "      <th>yule</th>\n",
       "      <td>inf</td>\n",
       "      <td>inf</td>\n",
       "      <td>0.944324</td>\n",
       "      <td>NaN</td>\n",
       "      <td>NaN</td>\n",
       "      <td>NaN</td>\n",
       "    </tr>\n",
       "    <tr>\n",
       "      <th>jaccard</th>\n",
       "      <td>0.889523</td>\n",
       "      <td>0.918270</td>\n",
       "      <td>0.943594</td>\n",
       "      <td>NaN</td>\n",
       "      <td>NaN</td>\n",
       "      <td>NaN</td>\n",
       "    </tr>\n",
       "    <tr>\n",
       "      <th>cosine</th>\n",
       "      <td>1.158351</td>\n",
       "      <td>NaN</td>\n",
       "      <td>NaN</td>\n",
       "      <td>0.943733</td>\n",
       "      <td>1.158351</td>\n",
       "      <td>1.158351</td>\n",
       "    </tr>\n",
       "    <tr>\n",
       "      <th>euclidean</th>\n",
       "      <td>0.970071</td>\n",
       "      <td>NaN</td>\n",
       "      <td>NaN</td>\n",
       "      <td>1.037114</td>\n",
       "      <td>1.237482</td>\n",
       "      <td>1203.213882</td>\n",
       "    </tr>\n",
       "    <tr>\n",
       "      <th>braycurtis</th>\n",
       "      <td>0.909868</td>\n",
       "      <td>NaN</td>\n",
       "      <td>NaN</td>\n",
       "      <td>0.910679</td>\n",
       "      <td>inf</td>\n",
       "      <td>ValueError</td>\n",
       "    </tr>\n",
       "    <tr>\n",
       "      <th>canberra</th>\n",
       "      <td>0.980803</td>\n",
       "      <td>NaN</td>\n",
       "      <td>NaN</td>\n",
       "      <td>417.955247</td>\n",
       "      <td>inf</td>\n",
       "      <td>inf</td>\n",
       "    </tr>\n",
       "    <tr>\n",
       "      <th>chebyshev</th>\n",
       "      <td>0.950053</td>\n",
       "      <td>NaN</td>\n",
       "      <td>NaN</td>\n",
       "      <td>1.037366</td>\n",
       "      <td>inf</td>\n",
       "      <td>inf</td>\n",
       "    </tr>\n",
       "    <tr>\n",
       "      <th>correlation</th>\n",
       "      <td>1.158351</td>\n",
       "      <td>NaN</td>\n",
       "      <td>NaN</td>\n",
       "      <td>0.943725</td>\n",
       "      <td>1.158351</td>\n",
       "      <td>1.158351</td>\n",
       "    </tr>\n",
       "    <tr>\n",
       "      <th>seuclidean</th>\n",
       "      <td>0.972484</td>\n",
       "      <td>NaN</td>\n",
       "      <td>NaN</td>\n",
       "      <td>1.112606</td>\n",
       "      <td>1.158351</td>\n",
       "      <td>1.147216</td>\n",
       "    </tr>\n",
       "    <tr>\n",
       "      <th>sqeuclidean</th>\n",
       "      <td>1.001075</td>\n",
       "      <td>NaN</td>\n",
       "      <td>NaN</td>\n",
       "      <td>1.148219</td>\n",
       "      <td>inf</td>\n",
       "      <td>inf</td>\n",
       "    </tr>\n",
       "  </tbody>\n",
       "</table>\n",
       "</div>"
      ],
      "text/plain": [
       "                    r         g        ab          an         p            t\n",
       "dice         0.919430  0.920107  0.943601         NaN       NaN          NaN\n",
       "hamming      0.943355  0.940900  0.943850         NaN       NaN          NaN\n",
       "yule              inf       inf  0.944324         NaN       NaN          NaN\n",
       "jaccard      0.889523  0.918270  0.943594         NaN       NaN          NaN\n",
       "cosine       1.158351       NaN       NaN    0.943733  1.158351     1.158351\n",
       "euclidean    0.970071       NaN       NaN    1.037114  1.237482  1203.213882\n",
       "braycurtis   0.909868       NaN       NaN    0.910679       inf   ValueError\n",
       "canberra     0.980803       NaN       NaN  417.955247       inf          inf\n",
       "chebyshev    0.950053       NaN       NaN    1.037366       inf          inf\n",
       "correlation  1.158351       NaN       NaN    0.943725  1.158351     1.158351\n",
       "seuclidean   0.972484       NaN       NaN    1.112606  1.158351     1.147216\n",
       "sqeuclidean  1.001075       NaN       NaN    1.148219       inf          inf"
      ]
     },
     "execution_count": 30,
     "metadata": {},
     "output_type": "execute_result"
    }
   ],
   "source": [
    "# let's take the best of each sitance results and try out the different combinations\n",
    "single_results = pd.DataFrame.from_dict(single_item_sim_models)\n",
    "single_results"
   ]
  },
  {
   "cell_type": "markdown",
   "id": "ad81e1d6-c536-4e65-b082-6d860aaeb103",
   "metadata": {
    "tags": []
   },
   "source": [
    "### Discussion:\n",
    "\n",
    "The above table shows us that not all distance metrics are applicable and that the jaccard similarity for the ratings matrix is our best single model. Let's see if any combinations can make the score better!\n",
    "\n",
    "Since the tags don't seem to help, we will exclude them. We could however change our PCA, or add all tags, in order to improve this. But we will move on.\n"
   ]
  },
  {
   "cell_type": "markdown",
   "id": "eeac2a9e-6da4-47c8-91d0-d1035ab594a6",
   "metadata": {
    "tags": []
   },
   "source": [
    "## Step 6 : Find the best combined model set - forward selection approach"
   ]
  },
  {
   "cell_type": "code",
   "execution_count": 31,
   "id": "f99a796b-5d99-41d1-928b-08e983d1ca64",
   "metadata": {},
   "outputs": [
    {
     "name": "stdout",
     "output_type": "stream",
     "text": [
      "r jaccard similarity calculation time :  21.59389110799998\n",
      "an braycurtis similarity calculation time :  2.4597866949999343\n"
     ]
    },
    {
     "name": "stderr",
     "output_type": "stream",
     "text": [
      "/var/folders/7f/vp4rxn4s03db1tvmq1976xx80000gp/T/ipykernel_25732/2645572126.py:23: RuntimeWarning: invalid value encountered in double_scalars\n",
      "  preds[row] = np.dot(list_of_rating,list_of_movies)/np.dot(list_of_movies,list_of_rating>0)\n"
     ]
    },
    {
     "name": "stdout",
     "output_type": "stream",
     "text": [
      "predict calculation time :  1.0541072319999785\n",
      "0.8804253779067628\n"
     ]
    },
    {
     "data": {
      "text/plain": [
       "0.8804253779067628"
      ]
     },
     "execution_count": 31,
     "metadata": {},
     "output_type": "execute_result"
    }
   ],
   "source": [
    "best_features = {\n",
    "    'r':[train_ratings_mr.T,single_results['r'].idxmin(axis=0)],\n",
    "    'an':[convert_df_for_sim(attr_nums),single_results['an'].idxmin(axis=0)],\n",
    "}\n",
    "\n",
    "run_model(best_features)"
   ]
  },
  {
   "cell_type": "code",
   "execution_count": 32,
   "id": "e12ad714-3f94-41f7-9091-48696d105998",
   "metadata": {},
   "outputs": [
    {
     "name": "stdout",
     "output_type": "stream",
     "text": [
      "r jaccard similarity calculation time :  22.033449020000035\n",
      "ab jaccard similarity calculation time :  2.690447488000018\n"
     ]
    },
    {
     "name": "stderr",
     "output_type": "stream",
     "text": [
      "/var/folders/7f/vp4rxn4s03db1tvmq1976xx80000gp/T/ipykernel_25732/2645572126.py:23: RuntimeWarning: invalid value encountered in double_scalars\n",
      "  preds[row] = np.dot(list_of_rating,list_of_movies)/np.dot(list_of_movies,list_of_rating>0)\n"
     ]
    },
    {
     "name": "stdout",
     "output_type": "stream",
     "text": [
      "predict calculation time :  1.2892927209999243\n",
      "0.8739275697445853\n"
     ]
    },
    {
     "data": {
      "text/plain": [
       "0.8739275697445853"
      ]
     },
     "execution_count": 32,
     "metadata": {},
     "output_type": "execute_result"
    }
   ],
   "source": [
    "best_features = {\n",
    "    'r':[train_ratings_mr.T,single_results['r'].idxmin(axis=0)],\n",
    "    'ab':[convert_df_for_sim(attr_nums),single_results['ab'].idxmin(axis=0)],\n",
    "}\n",
    "\n",
    "run_model(best_features)"
   ]
  },
  {
   "cell_type": "code",
   "execution_count": 33,
   "id": "ac933f87-edbd-462a-8907-dadd521c3c84",
   "metadata": {},
   "outputs": [
    {
     "name": "stdout",
     "output_type": "stream",
     "text": [
      "r jaccard similarity calculation time :  21.693341049999958\n",
      "g jaccard similarity calculation time :  2.892726186999994\n"
     ]
    },
    {
     "name": "stderr",
     "output_type": "stream",
     "text": [
      "/var/folders/7f/vp4rxn4s03db1tvmq1976xx80000gp/T/ipykernel_25732/2645572126.py:23: RuntimeWarning: invalid value encountered in double_scalars\n",
      "  preds[row] = np.dot(list_of_rating,list_of_movies)/np.dot(list_of_movies,list_of_rating>0)\n"
     ]
    },
    {
     "name": "stdout",
     "output_type": "stream",
     "text": [
      "predict calculation time :  1.0380796509999755\n",
      "0.8794473421170818\n"
     ]
    },
    {
     "data": {
      "text/plain": [
       "0.8794473421170818"
      ]
     },
     "execution_count": 33,
     "metadata": {},
     "output_type": "execute_result"
    }
   ],
   "source": [
    "best_features = {\n",
    "    'r':[train_ratings_mr.T,single_results['r'].idxmin(axis=0)],\n",
    "    'g':[convert_df_for_sim(genres_df),single_results['g'].idxmin(axis=0)],\n",
    "}\n",
    "\n",
    "run_model(best_features)"
   ]
  },
  {
   "cell_type": "code",
   "execution_count": 34,
   "id": "6e6c3622-54c9-4874-ab2f-42df7daf4c86",
   "metadata": {},
   "outputs": [
    {
     "name": "stdout",
     "output_type": "stream",
     "text": [
      "r jaccard similarity calculation time :  21.59774762799998\n",
      "g jaccard similarity calculation time :  2.8789346830000113\n",
      "an braycurtis similarity calculation time :  2.3881458800000246\n"
     ]
    },
    {
     "name": "stderr",
     "output_type": "stream",
     "text": [
      "/var/folders/7f/vp4rxn4s03db1tvmq1976xx80000gp/T/ipykernel_25732/2645572126.py:23: RuntimeWarning: invalid value encountered in double_scalars\n",
      "  preds[row] = np.dot(list_of_rating,list_of_movies)/np.dot(list_of_movies,list_of_rating>0)\n"
     ]
    },
    {
     "name": "stdout",
     "output_type": "stream",
     "text": [
      "predict calculation time :  0.9860217629999397\n",
      "0.8741658261562708\n"
     ]
    },
    {
     "data": {
      "text/plain": [
       "0.8741658261562708"
      ]
     },
     "execution_count": 34,
     "metadata": {},
     "output_type": "execute_result"
    }
   ],
   "source": [
    "best_features = {\n",
    "    'r':[train_ratings_mr.T,single_results['r'].idxmin(axis=0)],\n",
    "    'g':[convert_df_for_sim(genres_df),single_results['g'].idxmin(axis=0)],\n",
    "    'an':[convert_df_for_sim(attr_nums),single_results['an'].idxmin(axis=0)],\n",
    "}\n",
    "\n",
    "run_model(best_features)"
   ]
  },
  {
   "cell_type": "code",
   "execution_count": 35,
   "id": "1154769b-9929-4856-ba67-e8b2891f16e2",
   "metadata": {},
   "outputs": [
    {
     "name": "stdout",
     "output_type": "stream",
     "text": [
      "r jaccard similarity calculation time :  21.344860605999997\n",
      "g jaccard similarity calculation time :  2.764070265999976\n",
      "ab jaccard similarity calculation time :  2.5158958020000455\n",
      "an braycurtis similarity calculation time :  2.480855272000099\n"
     ]
    },
    {
     "name": "stderr",
     "output_type": "stream",
     "text": [
      "/var/folders/7f/vp4rxn4s03db1tvmq1976xx80000gp/T/ipykernel_25732/2645572126.py:23: RuntimeWarning: invalid value encountered in double_scalars\n",
      "  preds[row] = np.dot(list_of_rating,list_of_movies)/np.dot(list_of_movies,list_of_rating>0)\n"
     ]
    },
    {
     "name": "stdout",
     "output_type": "stream",
     "text": [
      "predict calculation time :  1.120137366999984\n",
      "0.874579311205187\n"
     ]
    },
    {
     "data": {
      "text/plain": [
       "0.874579311205187"
      ]
     },
     "execution_count": 35,
     "metadata": {},
     "output_type": "execute_result"
    }
   ],
   "source": [
    "best_features = {\n",
    "    'r':[train_ratings_mr.T,single_results['r'].idxmin(axis=0)],\n",
    "    'g':[convert_df_for_sim(genres_df),single_results['g'].idxmin(axis=0)],\n",
    "    'ab':[convert_df_for_sim(attr_bool),single_results['ab'].idxmin(axis=0)],\n",
    "    'an':[convert_df_for_sim(attr_nums),single_results['an'].idxmin(axis=0)],\n",
    "}\n",
    "\n",
    "run_model(best_features)"
   ]
  },
  {
   "cell_type": "code",
   "execution_count": 36,
   "id": "fb9b8ffb-f40c-440c-89cc-9883d7eec872",
   "metadata": {},
   "outputs": [
    {
     "name": "stdout",
     "output_type": "stream",
     "text": [
      "r jaccard similarity calculation time :  21.651486787999943\n",
      "g jaccard similarity calculation time :  2.9755096640001284\n",
      "ab jaccard similarity calculation time :  2.4976235980000183\n",
      "an braycurtis similarity calculation time :  2.3998979919999783\n",
      "p cosine similarity calculation time :  3.101136760000145\n",
      "predict calculation time :  0.9874382819998573\n",
      "1.1583514403101687\n"
     ]
    },
    {
     "data": {
      "text/plain": [
       "1.1583514403101687"
      ]
     },
     "execution_count": 36,
     "metadata": {},
     "output_type": "execute_result"
    }
   ],
   "source": [
    "best_features = {\n",
    "    'r':[train_ratings_mr.T,single_results['r'].idxmin(axis=0)],\n",
    "    'g':[convert_df_for_sim(genres_df),single_results['g'].idxmin(axis=0)],\n",
    "    'ab':[convert_df_for_sim(attr_bool),single_results['ab'].idxmin(axis=0)],\n",
    "    'an':[convert_df_for_sim(attr_nums),single_results['an'].idxmin(axis=0)],\n",
    "    'p':[convert_df_for_sim(imdb_has_people_pca),single_results['p'].idxmin(axis=0)]\n",
    "    \n",
    "}\n",
    "\n",
    "run_model(best_features)"
   ]
  },
  {
   "cell_type": "markdown",
   "id": "9d713862-5843-453c-b9a8-ac9fb29d55d1",
   "metadata": {
    "tags": []
   },
   "source": [
    "### Discussion:\n",
    "\n",
    "That's a lot of printouts! I could have added automation here, but i'm so burnt out. I came, I learned, I concured what I set out to do.\n",
    "\n",
    "**I used a Forward Selection Technique** to manually check which combinations of the best single distance metrics give the best over all results. Here we can see that the best model involves :\n",
    "- Training ratings matrix (train_ratings_mr)\n",
    "- IMDb boolean attributes (attr_nums)\n",
    "\n",
    "This was an interesting finding. It seems that format matters ...  \n",
    "\n",
    "I was really hoping the IMDb Crew feature set would make the list becasue, to me, it's one of the more important recommendation relevant pieces. \n"
   ]
  },
  {
   "cell_type": "markdown",
   "id": "830c91ed-2b1e-4fa2-bf72-a822478b8279",
   "metadata": {
    "tags": []
   },
   "source": [
    "## Step 7 : Make a Recommendation"
   ]
  },
  {
   "cell_type": "code",
   "execution_count": 54,
   "id": "a7036e5b-e8f6-41d4-994e-99cc419da9d0",
   "metadata": {},
   "outputs": [
    {
     "name": "stdout",
     "output_type": "stream",
     "text": [
      "r jaccard similarity calculation time :  21.63689882799963\n",
      "ab jaccard similarity calculation time :  2.633305307000228\n"
     ]
    },
    {
     "name": "stderr",
     "output_type": "stream",
     "text": [
      "/var/folders/7f/vp4rxn4s03db1tvmq1976xx80000gp/T/ipykernel_25732/1911664478.py:23: RuntimeWarning: invalid value encountered in double_scalars\n",
      "  preds[row] = np.dot(list_of_rating,list_of_movies)/np.dot(list_of_movies,list_of_rating>0)\n"
     ]
    },
    {
     "name": "stdout",
     "output_type": "stream",
     "text": [
      "predict calculation time :  1.0276797219999025\n"
     ]
    }
   ],
   "source": [
    "best_score = {\n",
    "    'r':[train_ratings_mr.T,'jaccard'],\n",
    "    'ab':[convert_df_for_sim(attr_nums),'jaccard'],\n",
    "}\n",
    "score_item_sim = make_hybrid_sim(best_score)\n",
    "score_predicted_ratings = predict(score_item_sim)"
   ]
  },
  {
   "cell_type": "code",
   "execution_count": 60,
   "id": "50dd9077-6d04-447a-a014-281f651ca9d4",
   "metadata": {},
   "outputs": [
    {
     "name": "stdout",
     "output_type": "stream",
     "text": [
      "r jaccard similarity calculation time :  22.978474770000048\n",
      "g jaccard similarity calculation time :  3.186868673999925\n",
      "ab jaccard similarity calculation time :  2.6598049809999793\n",
      "an braycurtis similarity calculation time :  2.482857048999904\n",
      "p seuclidean similarity calculation time :  3.752849141000297\n",
      "t seuclidean similarity calculation time :  3.895839892999902\n",
      "predict calculation time :  1.2037724220003838\n"
     ]
    }
   ],
   "source": [
    "best_logic = {\n",
    "    'r':[train_ratings_mr.T,'jaccard'],\n",
    "    'g':[convert_df_for_sim(genres_df),'jaccard'],\n",
    "    'ab':[convert_df_for_sim(attr_bool),'jaccard'],\n",
    "    'an':[convert_df_for_sim(attr_nums),'braycurtis'],\n",
    "    'p':[convert_df_for_sim(imdb_has_people_pca),'seuclidean'],\n",
    "    't':[convert_df_for_sim(imdb_has_people_pca),'seuclidean'],\n",
    "}\n",
    "logic_item_sim = make_hybrid_sim(best_logic)\n",
    "logic_predicted_ratings = predict(logic_item_sim)"
   ]
  },
  {
   "cell_type": "code",
   "execution_count": 61,
   "id": "b0b00b0d-7d9b-4d58-81a8-ff5292f2b6a5",
   "metadata": {},
   "outputs": [],
   "source": [
    "def recommend(sample_user,top,predicted_ratings):\n",
    "    movies_rated = train_r.sort_values(by='rating',ascending=False).join(movies,on='item')\n",
    "    movies_recommended = test_r.reset_index(drop=True).join(pd.Series(predicted_ratings,name='pred_rating'))\n",
    "    movies_recommended = movies_recommended.sort_values(by='pred_rating',ascending=False).join(movies,on='item')\n",
    "    print(f\"\"\"Top {top} Rated Movies for user {sample_user}\"\"\")\n",
    "    print(movies_rated[movies_rated['user']==sample_user][['title']].head(top))\n",
    "    print('')\n",
    "    print(f\"\"\"Top {top} Recommendations for user {sample_user}\"\"\")\n",
    "    print(movies_recommended[movies_recommended['user']==sample_user][['title']].head(top))\n",
    "    "
   ]
  },
  {
   "cell_type": "code",
   "execution_count": 64,
   "id": "c6d4c46c-8cc7-4bca-ba13-2754835c7407",
   "metadata": {},
   "outputs": [
    {
     "name": "stdout",
     "output_type": "stream",
     "text": [
      "Top 10 Rated Movies for user 453\n",
      "                                           title\n",
      "70875  Naked Gun 33 1/3: The Final Insult (1994)\n",
      "70953                   Big Lebowski, The (1998)\n",
      "70947                    Truman Show, The (1998)\n",
      "71138                   Beautiful Mind, A (2001)\n",
      "70912     Monty Python and the Holy Grail (1975)\n",
      "70981                       Pleasantville (1998)\n",
      "70966                          Armageddon (1998)\n",
      "70866                           Quiz Show (1994)\n",
      "70926     Beavis and Butt-Head Do America (1996)\n",
      "71025                          Fight Club (1999)\n",
      "\n",
      "Top 10 Recommendations for user 453\n",
      "                                   title\n",
      "23694   Shawshank Redemption, The (1994)\n",
      "15211                     Aladdin (1992)\n",
      "7516                 Pulp Fiction (1994)\n",
      "29626                   Toy Story (1995)\n",
      "17027               Groundhog Day (1993)\n",
      "7718            Good Will Hunting (1997)\n",
      "29702            Sixth Sense, The (1999)\n",
      "11761                  Casablanca (1942)\n",
      "23819                 Matrix, The (1999)\n",
      "18297  Terminator 2: Judgment Day (1991)\n"
     ]
    }
   ],
   "source": [
    "\n",
    "recommend(453,10,score_predicted_ratings)"
   ]
  },
  {
   "cell_type": "code",
   "execution_count": 65,
   "id": "9620de0d-2f92-4c3f-9457-0729b956d506",
   "metadata": {},
   "outputs": [
    {
     "name": "stdout",
     "output_type": "stream",
     "text": [
      "Top 10 Rated Movies for user 453\n",
      "                                           title\n",
      "70875  Naked Gun 33 1/3: The Final Insult (1994)\n",
      "70953                   Big Lebowski, The (1998)\n",
      "70947                    Truman Show, The (1998)\n",
      "71138                   Beautiful Mind, A (2001)\n",
      "70912     Monty Python and the Holy Grail (1975)\n",
      "70981                       Pleasantville (1998)\n",
      "70966                          Armageddon (1998)\n",
      "70866                           Quiz Show (1994)\n",
      "70926     Beavis and Butt-Head Do America (1996)\n",
      "71025                          Fight Club (1999)\n",
      "\n",
      "Top 10 Recommendations for user 453\n",
      "                                                   title\n",
      "20449                   Men in Black (a.k.a. MIB) (1997)\n",
      "19179                There's Something About Mary (1998)\n",
      "19196                               Waterboy, The (1998)\n",
      "18938                So I Married an Axe Murderer (1993)\n",
      "19466                                Billy Elliot (2000)\n",
      "19502                                          Go (1999)\n",
      "21800                                       Blade (1998)\n",
      "21565                           Conspiracy Theory (1997)\n",
      "21609  Legend of Drunken Master, The (Jui kuen II) (1...\n",
      "21737                                Insider, The (1999)\n"
     ]
    }
   ],
   "source": [
    "recommend(453,10,logic_predicted_ratings)"
   ]
  },
  {
   "cell_type": "markdown",
   "id": "59751398-287c-4941-9519-2a5e579c7cda",
   "metadata": {
    "tags": []
   },
   "source": [
    "### Discussion:\n",
    "\n",
    "Look at that, two recommendations: \n",
    "1. The one using the \"best model\" (the one with the lowest error) produced pretty bland and objectively wrong recommendations. \n",
    "2. the one with inclusivity of all the feature sets produced a list of recommendations that look a lot better when you think about the actual movies in each top 5, in my opinion. "
   ]
  },
  {
   "cell_type": "markdown",
   "id": "15ccd635-f1ab-4779-92bc-c5ca42a3ed75",
   "metadata": {
    "tags": []
   },
   "source": [
    "## Step 8 : Discussion / Overall Conclusion\n",
    "\n",
    "Overall, we have here a model which allows us to pick the features we want to use to recommend the next movie to watch. At the end of the day it's pretty straight forward: When a user has already provided some ratings (no cold start), we can find other similarly rated movies and recommend them. The movie similarity is where the hybrid name comes in as we join multiple similarity scores.\n",
    "\n",
    "### Learning and takeaways :\n",
    "\n",
    "Data is hard when it's hard! I am used to working in pandas and spreadsheets. Changing my mental perception to COO format was a learning curve that I discovered late in the game.\n",
    "\n",
    "\n",
    "### What didn’t work :\n",
    "\n",
    "Using other users ratings to create a user-user similarity matrix to incorporate here. The idea was realted to the probablitity that a movie is a relevant recommendation becuase others like me liked them. I'm still confident this can work, I just ran out of steam.\n",
    "\n",
    "\n",
    "### Ways to improve : \n",
    "\n",
    "I could expore and utilize skLearns pipeline libraries to see if that automation I did could be outsourced. I spent so much time on the algo efficiency that there was much time left to figure the best pipeline.\n",
    "\n",
    "I could also turn the various feature sets themselves. at the moment when we put them together we treat them all with equal weight. All features inside a set and given the same weight and all sets are given the same weight to eachother.\n",
    "\n"
   ]
  },
  {
   "cell_type": "code",
   "execution_count": null,
   "id": "f5201042-f847-453f-9495-3ee759c6a617",
   "metadata": {},
   "outputs": [],
   "source": []
  },
  {
   "cell_type": "code",
   "execution_count": null,
   "id": "8a5673f1-9907-4704-862a-51414f90a2d9",
   "metadata": {},
   "outputs": [],
   "source": []
  }
 ],
 "metadata": {
  "kernelspec": {
   "display_name": "Python 3 (ipykernel)",
   "language": "python",
   "name": "python3"
  },
  "language_info": {
   "codemirror_mode": {
    "name": "ipython",
    "version": 3
   },
   "file_extension": ".py",
   "mimetype": "text/x-python",
   "name": "python",
   "nbconvert_exporter": "python",
   "pygments_lexer": "ipython3",
   "version": "3.9.12"
  }
 },
 "nbformat": 4,
 "nbformat_minor": 5
}
